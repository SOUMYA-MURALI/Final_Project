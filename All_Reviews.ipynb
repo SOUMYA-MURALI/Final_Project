{
 "cells": [
  {
   "cell_type": "code",
   "execution_count": 1,
   "metadata": {},
   "outputs": [],
   "source": [
    "import pandas as pd\n",
    "import numpy as np\n",
    "import matplotlib.pyplot as plt\n",
    "import seaborn as sns\n",
    "%matplotlib inline\n",
    "\n",
    "import os"
   ]
  },
  {
   "cell_type": "code",
   "execution_count": 2,
   "metadata": {},
   "outputs": [
    {
     "data": {
      "text/html": [
       "<div>\n",
       "<style scoped>\n",
       "    .dataframe tbody tr th:only-of-type {\n",
       "        vertical-align: middle;\n",
       "    }\n",
       "\n",
       "    .dataframe tbody tr th {\n",
       "        vertical-align: top;\n",
       "    }\n",
       "\n",
       "    .dataframe thead th {\n",
       "        text-align: right;\n",
       "    }\n",
       "</style>\n",
       "<table border=\"1\" class=\"dataframe\">\n",
       "  <thead>\n",
       "    <tr style=\"text-align: right;\">\n",
       "      <th></th>\n",
       "      <th>listing_id</th>\n",
       "      <th>id</th>\n",
       "      <th>date</th>\n",
       "      <th>reviewer_id</th>\n",
       "      <th>reviewer_name</th>\n",
       "      <th>comments</th>\n",
       "    </tr>\n",
       "  </thead>\n",
       "  <tbody>\n",
       "    <tr>\n",
       "      <th>0</th>\n",
       "      <td>44077</td>\n",
       "      <td>203703</td>\n",
       "      <td>3/20/2011</td>\n",
       "      <td>393348</td>\n",
       "      <td>Christian</td>\n",
       "      <td>We enjoyed our stay very much. The room was co...</td>\n",
       "    </tr>\n",
       "    <tr>\n",
       "      <th>1</th>\n",
       "      <td>44077</td>\n",
       "      <td>211369</td>\n",
       "      <td>3/28/2011</td>\n",
       "      <td>444004</td>\n",
       "      <td>Solidea</td>\n",
       "      <td>We have been here 4 nights. Stay in a home is ...</td>\n",
       "    </tr>\n",
       "    <tr>\n",
       "      <th>2</th>\n",
       "      <td>44077</td>\n",
       "      <td>234215</td>\n",
       "      <td>4/21/2011</td>\n",
       "      <td>465058</td>\n",
       "      <td>Michael And Isabelle</td>\n",
       "      <td>Teresa and Hughie were great hosts. They were ...</td>\n",
       "    </tr>\n",
       "    <tr>\n",
       "      <th>3</th>\n",
       "      <td>44077</td>\n",
       "      <td>261843</td>\n",
       "      <td>5/13/2011</td>\n",
       "      <td>490005</td>\n",
       "      <td>Weston</td>\n",
       "      <td>No surprises, was as described.  Very gracious...</td>\n",
       "    </tr>\n",
       "    <tr>\n",
       "      <th>4</th>\n",
       "      <td>44077</td>\n",
       "      <td>268148</td>\n",
       "      <td>5/17/2011</td>\n",
       "      <td>520460</td>\n",
       "      <td>Barbara</td>\n",
       "      <td>Teresa was a lovely hostess, and we had a deli...</td>\n",
       "    </tr>\n",
       "  </tbody>\n",
       "</table>\n",
       "</div>"
      ],
      "text/plain": [
       "   listing_id      id       date  reviewer_id         reviewer_name  \\\n",
       "0       44077  203703  3/20/2011       393348             Christian   \n",
       "1       44077  211369  3/28/2011       444004               Solidea   \n",
       "2       44077  234215  4/21/2011       465058  Michael And Isabelle   \n",
       "3       44077  261843  5/13/2011       490005                Weston   \n",
       "4       44077  268148  5/17/2011       520460               Barbara   \n",
       "\n",
       "                                            comments  \n",
       "0  We enjoyed our stay very much. The room was co...  \n",
       "1  We have been here 4 nights. Stay in a home is ...  \n",
       "2  Teresa and Hughie were great hosts. They were ...  \n",
       "3  No surprises, was as described.  Very gracious...  \n",
       "4  Teresa was a lovely hostess, and we had a deli...  "
      ]
     },
     "execution_count": 2,
     "metadata": {},
     "output_type": "execute_result"
    }
   ],
   "source": [
    "df_all = pd.read_csv('reviews.csv',encoding = 'unicode_escape')\n",
    "df_all.head()"
   ]
  },
  {
   "cell_type": "code",
   "execution_count": 3,
   "metadata": {},
   "outputs": [
    {
     "data": {
      "text/plain": [
       "listing_id       359110\n",
       "id               359110\n",
       "date             359110\n",
       "reviewer_id      359110\n",
       "reviewer_name    359110\n",
       "comments         359110\n",
       "dtype: int64"
      ]
     },
     "execution_count": 3,
     "metadata": {},
     "output_type": "execute_result"
    }
   ],
   "source": [
    "df_all = df_all.dropna(how=\"any\")\n",
    "df_all.count()"
   ]
  },
  {
   "cell_type": "code",
   "execution_count": 4,
   "metadata": {},
   "outputs": [],
   "source": [
    "df_all['comments'] = df_all['comments'].apply(lambda row: row.encode('ascii',errors='ignore').decode())"
   ]
  },
  {
   "cell_type": "code",
   "execution_count": 5,
   "metadata": {},
   "outputs": [],
   "source": [
    "### nltk and string transformations\n",
    "from nltk import tokenize\n",
    "from nltk.sentiment.vader import SentimentIntensityAnalyzer\n",
    "import string\n",
    "\n",
    "### sklearn\n",
    "from sklearn.model_selection import train_test_split\n",
    "\n",
    "from sklearn.feature_extraction.text import TfidfVectorizer\n",
    "from sklearn.naive_bayes import MultinomialNB\n",
    "from sklearn.ensemble import RandomForestClassifier\n",
    "\n",
    "from sklearn.metrics import confusion_matrix, accuracy_score\n",
    "import nltk\n",
    "# nltk.download('vader_lexicon')\n",
    "\n",
    "### numpy for seed.  \n",
    "import numpy as np\n",
    "from numpy import random\n",
    "\n",
    "SEED = 1234\n",
    "\n",
    "random.seed(SEED)"
   ]
  },
  {
   "cell_type": "code",
   "execution_count": 6,
   "metadata": {},
   "outputs": [],
   "source": [
    "### Define simple space tokenizer\n",
    "translator = str.maketrans('', '', string.punctuation)\n",
    "tk = tokenize.simple.SpaceTokenizer()"
   ]
  },
  {
   "cell_type": "code",
   "execution_count": 7,
   "metadata": {},
   "outputs": [],
   "source": [
    "# Creates the polarity rating for the reviews\n",
    "analyzer = SentimentIntensityAnalyzer()\n",
    "\n",
    "df_all['polarity_score']=df_all['comments'].apply(lambda x : str(analyzer.polarity_scores(x)[\"compound\"]))"
   ]
  },
  {
   "cell_type": "code",
   "execution_count": 8,
   "metadata": {},
   "outputs": [],
   "source": [
    "df_all['class'] = df_all['polarity_score'].astype(float).apply(lambda x : 'positive' if x > 0.500 else 'negative')\n",
    "\n",
    "class_names = ['Positive', 'Negative']"
   ]
  },
  {
   "cell_type": "code",
   "execution_count": 9,
   "metadata": {},
   "outputs": [],
   "source": [
    "df_all['polarity_class'] = df_all['polarity_score'].astype(float).apply(lambda x : 1 if x > 0.500 else 0)"
   ]
  },
  {
   "cell_type": "code",
   "execution_count": 10,
   "metadata": {},
   "outputs": [
    {
     "data": {
      "text/html": [
       "<div>\n",
       "<style scoped>\n",
       "    .dataframe tbody tr th:only-of-type {\n",
       "        vertical-align: middle;\n",
       "    }\n",
       "\n",
       "    .dataframe tbody tr th {\n",
       "        vertical-align: top;\n",
       "    }\n",
       "\n",
       "    .dataframe thead th {\n",
       "        text-align: right;\n",
       "    }\n",
       "</style>\n",
       "<table border=\"1\" class=\"dataframe\">\n",
       "  <thead>\n",
       "    <tr style=\"text-align: right;\">\n",
       "      <th></th>\n",
       "      <th>listing_id</th>\n",
       "      <th>id</th>\n",
       "      <th>date</th>\n",
       "      <th>reviewer_id</th>\n",
       "      <th>reviewer_name</th>\n",
       "      <th>comments</th>\n",
       "      <th>polarity_score</th>\n",
       "      <th>class</th>\n",
       "      <th>polarity_class</th>\n",
       "    </tr>\n",
       "  </thead>\n",
       "  <tbody>\n",
       "    <tr>\n",
       "      <th>0</th>\n",
       "      <td>44077</td>\n",
       "      <td>203703</td>\n",
       "      <td>3/20/2011</td>\n",
       "      <td>393348</td>\n",
       "      <td>Christian</td>\n",
       "      <td>We enjoyed our stay very much. The room was co...</td>\n",
       "      <td>0.9513</td>\n",
       "      <td>positive</td>\n",
       "      <td>1</td>\n",
       "    </tr>\n",
       "    <tr>\n",
       "      <th>1</th>\n",
       "      <td>44077</td>\n",
       "      <td>211369</td>\n",
       "      <td>3/28/2011</td>\n",
       "      <td>444004</td>\n",
       "      <td>Solidea</td>\n",
       "      <td>We have been here 4 nights. Stay in a home is ...</td>\n",
       "      <td>0.985</td>\n",
       "      <td>positive</td>\n",
       "      <td>1</td>\n",
       "    </tr>\n",
       "    <tr>\n",
       "      <th>2</th>\n",
       "      <td>44077</td>\n",
       "      <td>234215</td>\n",
       "      <td>4/21/2011</td>\n",
       "      <td>465058</td>\n",
       "      <td>Michael And Isabelle</td>\n",
       "      <td>Teresa and Hughie were great hosts. They were ...</td>\n",
       "      <td>0.9836</td>\n",
       "      <td>positive</td>\n",
       "      <td>1</td>\n",
       "    </tr>\n",
       "    <tr>\n",
       "      <th>3</th>\n",
       "      <td>44077</td>\n",
       "      <td>261843</td>\n",
       "      <td>5/13/2011</td>\n",
       "      <td>490005</td>\n",
       "      <td>Weston</td>\n",
       "      <td>No surprises, was as described.  Very gracious...</td>\n",
       "      <td>0.9447</td>\n",
       "      <td>positive</td>\n",
       "      <td>1</td>\n",
       "    </tr>\n",
       "    <tr>\n",
       "      <th>4</th>\n",
       "      <td>44077</td>\n",
       "      <td>268148</td>\n",
       "      <td>5/17/2011</td>\n",
       "      <td>520460</td>\n",
       "      <td>Barbara</td>\n",
       "      <td>Teresa was a lovely hostess, and we had a deli...</td>\n",
       "      <td>0.9835</td>\n",
       "      <td>positive</td>\n",
       "      <td>1</td>\n",
       "    </tr>\n",
       "  </tbody>\n",
       "</table>\n",
       "</div>"
      ],
      "text/plain": [
       "   listing_id      id       date  reviewer_id         reviewer_name  \\\n",
       "0       44077  203703  3/20/2011       393348             Christian   \n",
       "1       44077  211369  3/28/2011       444004               Solidea   \n",
       "2       44077  234215  4/21/2011       465058  Michael And Isabelle   \n",
       "3       44077  261843  5/13/2011       490005                Weston   \n",
       "4       44077  268148  5/17/2011       520460               Barbara   \n",
       "\n",
       "                                            comments polarity_score     class  \\\n",
       "0  We enjoyed our stay very much. The room was co...         0.9513  positive   \n",
       "1  We have been here 4 nights. Stay in a home is ...          0.985  positive   \n",
       "2  Teresa and Hughie were great hosts. They were ...         0.9836  positive   \n",
       "3  No surprises, was as described.  Very gracious...         0.9447  positive   \n",
       "4  Teresa was a lovely hostess, and we had a deli...         0.9835  positive   \n",
       "\n",
       "   polarity_class  \n",
       "0               1  \n",
       "1               1  \n",
       "2               1  \n",
       "3               1  \n",
       "4               1  "
      ]
     },
     "execution_count": 10,
     "metadata": {},
     "output_type": "execute_result"
    }
   ],
   "source": [
    "df_all.head()"
   ]
  },
  {
   "cell_type": "code",
   "execution_count": 11,
   "metadata": {},
   "outputs": [
    {
     "data": {
      "text/plain": [
       "positive    290954\n",
       "negative     68156\n",
       "Name: class, dtype: int64"
      ]
     },
     "execution_count": 11,
     "metadata": {},
     "output_type": "execute_result"
    }
   ],
   "source": [
    "count_review_all = df_all[\"class\"].value_counts()\n",
    "count_review_all"
   ]
  },
  {
   "cell_type": "code",
   "execution_count": 12,
   "metadata": {},
   "outputs": [
    {
     "data": {
      "image/png": "[encoded data removed]",
      "text/plain": [
       "<Figure size 432x288 with 1 Axes>"
      ]
     },
     "metadata": {},
     "output_type": "display_data"
    }
   ],
   "source": [
    "plt.pie(count_review_all, labels=class_names, autopct=\"%1.1f%%\", startangle=160)\n",
    "plt.title(\"All Reviews\")\n",
    "plt.show()"
   ]
  }
 ],
 "metadata": {
  "kernelspec": {
   "display_name": "Python 3",
   "language": "python",
   "name": "python3"
  },
  "language_info": {
   "codemirror_mode": {
    "name": "ipython",
    "version": 3
   },
   "file_extension": ".py",
   "mimetype": "text/x-python",
   "name": "python",
   "nbconvert_exporter": "python",
   "pygments_lexer": "ipython3",
   "version": "3.7.5"
  }
 },
 "nbformat": 4,
 "nbformat_minor": 2
}
