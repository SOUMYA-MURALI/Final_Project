{
 "cells": [
  {
   "cell_type": "code",
   "execution_count": 1,
   "metadata": {},
   "outputs": [],
   "source": [
    "import pandas as pd\n",
    "import numpy as np\n",
    "import matplotlib.pyplot as plt\n",
    "import seaborn as sns\n",
    "%matplotlib inline\n",
    "\n",
    "import os"
   ]
  },
  {
   "cell_type": "code",
   "execution_count": 2,
   "metadata": {},
   "outputs": [
    {
     "data": {
      "text/html": [
       "<div>\n",
       "<style scoped>\n",
       "    .dataframe tbody tr th:only-of-type {\n",
       "        vertical-align: middle;\n",
       "    }\n",
       "\n",
       "    .dataframe tbody tr th {\n",
       "        vertical-align: top;\n",
       "    }\n",
       "\n",
       "    .dataframe thead th {\n",
       "        text-align: right;\n",
       "    }\n",
       "</style>\n",
       "<table border=\"1\" class=\"dataframe\">\n",
       "  <thead>\n",
       "    <tr style=\"text-align: right;\">\n",
       "      <th></th>\n",
       "      <th>listing_id</th>\n",
       "      <th>comments</th>\n",
       "    </tr>\n",
       "  </thead>\n",
       "  <tbody>\n",
       "    <tr>\n",
       "      <th>0</th>\n",
       "      <td>292757</td>\n",
       "      <td>1 A location!</td>\n",
       "    </tr>\n",
       "    <tr>\n",
       "      <th>1</th>\n",
       "      <td>162809</td>\n",
       "      <td>1)Robbie is a gorgeous host with great hospita...</td>\n",
       "    </tr>\n",
       "    <tr>\n",
       "      <th>2</th>\n",
       "      <td>200979</td>\n",
       "      <td>A 5 star experience!</td>\n",
       "    </tr>\n",
       "    <tr>\n",
       "      <th>3</th>\n",
       "      <td>181823</td>\n",
       "      <td>A bliss! Just go and do it!!!</td>\n",
       "    </tr>\n",
       "    <tr>\n",
       "      <th>4</th>\n",
       "      <td>162809</td>\n",
       "      <td>A charming apartment. Rob was very hospitable ...</td>\n",
       "    </tr>\n",
       "  </tbody>\n",
       "</table>\n",
       "</div>"
      ],
      "text/plain": [
       "   listing_id                                           comments\n",
       "0      292757                                      1 A location!\n",
       "1      162809  1)Robbie is a gorgeous host with great hospita...\n",
       "2      200979                               A 5 star experience!\n",
       "3      181823                      A bliss! Just go and do it!!!\n",
       "4      162809  A charming apartment. Rob was very hospitable ..."
      ]
     },
     "execution_count": 2,
     "metadata": {},
     "output_type": "execute_result"
    }
   ],
   "source": [
    "df = pd.read_csv('review_test.csv',encoding = 'unicode_escape')\n",
    "df.head()"
   ]
  },
  {
   "cell_type": "code",
   "execution_count": 3,
   "metadata": {},
   "outputs": [],
   "source": [
    "df2 = df.dropna(how=\"any\")"
   ]
  },
  {
   "cell_type": "code",
   "execution_count": 4,
   "metadata": {},
   "outputs": [
    {
     "data": {
      "text/plain": [
       "listing_id    199\n",
       "comments      199\n",
       "dtype: int64"
      ]
     },
     "execution_count": 4,
     "metadata": {},
     "output_type": "execute_result"
    }
   ],
   "source": [
    "df.count()"
   ]
  },
  {
   "cell_type": "code",
   "execution_count": 5,
   "metadata": {},
   "outputs": [],
   "source": [
    "df2['comments'] = df2['comments'].apply(lambda row: row.encode('ascii',errors='ignore').decode())"
   ]
  },
  {
   "cell_type": "markdown",
   "metadata": {},
   "source": [
    "Uncomment # nltk.download('vader_lexicon') when running for the first time"
   ]
  },
  {
   "cell_type": "code",
   "execution_count": 6,
   "metadata": {},
   "outputs": [],
   "source": [
    "### nltk and string transformations\n",
    "from nltk import tokenize\n",
    "from nltk.sentiment.vader import SentimentIntensityAnalyzer\n",
    "import string\n",
    "\n",
    "### sklearn\n",
    "from sklearn.model_selection import train_test_split\n",
    "\n",
    "from sklearn.feature_extraction.text import TfidfVectorizer\n",
    "from sklearn.naive_bayes import MultinomialNB\n",
    "from sklearn.ensemble import RandomForestClassifier\n",
    "\n",
    "from sklearn.metrics import confusion_matrix, accuracy_score\n",
    "import nltk\n",
    "# nltk.download('vader_lexicon')\n",
    "\n",
    "### numpy for seed.  \n",
    "import numpy as np\n",
    "from numpy import random\n",
    "\n",
    "SEED = 1234\n",
    "\n",
    "random.seed(SEED)"
   ]
  },
  {
   "cell_type": "code",
   "execution_count": 7,
   "metadata": {},
   "outputs": [
    {
     "name": "stdout",
     "output_type": "stream",
     "text": [
      "0                                     [1, a, location]\n",
      "1    [1robbie, is, a, gorgeous, host, with, great, ...\n",
      "2                             [a, 5, star, experience]\n",
      "3                    [a, bliss, just, go, and, do, it]\n",
      "4    [a, charming, apartment, rob, was, very, hospi...\n",
      "Name: comments, dtype: object\n"
     ]
    }
   ],
   "source": [
    "### Define simple space tokenizer\n",
    "translator = str.maketrans('', '', string.punctuation)\n",
    "tk = tokenize.simple.SpaceTokenizer()\n",
    "\n",
    "def simple_tokenizer(x):\n",
    "    x = x.translate(translator).strip().lower()\n",
    "    return tk.tokenize(x)\n",
    "\n",
    "### Quick look at what the tokenizer produces\n",
    "print(df2['comments'].head().apply(lambda x : simple_tokenizer(x)))\n",
    "\n",
    "# Creates the polarity rating for the reviews\n",
    "analyzer = SentimentIntensityAnalyzer()\n",
    "\n",
    "df2['polarity']=df2['comments'].apply(lambda x : str(analyzer.polarity_scores(x)[\"compound\"]))\n"
   ]
  },
  {
   "cell_type": "code",
   "execution_count": 8,
   "metadata": {},
   "outputs": [
    {
     "name": "stdout",
     "output_type": "stream",
     "text": [
      "['1 A location!', '1)Robbie is a gorgeous host with great hospitality! We arrived in Dublin late at night but we still cook dinner together. 2)Cozy environment and nice neighborhood! 3)Easy transportation where the bus station nearby:) \\nWe all had a great time spending in Robbies place and Dublin:) thanks again', 'A 5 star experience!', 'A bliss! Just go and do it!!!', 'A charming apartment. Rob was very hospitable and provided a lovely breakfast.']\n"
     ]
    }
   ],
   "source": [
    "### Developing the corpus or list of sentences for processing later\n",
    "corpus = df2['comments'].tolist()\n",
    "\n",
    "print(corpus[:5])"
   ]
  },
  {
   "cell_type": "markdown",
   "metadata": {},
   "source": [
    "Creates the class column based on the polarity score"
   ]
  },
  {
   "cell_type": "code",
   "execution_count": 9,
   "metadata": {
    "scrolled": true
   },
   "outputs": [],
   "source": [
    "df2['class'] = df2['polarity'].astype(float).apply(lambda x : 'positive' if x > 0.500 else 'negative')\n",
    "\n",
    "class_names = ['negative', 'positive']"
   ]
  },
  {
   "cell_type": "markdown",
   "metadata": {},
   "source": [
    "Creates the polarity column of 1 or 0 (positive or negative) based on the polarity score"
   ]
  },
  {
   "cell_type": "code",
   "execution_count": 10,
   "metadata": {},
   "outputs": [],
   "source": [
    "df2['polarity2'] = df2['polarity'].astype(float).apply(lambda x : 1 if x > 0.500 else 0)"
   ]
  },
  {
   "cell_type": "code",
   "execution_count": 11,
   "metadata": {},
   "outputs": [
    {
     "data": {
      "text/html": [
       "<div>\n",
       "<style scoped>\n",
       "    .dataframe tbody tr th:only-of-type {\n",
       "        vertical-align: middle;\n",
       "    }\n",
       "\n",
       "    .dataframe tbody tr th {\n",
       "        vertical-align: top;\n",
       "    }\n",
       "\n",
       "    .dataframe thead th {\n",
       "        text-align: right;\n",
       "    }\n",
       "</style>\n",
       "<table border=\"1\" class=\"dataframe\">\n",
       "  <thead>\n",
       "    <tr style=\"text-align: right;\">\n",
       "      <th></th>\n",
       "      <th>listing_id</th>\n",
       "      <th>comments</th>\n",
       "      <th>polarity</th>\n",
       "      <th>class</th>\n",
       "      <th>polarity2</th>\n",
       "    </tr>\n",
       "  </thead>\n",
       "  <tbody>\n",
       "    <tr>\n",
       "      <th>0</th>\n",
       "      <td>292757</td>\n",
       "      <td>1 A location!</td>\n",
       "      <td>0.0</td>\n",
       "      <td>negative</td>\n",
       "      <td>0</td>\n",
       "    </tr>\n",
       "    <tr>\n",
       "      <th>1</th>\n",
       "      <td>162809</td>\n",
       "      <td>1)Robbie is a gorgeous host with great hospita...</td>\n",
       "      <td>0.963</td>\n",
       "      <td>positive</td>\n",
       "      <td>1</td>\n",
       "    </tr>\n",
       "    <tr>\n",
       "      <th>2</th>\n",
       "      <td>200979</td>\n",
       "      <td>A 5 star experience!</td>\n",
       "      <td>0.0</td>\n",
       "      <td>negative</td>\n",
       "      <td>0</td>\n",
       "    </tr>\n",
       "    <tr>\n",
       "      <th>3</th>\n",
       "      <td>181823</td>\n",
       "      <td>A bliss! Just go and do it!!!</td>\n",
       "      <td>0.7067</td>\n",
       "      <td>positive</td>\n",
       "      <td>1</td>\n",
       "    </tr>\n",
       "    <tr>\n",
       "      <th>4</th>\n",
       "      <td>162809</td>\n",
       "      <td>A charming apartment. Rob was very hospitable ...</td>\n",
       "      <td>0.6124</td>\n",
       "      <td>positive</td>\n",
       "      <td>1</td>\n",
       "    </tr>\n",
       "  </tbody>\n",
       "</table>\n",
       "</div>"
      ],
      "text/plain": [
       "   listing_id                                           comments polarity  \\\n",
       "0      292757                                      1 A location!      0.0   \n",
       "1      162809  1)Robbie is a gorgeous host with great hospita...    0.963   \n",
       "2      200979                               A 5 star experience!      0.0   \n",
       "3      181823                      A bliss! Just go and do it!!!   0.7067   \n",
       "4      162809  A charming apartment. Rob was very hospitable ...   0.6124   \n",
       "\n",
       "      class  polarity2  \n",
       "0  negative          0  \n",
       "1  positive          1  \n",
       "2  negative          0  \n",
       "3  positive          1  \n",
       "4  positive          1  "
      ]
     },
     "execution_count": 11,
     "metadata": {},
     "output_type": "execute_result"
    }
   ],
   "source": [
    "df2.head()"
   ]
  },
  {
   "cell_type": "markdown",
   "metadata": {},
   "source": [
    "Removing any new lines left in the corpus, before running the tokenizer"
   ]
  },
  {
   "cell_type": "code",
   "execution_count": 12,
   "metadata": {},
   "outputs": [],
   "source": [
    "corpus1 = [x.replace('\\n', '') for x in corpus]\n"
   ]
  },
  {
   "cell_type": "markdown",
   "metadata": {},
   "source": [
    "We will now use the tokenizer within the TFIDF vectorizer.  The words might sound intimidating yet simply yet in reality basically we just counting the number of times a words occur within the sentence relative to the whole sample (sometimes called a corpus)."
   ]
  },
  {
   "cell_type": "code",
   "execution_count": 13,
   "metadata": {},
   "outputs": [
    {
     "name": "stdout",
     "output_type": "stream",
     "text": [
      "Vector features :  ['', '\\tare', '\\tstay', '\\tthere', '\\twe', '1', '10', '100', '1000', '1010', '1030pm', '1100pm', '12301pm', '1230am', '126', '12600', '12am', '133', '14', '15', '1530', '16', '18', '1robbie', '2', '2\\tbad', '20', '2000', '2030', '24', '247', '24hour', '25', '2528', '25min', '275', '27a', '28', '291', '2cozy', '2nd', '3', '30', '3040', '32', '34', '35', '39', '3am', '3easy', '3pm', '3rd', '4', '4\\thorrible', '40', '42', '45', '48', '4am', '4pm', '4th', '5', '5\\t', '500', '57', '59', '5pm', '6', '60s', '6am', '6pm', '7', '7\\tdirty', '7am', '7pm', '8', '8\\tnoise', '80', '8pm', '9', 'able', 'absolutely', 'access', 'accessedother', 'accessible', 'accessory', 'accogliente', 'accoglienza', 'accommodating', 'accommodation', 'accommodations', 'accomodation', 'accordingly', 'accuracy', 'accurate', 'acknowledged', 'acrylic', 'acting', 'activate', 'actually', 'adam', 'addition', 'additional', 'address', 'addressed', 'addressed\\tfalse', 'adequately', 'adorable', 'adults', 'advertise', 'advertised', 'advertises', 'advertising', 'advice', 'advices', 'advised', 'affect', 'affordable', 'afraid', 'age', 'agent', 'ages', 'aggression', 'agitated', 'ago', 'agreed', 'agreement', 'ahead', 'air', 'airbb', 'airbnb', 'airbnbs', 'airbnbthere', 'aircoach', 'airport', 'aka', 'albert', 'alcohol', 'aldi', 'alejado', 'algo', 'alison', 'alisons', 'all1\\tbed', 'allergies', 'alleyway', 'alli', 'allow', 'allowed', 'allowing', 'allows', 'alojamiento', 'alot', 'alternative', 'altogether', 'amable', 'amanda', 'amandas', 'amazing', 'amenities', 'ancient', 'ancora', 'anger', 'angrily', 'angry', 'ankle', 'annoying', 'answer', 'answered', 'anymore', 'apart', 'apartment', 'apologized', 'appalled', 'apparently', 'appartment', 'appear', 'appeared', 'appears', 'appetite', 'apple', 'appliances', 'appointed', 'appreciated', 'apt', 'area', 'areas', 'areawould', 'armchairs', 'armoire', 'arrival', 'arrive', 'arrived', 'arrivedall', 'arriving', 'arrogant', 'arthurs', 'asap', 'aside', 'ask', 'asked', 'asking', 'assist', 'assisting', 'assuming', 'ate', 'atento', 'atmosphere', 'attended', 'attention', 'attitude', 'attractions', 'attracts', 'automated', 'automatically', 'available', 'average', 'avoid', 'avoided', 'awake', 'award', 'aware', 'away', 'awesome', 'awful', 'b', 'backyard', 'bad', 'badly', 'badsave', 'bags', 'balcony', 'banking', 'bannisters', 'bare', 'barefoot', 'barely', 'barged', 'barking', 'based', 'basic', 'basically', 'basis', 'baskets', 'bath', 'bathroom', 'bathrooms', 'bathtub', 'baton', 'bb', 'bbq', 'bc', 'bear', 'beat', 'beaumont', 'beautiful', 'beautifully', 'bed', 'bedding', 'bedroom', 'bedroom4', 'bedrooms', 'beds', 'bedset', 'began', 'beginning', 'behavior', 'behaviour', 'believe', 'believethe', 'belong', 'belonging', 'belongings', 'benefit', 'bent', 'bernard', 'best', 'better', 'betty', 'beware', 'bicycles', 'big', 'bigger', 'birthday', 'bit', 'bits', 'bizarre', 'black', 'blackout', 'bleach', 'blinds', 'blink', 'bliss', 'blocks', 'blow', 'blue', 'bnb', 'board', 'boarding', 'boiler', 'bolted', 'bones', 'bonita', 'book', 'booked', 'booking', 'books', 'bordering', 'borderline', 'bother', 'bottle', 'bottles', 'boutique', 'box', 'brand', 'bread', 'break', 'breakfast', 'brian', 'briefly', 'bright', 'brindandote', 'bring', 'broken', 'brown', 'brushed', 'bs', 'budget', 'bugs', 'building', 'built', 'bujo', 'bump', 'bunch', 'bunk', 'burger', 'burst', 'bus', 'buses', 'buy', 'cabinet', 'cabinets', 'cabs', 'cafe', 'cage', 'called', 'calm', 'calorosissima', 'came', 'camp', 'canadaand', 'cancel', 'canceled', 'cancelled', 'candles', 'car', 'card', 'care', 'careful', 'carefully', 'carla', 'carpet', 'carpets', 'casa', 'casasin', 'case', 'cases', 'cash', 'cat', 'cathedral', 'cathedrals', 'catno', 'cats', 'cause', 'causing', 'cca', 'ceiling', 'ceilings', 'celebrate', 'cell', 'center', 'centered', 'central', 'centre', 'centro', 'cereal', 'cereals', 'certain', 'certainly', 'chair', 'chairs', 'chance', 'change', 'changed', 'chaotic', 'character', 'chargers', 'charges', 'charm', 'charming', 'chat', 'che', 'cheap', 'cheapest', 'check', 'checked', 'checkin', 'checking', 'chiedessimo', 'child', 'children', 'childrens', 'chipped', 'choose', 'chris', 'christian', 'christians', 'chunk', 'churchtown', 'ci', 'circa', 'city', 'citycenter', 'claimed', 'claims', 'class', 'clean', 'cleaned', 'cleaner', 'cleaning', 'cleanliness', 'cleanour', 'clear', 'cleared', 'clearly', 'client', 'close', 'closelock', 'closerlidl', 'closets', 'clothes', 'clothesline', 'cloths', 'cluttered', 'coats', 'cobwebs', 'cocoon', 'coffee', 'cohost', 'coincidentally', 'cold', 'colleague', 'collection', 'college', 'colors', 'come', 'comes', 'comfort', 'comfortable', 'comfy', 'coming', 'comment', 'comments', 'common', 'communicated', 'communication', 'commuter', 'company', 'comparable', 'compared', 'compelled', 'compensation', 'complained', 'completely', 'concern', 'concerned', 'concerning', 'concerns', 'concierge', 'concrete', 'condemned', 'condescending', 'condition', 'conditions', 'conditionswhen', 'confirm', 'confortable', 'confortevole', 'confrontation', 'congenial', 'connection', 'conor', 'conors', 'consider', 'considered', 'considering', 'constant', 'constantly', 'contact', 'contacted', 'contacting', 'contained', 'contemplated', 'continue', 'continued', 'controlled', 'controls', 'convenience', 'convenient', 'conveniently', 'converged', 'conversation', 'converted', 'cook', 'cooked', 'cookie', 'cookies', 'cooking', 'cooktop', 'cool', 'cords', 'corn', 'cosmetic', 'cost', 'costs', 'costumer', 'cosy', 'cottage', 'couch', 'counter', 'counters', 'countertops', 'country', 'countrythis', 'couple', 'course', 'coverage', 'covered', 'coverings', 'coziness', 'cozy', 'cracked', 'create', 'creating', 'creepy', 'crepe', 'crepes', 'crime', 'critical', 'crowded', 'crumbs', 'cup', 'cupboard', 'cupboards', 'currently', 'cursing', 'cushions', 'customer', 'customs', 'cute', 'cutest', 'cutting', 'daily', 'dalkey', 'damage', 'damp', 'dangerous', 'danielle', 'danielles', 'daragh', 'daraghs', 'dark', 'dart', 'dated', 'dating', 'daughter', 'dave', 'daves', 'day', 'daynot', 'days', 'daytrip', 'dead', 'deal', 'dealing', 'dealt', 'decay', 'decent', 'deceptive', 'decide', 'decided', 'decision', 'deck', 'decking', 'declined', 'deep', 'defensive', 'definitely', 'definition', 'del', 'delicious', 'deliver', 'denied', 'depending', 'deposit', 'depressing', 'desayuno', 'described', 'description', 'despite', 'detailed', 'details', 'deux', 'did', 'didn', 'didnt', 'died', 'different', 'difficult', 'dinner', 'directly', 'directos', 'dirt', 'dirty', 'disappointed', 'disappointedevery', 'disappointing', 'disbelief', 'disconnections', 'discount', 'discounted', 'discovered', 'discussed', 'discussion', 'disgusting', 'dish', 'dishes', 'dishwasher', 'disjointed', 'dismayed', 'disruptive', 'distance', 'distinction', 'dito', 'divine', 'dodgy', 'does', 'doesnt', 'dog', 'dogs', 'dont', 'door', 'doors', 'double', 'doublin', 'doubt', 'downstairs', 'downtown', 'downvery', 'draft', 'drain', 'drama', 'drawer', 'drawers', 'drawers2', 'drimnagh', 'drinks', 'drive', 'drop', 'drops', 'drove', 'dry', 'dryer', 'dryers', 'drywall', 'dubious', 'dublin', 'duct', 'dumdum', 'dump', 'dun', 'dundrum', 'dust', 'dusty', 'e', 'eager', 'ear', 'earlier', 'early', 'ease', 'easily', 'easy', 'eat', 'eaten', 'eating', 'edgar', 'edgars', 'edges', 'el', 'electric', 'electrical', 'electricity', 'electrics', 'elevator', 'elses', 'emails', 'emma', 'encountered', 'encourage', 'ended', 'enjoy', 'enjoyed', 'enter', 'entered', 'entering', 'entire', 'entirely', 'entrance', 'entry', 'environment', 'environmental', 'equipment', 'equipped', 'es', 'escape', 'espacio', 'especially', 'estancia', 'estate', 'euro', 'europe', 'euros', 'evacuate', 'evening', 'events', 'eventually', 'everyday', 'evidence', 'evident', 'exagerar', 'excellent', 'exchange', 'excited', 'exist', 'existed', 'exorbitant', 'expect', 'expectations', 'expected', 'expecting', 'expensive', 'experience', 'experienced', 'experiences', 'expired', 'explained', 'explaining', 'explanations', 'explore', 'exposed', 'expressed', 'extension', 'extensively', 'extent', 'extra', 'extremely', 'eye', 'eyelashes', 'f', 'fabricationit', 'fabulous', 'facilities', 'fact', 'facti', 'failed', 'fair', 'fairly', 'fairness', 'falling', 'false', 'families', 'family', 'fan', 'fantastic', 'far', 'farthest', 'fault', 'faulty', 'favorite', 'favour', 'fear', 'fearful', 'feature', 'feel', 'feeling', 'fees', 'fell', 'felt', 'festivals', 'figure', 'figuring', 'filled', 'filling', 'filth', 'filthy', 'final', 'finally', 'finbars', 'finding', 'fine', 'finishing', 'fiona', 'fionnuala', 'fireplace', 'fittings', 'fix', 'fixed', 'fixtures', 'flakes', 'flat', 'flexibility', 'flexible', 'flies', 'flight', 'flights', 'flooding', 'floor', 'floorboards', 'flooring', 'floors', 'flowers', 'flustered', 'flying', 'fold', 'folks', 'following', 'follows', 'follows\\tthe', 'food', 'force', 'forced', 'forcing', 'forget', 'forgot', 'forth', 'fortunate', 'francois', 'francoise', 'francoises', 'franois', 'frat', 'free', 'freezer', 'freezing', 'fresh', 'freshener', 'fridge', 'friend', 'friendly', 'friends', 'frost', 'frugality', 'fruit', 'frustrating', 'fulfill', 'fully', 'fun', 'functional', 'funky', 'furnishings', 'furniture', 'furthermore', 'future', 'gaffer', 'gal', 'gang', 'garage', 'garbage', 'garden', 'gardens', 'gave', 'gay', 'general', 'generally', 'gentilissime', 'gentle', 'georgian', 'geraldine', 'gets', 'getting', 'giant', 'girl', 'girlfriend', 'given', 'givenessentially', 'gives', 'giving', 'glass', 'goes', 'going', 'good', 'goodness', 'goodthe', 'goodyou', 'gorgeous', 'got', 'gps', 'grabbed', 'gracias', 'gracious', 'great', 'greatly', 'greeted', 'grim', 'grime', 'grimy', 'grip', 'grocery', 'ground', 'group', 'groups', 'grout', 'grouting', 'grubby', 'guarantee', 'guess', 'guest', 'guests', 'guidati', 'guiness', 'guinness', 'guy', 'gym', 'ha', 'hair', 'hairdryer', 'hairs', 'half', 'halls', 'hallway', 'ham', 'hammock', 'handle', 'handled', 'handles', 'hands', 'handy', 'hang', 'hangers', 'hanging', 'happen', 'happened', 'happens', 'happy', 'harbour', 'hard', 'havent', 'having', 'hay', 'hazard', 'head', 'headed', 'headset', 'health', 'healthyafter', 'hear', 'heard', 'heart', 'heat', 'heater', 'heaters', 'hectic', 'held', 'hello', 'help', 'helped', 'helpful', 'helpfull', 'helping', 'hen', 'hes', 'hey', 'hidden', 'hide', 'high', 'highly', 'hinge', 'historic', 'holder', 'hole', 'holes', 'home', 'homemade', 'honest', 'honestly', 'honeymoon', 'honor', 'hooked', 'hoovered', 'hope', 'hoped', 'hoping', 'horrendous', 'horrible', 'horribly', 'horse', 'hospitable', 'hospital', 'hospitality', 'host', 'host3', 'hosted', 'hostel', 'hostess', 'hosting', 'hosts', 'hot', 'hotel', 'hotels', 'hotelwhile', 'hour', 'hours', 'house', 'housekeeping', 'howeth', 'howth', 'hrs', 'huge', 'hung', 'husband', 'hustle', 'i\\ttravel', 'ideal', 'ideally', 'ignored', 'il', 'ill', 'im', 'image', 'imaged', 'imagine', 'immediately', 'impact', 'impacts', 'impatient', 'impecable', 'imperfect', 'impolite', 'important', 'impossible', 'impression', 'impressions', 'improvements', 'inaccurate', 'inadequate', 'inanyways', 'included', 'including', 'inconvenient', 'incorrect', 'incredible', 'info', 'information', 'informazioni', 'informed', 'inin', 'initial', 'initially', 'inlaws', 'inquired', 'inside', 'inspection', 'instead', 'instructions', 'integrity', 'interact', 'interactions', 'intoxicated', 'intrigued', 'invasion', 'inviting', 'ireland', 'irish', 'iron', 'isa', 'isnt', 'issue', 'issues', 'items', 'itself3\\tunflushed', 'ive', 'jam', 'jamess', 'jerrys', 'jim', 'jims', 'joan', 'joanne', 'jonathan', 'juan', 'july', 'june', 'junk', 'just', 'kept', 'key', 'keys', 'kicked', 'kids', 'kids5', 'kind', 'kindly', 'kinds', 'kitchen', 'knacks', 'knew', 'knick', 'know', 'known', 'knows', 'la', 'lack', 'lacking', 'ladies', 'laminate', 'landed', 'landlord', 'language', 'laoghaire', 'large', 'larger', 'lasted', 'late', 'later', 'laundry', 'layout', 'layover', 'lbs', 'leading', 'leads', 'leak', 'leaked', 'leaking', 'learned', 'learning', 'leather', 'leave', 'leaves', 'leaving', 'led', 'left', 'leg', 'leo', 'les', 'lesson', 'let', 'lets', 'level', 'levels', 'licencecredit', 'lidl', 'light', 'lights', 'like', 'likely', 'limited', 'limits', 'limpio', 'lina', 'linen', 'linens', 'linked', 'listed', 'listing', 'literally', 'little', 'live', 'lived', 'lively', 'lives', 'living', 'local', 'locals', 'located', 'location', 'locations', 'lock', 'locked', 'loft', 'long', 'longer', 'look', 'looked', 'looking', 'looks', 'lose', 'loss', 'lost', 'lot', 'lots', 'loud', 'love', 'loved', 'lovely', 'low', 'luas', 'luck', 'luckily', 'lucky', 'luggage', 'lumpy\\tthe', 'lunch', 'lying', 'mail', 'mailbox', 'main', 'mainenance', 'mainly', 'maintain', 'maintained', 'maintenance', 'make', 'makes', 'makeup', 'making', 'malahide', 'malcolms', 'man', 'manage', 'managed', 'manual', 'marathon', 'maria', 'marias', 'marijuana', 'marks', 'marred', 'mask', 'masking', 'master', 'mastercons1', 'mats', 'matter', 'matters', 'mattress', 'mattresses', 'mattressesbox', 'maybe', 'mcdonalds', 'meals', 'meaning', 'meantime', 'meet', 'meeting', 'memorable', 'mention', 'mentioned', 'mentions', 'menu', 'merci', 'message', 'messagecomplaint', 'messaged', 'messages', 'met', 'micheal', 'microwave', 'middle', 'midterm', 'mildew', 'milk', 'min', 'mind', 'minimal', 'minimum', 'mins', 'minute', 'minutes', 'minuti', 'misleading', 'misrepresented', 'miss', 'missing', 'mistake', 'mistakes', 'mixture', 'mobil', 'mobile', 'moderately', 'mold', 'molto', 'moment', 'monetary', 'money', 'month', 'months', 'mopped', 'morning', 'motheaten', 'mother', 'mould', 'mouldy', 'moved', 'movies', 'moving', 'ms', 'mucky', 'muffins', 'multiple', 'murphy', 'music', 'musty', 'muy', 'nails', 'named', 'nasty', 'near', 'nearby', 'nearest', 'necessary', 'need', 'needed', 'needs', 'negative', 'neighbor', 'neighborhood', 'neighbors', 'neighbourhood', 'new', 'newly', 'nice', 'nicole', 'night', 'night4', 'nightmare', 'nightmarealso', 'nights', 'nightstand', 'noise', 'noises', 'noisy', 'nonapologetic', 'nonetheless', 'nonstop', 'norah', 'normal', 'nosie', 'notch', 'notice', 'noticeably', 'noticed', 'notion', 'nuisance', 'number', 'objects', 'observation', 'obviously', 'occupant', 'odor', 'offer', 'offered', 'offering', 'official', 'offsite', 'oil', 'ok', 'old', 'older', 'oldwe', 'olive', 'ongoing', 'online', 'open', 'opened', 'opening', 'operating', 'option', 'options', 'orange', 'ordeal', 'order', 'organized', 'original', 'outlets', 'outside', 'ovbiously', 'oven', 'overall', 'overcharged', 'overkill', 'overpaid', 'overpowering', 'owner', 'ownerhost', 'owners', 'pack', 'packages', 'packed', 'packet', 'paid', 'pain', 'paint', 'painted', 'pancakes', 'pans', 'paper', 'parada', 'parents', 'park', 'parking', 'partially', 'particularly', 'partner', 'party', 'pass', 'passportdriving', 'past', 'patricks', 'paul', 'pay', 'paying', 'payment', 'peeling', 'penthouse', 'people', 'peoplethe', 'perfect', 'perfecto', 'perfume', 'period', 'permanent', 'permeates', 'pero', 'person', 'personal', 'personally', 'persone', 'perspective', 'peters', 'pets', 'phoenix', 'phone', 'phoned', 'photo', 'photos', 'phyllis', 'phylliss', 'physical', 'pick', 'picked', 'pickup', 'picky', 'picture', 'pictures', 'piece', 'piedi', 'piers', 'piles', 'pillow', 'pillows', 'pipe', 'pissed', 'place', 'placemaria', 'places', 'plague', 'plan', 'plane', 'planned', 'planning', 'plaster', 'plastic', 'pleasant', 'plenty', 'plug', 'plugged', 'plugs', 'plumber', 'plus', 'point', 'pointed', 'pointing', 'pool', 'poop', 'poor', 'poorer', 'poorly', 'popped', 'popular', 'por', 'portobello', 'positive', 'positives', 'poss', 'possibility', 'possible', 'possibly', 'posters', 'posting', 'potential', 'pots', 'power', 'ppl', 'preferred', 'pregnant', 'premises', 'preocupada', 'prepare', 'prepared', 'present', 'presented', 'pressure', 'prettier', 'pretty', 'previous', 'price', 'priced', 'pride', 'prima', 'prior', 'privacidad', 'privacy', 'private', 'probably', 'problem', 'problems', 'process', 'product', 'profile', 'promised', 'promises', 'prompt', 'promptly', 'proof', 'propane', 'proper', 'properly', 'properties', 'property', 'proportion', 'propped', 'pros1', 'proves', 'provide', 'provided', 'providing', 'proximity', 'pub', 'public', 'pubs', 'puddle', 'pulita', 'pulito', 'pull', 'pulled', 'purposes', 'pursuing', 'putting', 'quadrupled', 'quaint', 'quaintness', 'quality', 'que', 'queries', 'question', 'questionable', 'questioned', 'questions', 'quick', 'quickly', 'quiet', 'quirky', 'quite', 'rabbit', 'rachel', 'rack', 'racks', 'radio', 'raggiunge', 'rain', 'raised', 'raising', 'rarely', 'rd', 'reach', 'reached', 'read', 'reading', 'ready', 'realised', 'realize', 'realized', 'really', 'reason', 'reasons', 'rebook', 'reccomend', 'receive', 'received', 'reception', 'recommandations', 'recommend', 'recommendable', 'recommendations', 'recommended', 'reflected', 'refund', 'refunded', 'refused', 'regarding', 'regular', 'regularly', 'reimbursed', 'relax', 'relaxing', 'reluctantly', 'remainder', 'remarks', 'remedied', 'remember', 'reminded', 'remote', 'removed', 'rent', 'rental', 'rentals', 'rented', 'renter', 'renters', 'renting', 'rep', 'repair', 'repairs', 'repeater', 'repercussions', 'replace', 'replaced', 'replacement', 'replacing', 'reply', 'representative', 'require', 'required', 'research', 'researching', 'reservation', 'residents', 'resolution', 'resolve', 'resolving', 'respect', 'respectful', 'respond', 'responded', 'respondent', 'responding', 'response', 'responsive', 'rest', 'restaurant', 'restaurants', 'restored', 'restroom', 'result', 'return', 'returned', 'revealed', 'review', 'reviews', 'ride', 'right', 'rinse', 'rip', 'ripped', 'ripping', 'risk', 'river', 'road', 'roads', 'rob', 'robbie', 'robbies', 'rodents', 'roll', 'rolls', 'romantic', 'roof', 'room', 'room\\tthe', 'rooms', 'rotted', 'rotten', 'rotting', 'rough', 'roughly', 'route', 'routes', 'roy', 'rude', 'ruined', 'rules', 'rumbling', 'run', 'running', 'runs', 'rusted', 'sabrinas', 'sacrifice', 'sad', 'sadly', 'safe', 'safest', 'safety', 'safewe', 'said', 'salad', 'sandpaper', 'sandwiches', 'sanitary', 'sarah', 'saturated', 'saturday', 'sauce', 'sauna', 'save', 'saw', 'say', 'saying', 'says', 'scary', 'scented', 'schedule', 'scheduled', 'scorching', 'screaming', 'screens', 'screw', 'screws', 'scrub', 'scrubbed', 'scrubbing', 'scuffed', 'sea', 'sealed', 'seals', 'search', 'seasoned', 'seat', 'second', 'section', 'secure', 'security', 'seedy', 'seeing', 'seen', 'segundos', 'seguro', 'selfcontained', 'sense', 'sent', 'seriously', 'service', 'servicestaying', 'session', 'set', 'sets', 'severe', 'shades', 'shame', 'shampoo', 'shape', 'share', 'shared', 'sharing', 'shaved', 'shaving', 'sheets', 'shelves', 'shocked', 'shoes', 'shops', 'short', 'showed', 'shower', 'showerbath', 'showers', 'showerthe', 'showerwe', 'showing', 'shrunk', 'shut', 'shuton', 'si', 'sick', 'sides', 'signs', 'silverware', 'simple', 'simply', 'single', 'sink', 'sister', 'sisters', 'sit', 'sits', 'sitting', 'situation', 'size', 'slab', 'sleep', 'sleeper', 'sleeping', 'slept', 'slight', 'slightly', 'slow', 'small', 'smell', 'smelled', 'smelling', 'smellled', 'smells', 'smelly', 'smelt', 'smooth', 'sms', 'snack', 'snacks', 'soap', 'sockets', 'sofa', 'soft', 'solely', 'solo', 'someones', 'somethinganything', 'son', 'soon', 'sorry', 'sort', 'soundproofed', 'space', 'space\\tthe', 'spaces', 'spacious', 'spaciousness', 'span', 'spare', 'sparkling', 'speak', 'special', 'specifically', 'speed', 'spend', 'spending', 'spent', 'spider', 'spiders', 'spiderwebs', 'spot', 'spotlessly', 'spots', 'spotted', 'spring', 'springs', 'springy', 'squalorthe', 'st', 'stag', 'stained', 'stains', 'stairs', 'stairwell', 'stand', 'standard', 'standards', 'star', 'stars', 'start', 'started', 'starting', 'startled', 'state', 'stated', 'states', 'station', 'stations', 'status', 'stay', 'staybesides', 'stayed', 'staying', 'staymaria', 'stays', 'stench', 'stepped', 'steps', 'sticks', 'stolenwe', 'stones', 'stop', 'stopped', 'stopping', 'storage', 'store', 'stored', 'stove', 'straight', 'strangely', 'strangers', 'street', 'street6', 'stress', 'stressful', 'strong', 'stubbornly', 'stuck', 'stuff', 'stylish', 'subfloor', 'subpar', 'substantial', 'suburban', 'success', 'suceptible', 'sucked', 'suffered', 'sufficiently', 'suggest', 'suggested', 'suggestions', 'suggestionstips', 'suitable', 'suite', 'suites', 'sunday', 'super', 'superb', 'supermarket', 'supper', 'supplies', 'support', 'supposed', 'sure', 'sure6\\tlies', 'surely', 'surface', 'surfaces', 'surprising', 'surrounding', 'surroundings', 'suspicious', 'sweet', 'swept', 'swimming', 'swing', 'switch', 't', 'table', 'tag', 'tainted', 'takes', 'taking', 'talk', 'talking', 'tape', 'taped', 'taps', 'tarots', 'taste', 'tatty', 'taxi', 'tea', 'teas', 'teenage', 'teeth', 'television', 'tell', 'telling', 'temporary', 'tenants', 'teresa', 'teresas', 'term', 'terms', 'terrace', 'terribly', 'text', 'thank', 'thanks', 'thats', 'therewe', 'thing', 'things', 'think', 'thinking', 'tho', 'thorough', 'thoroughly', 'thought', 'thoughtful', 'thousands', 'threadbare', 'threshold', 'throw', 'tile', 'time', 'timely', 'timer', 'times', 'timing', 'tiny', 'tips', 'tired', 'tires', 'toast', 'toaster', 'todo', 'toilet', 'toiletries', 'toilets', 'told', 'tomato', 'tons', 'took', 'total', 'totally', 'touch', 'touches', 'touring', 'towel', 'towels', 'tower', 'towers', 'town', 'toys', 'tracey', 'traditional', 'train', 'trains', 'trampoline', 'transit', 'transport', 'transportation', 'trap', 'trapped', 'travel', 'travelers', 'traveling', 'traveller', 'travelling', 'travels', 'tray', 'tremendous', 'tremendously', 'tres', 'tried', 'tries', 'trinity', 'trip', 'trips', 'tripthis', 'trolly', 'trouble', 'trow', 'true', 'truly', 'trust', 'truth', 'try', 'trying', 'tu', 'tubs', 'turn', 'turned', 'turning', 'turns', 'tv', 'twigs', 'twin', 'twisting', 'type', 'typical', 'u', 'ultimate', 'ultimately', 'una', 'unacceptable', 'unannounced', 'unavailable', 'unbelievable', 'unclean', 'uncleaned', 'uncleanliness', 'uncomfortable', 'unconventional', 'underestimates', 'underlying', 'underneath', 'understand', 'understanding', 'unflushed', 'unfortunate', 'unfortunately', 'unhealthy', 'unhygienic', 'unimpressed', 'uninhabitable', 'unit', 'units', 'unkept', 'unknown', 'unless', 'unlock', 'unlocked', 'unlocking', 'unnecessary', 'unreliable', 'unresponsive', 'unsafe', 'unsanitary', 'untrue', 'unusable', 'unwashed', 'upcoming', 'updating', 'upkeep', 'upper', 'upscale', 'upsetting', 'upstairs', 'urine', 'usage', 'usd', 'use', 'useable', 'used', 'useful', 'useless', 'using', 'usually', 'utensils', 'vacation', 'valuable', 'valuables', 'value', 'valueyou', 'various', 'ventilation', 'vents', 'venue', 'vez', 'viability', 'videos', 'view', 'viewable', 'views', 'village', 'visibly', 'visit', 'visiting', 'visitors', 'visits', 'volvemos', 'vulgarity', 'wait', 'waited', 'waiting', 'walk', 'walked', 'walking', 'walkthrough', 'wall', 'walls', 'want', 'wanted', 'wants', 'warm', 'warn', 'warned', 'warning', 'wash', 'washed', 'washer', 'washerdryer', 'wasnt', 'wasted', 'watch', 'watches', 'watching', 'water', 'waterpipe', 'way', 'weak', 'weather', 'webs', 'website', 'wedding', 'weeds', 'week', 'weekend', 'weeks', 'weird', 'welcome', 'welcomed', 'welcoming', 'welllocated', 'welltravelled', 'went', 'weve', 'wexford', 'whatsoever', 'whatthanks', 'wheretogo', 'whilst', 'white', 'wife', 'wifes', 'wifi', 'window', 'windows', 'winedrinks', 'winning', 'winter', 'wires', 'wiring', 'woke', 'woken', 'woman', 'womans', 'women', 'womens', 'wonderful', 'wonderfully', 'wont', 'wood', 'wooden', 'word', 'wore', 'work', 'worked', 'working', 'works', 'worn', 'worried', 'worrying', 'worse', 'worst', 'worth', 'wouldnt', 'wr', 'wrapped', 'wrappers', 'wreck', 'writing', 'written', 'wrong', 'wrote', 'y', 'yard', 'year', 'years', 'yelled', 'yellow', 'yes', 'youre', 'youth', 'youtube', 'zambia', 'zero', 'zoo']\n",
      "Vector shape/size :  (199, 2271)\n"
     ]
    },
    {
     "name": "stderr",
     "output_type": "stream",
     "text": [
      "C:\\Users\\heath\\Anaconda3\\envs\\base3\\lib\\site-packages\\sklearn\\feature_extraction\\text.py:507: UserWarning: The parameter 'token_pattern' will not be used since 'tokenizer' is not None'\n",
      "  warnings.warn(\"The parameter 'token_pattern' will not be used\"\n"
     ]
    }
   ],
   "source": [
    "vectorizer = TfidfVectorizer(tokenizer=simple_tokenizer, stop_words='english')\n",
    "tf = vectorizer.fit(corpus1)\n",
    "X = tf.transform(corpus1)\n",
    "\n",
    "### Combining result of TFIDF with `target` columns\n",
    "full_df = pd.concat([pd.DataFrame(X.toarray()), df2['polarity2']], axis=1)\n",
    "print(\"Vector features : \", vectorizer.get_feature_names())\n",
    "print(\"Vector shape/size : \",X.shape)"
   ]
  },
  {
   "cell_type": "code",
   "execution_count": 14,
   "metadata": {
    "scrolled": true
   },
   "outputs": [
    {
     "name": "stdout",
     "output_type": "stream",
     "text": [
      "(139, 2271) (139,)\n"
     ]
    }
   ],
   "source": [
    "target_col = 'polarity2'\n",
    "y =df2[target_col]\n",
    "X_train, X_test, y_train, y_test = train_test_split(full_df.drop(target_col , axis=1),y, test_size=0.30, random_state=SEED)\n",
    "print(X_train.shape, y_train.shape)"
   ]
  },
  {
   "cell_type": "markdown",
   "metadata": {},
   "source": [
    "## Model Training and Analysis"
   ]
  },
  {
   "cell_type": "markdown",
   "metadata": {},
   "source": [
    "**Helper Function**  : This is a simple helper function modified from the sklearn [documentation](https://scikit-learn.org/stable/auto_examples/model_selection/plot_confusion_matrix.html).  Example below.  Parameters required are the actual labels (y_true), the predicted labels (y_pred), classes in a list like `[\"good\", \"bad\", \"ugly\"]`.  Options are using `normalize` to get percentages, `include_cm` to print off the raw confusion matrix, and `fig_size` for the size of the plot."
   ]
  },
  {
   "cell_type": "code",
   "execution_count": 15,
   "metadata": {},
   "outputs": [],
   "source": [
    "def plot_confusion_matrix(y_true, y_pred, classes,\n",
    "                          normalize=False,\n",
    "                          title=None,\n",
    "                          cmap=plt.cm.Blues,\n",
    "                          include_cm=False,\n",
    "                          fig_size=(10, 8)):\n",
    "    \"\"\"\n",
    "    This function prints and plots the confusion matrix.Normalization can be applied by setting `normalize=True`.\n",
    "    \"\"\"\n",
    "    from sklearn.utils.multiclass import unique_labels\n",
    "    \n",
    "    if not title:\n",
    "        if normalize:\n",
    "            title = 'Normalized confusion matrix'\n",
    "        else:\n",
    "            title = 'Confusion matrix, without normalization'\n",
    "\n",
    "    # Compute confusion matrix\n",
    "    cm = confusion_matrix(y_true, y_pred)\n",
    "\n",
    "    if normalize:\n",
    "        cm = cm.astype('float') / cm.sum(axis=1)[:, np.newaxis]\n",
    "\n",
    "    if include_cm:\n",
    "        print(cm)\n",
    "\n",
    "    fig, ax = plt.subplots(figsize=fig_size)\n",
    "    ax.grid(False)\n",
    "    im = ax.imshow(cm, interpolation='nearest', cmap=cmap)\n",
    "    ax.figure.colorbar(im, ax=ax)\n",
    "    # We want to show all ticks...\n",
    "    ax.set(xticks=np.arange(cm.shape[1]),\n",
    "           yticks=np.arange(cm.shape[0]),\n",
    "           # ... and label them with the respective list entries\n",
    "           xticklabels=classes, yticklabels=classes,\n",
    "           title=title,\n",
    "           ylabel='True label',\n",
    "           xlabel='Predicted label')\n",
    "\n",
    "    # Rotate the tick labels and set their alignment.\n",
    "    plt.setp(ax.get_xticklabels(), rotation=45, ha=\"right\",\n",
    "             rotation_mode=\"anchor\")\n",
    "\n",
    "    # Loop over data dimensions and create text annotations.\n",
    "    fmt = '.2f' if normalize else 'd'\n",
    "    thresh = cm.max() / 2.\n",
    "    for i in range(cm.shape[0]):\n",
    "        for j in range(cm.shape[1]):\n",
    "            ax.text(j, i, format(cm[i, j], fmt),\n",
    "                    ha=\"center\", va=\"center\",\n",
    "                    color=\"white\" if cm[i, j] > thresh else \"black\")\n",
    "    fig.tight_layout()\n",
    "    return ax"
   ]
  },
  {
   "cell_type": "markdown",
   "metadata": {},
   "source": [
    "Using a Multinomial Naive Bayes Model"
   ]
  },
  {
   "cell_type": "code",
   "execution_count": 16,
   "metadata": {},
   "outputs": [],
   "source": [
    "clf = MultinomialNB().fit(X_train, y_train)\n",
    "y_pred = clf.predict(X_test)"
   ]
  },
  {
   "cell_type": "code",
   "execution_count": 17,
   "metadata": {},
   "outputs": [
    {
     "data": {
      "text/plain": [
       "array([[16, 10],\n",
       "       [ 1, 33]], dtype=int64)"
      ]
     },
     "execution_count": 17,
     "metadata": {},
     "output_type": "execute_result"
    }
   ],
   "source": [
    "confusion_matrix(y_test, y_pred)"
   ]
  },
  {
   "cell_type": "code",
   "execution_count": 18,
   "metadata": {},
   "outputs": [
    {
     "name": "stdout",
     "output_type": "stream",
     "text": [
      "Accuracy of base model is 81.67 %\n"
     ]
    }
   ],
   "source": [
    "print(\"Accuracy of base model is {:.2f} %\".format(accuracy_score(y_test, y_pred)*100))"
   ]
  },
  {
   "cell_type": "code",
   "execution_count": 19,
   "metadata": {},
   "outputs": [
    {
     "data": {
      "image/png": "[encoded data removed]",
      "text/plain": [
       "<Figure size 720x576 with 2 Axes>"
      ]
     },
     "metadata": {
      "needs_background": "light"
     },
     "output_type": "display_data"
    }
   ],
   "source": [
    "### Plot confusion matrix to get a feel for model ability to predict correct label.\n",
    "plot_confusion_matrix(y_test, y_pred, classes=class_names, normalize=True,\n",
    "                      title='Confusion matrix, with normalization', fig_size=(10, 8));"
   ]
  },
  {
   "cell_type": "markdown",
   "metadata": {},
   "source": [
    "Using a Random Forest model."
   ]
  },
  {
   "cell_type": "code",
   "execution_count": 20,
   "metadata": {},
   "outputs": [],
   "source": [
    "clf2 = RandomForestClassifier(n_estimators=100, max_depth=8, random_state=SEED).fit(X_train, y_train)\n",
    "y_pred = clf2.predict(X_test)"
   ]
  },
  {
   "cell_type": "code",
   "execution_count": 21,
   "metadata": {},
   "outputs": [
    {
     "data": {
      "text/plain": [
       "array([[12, 14],\n",
       "       [ 0, 34]], dtype=int64)"
      ]
     },
     "execution_count": 21,
     "metadata": {},
     "output_type": "execute_result"
    }
   ],
   "source": [
    "confusion_matrix(y_test, y_pred)"
   ]
  },
  {
   "cell_type": "code",
   "execution_count": 22,
   "metadata": {},
   "outputs": [
    {
     "name": "stdout",
     "output_type": "stream",
     "text": [
      "Accuracy of base model is 76.67 %\n"
     ]
    }
   ],
   "source": [
    "print(\"Accuracy of base model is {:.2f} %\".format(accuracy_score(y_test, y_pred)*100))"
   ]
  },
  {
   "cell_type": "code",
   "execution_count": 23,
   "metadata": {
    "scrolled": true
   },
   "outputs": [
    {
     "data": {
      "image/png": "[encoded data removed]",
      "text/plain": [
       "<Figure size 720x576 with 2 Axes>"
      ]
     },
     "metadata": {
      "needs_background": "light"
     },
     "output_type": "display_data"
    }
   ],
   "source": [
    "plot_confusion_matrix(y_test, y_pred, classes=class_names, normalize=True,\n",
    "                      title='Confusion matrix, with normalization', fig_size=(10, 8));"
   ]
  },
  {
   "cell_type": "markdown",
   "metadata": {},
   "source": [
    "## Single Input Examples"
   ]
  },
  {
   "cell_type": "markdown",
   "metadata": {},
   "source": [
    "For this data saet, the Random Forest is unable to give a negative results since in the data sample given it there were no negative results. The multinomialNB is the better of the two models."
   ]
  },
  {
   "cell_type": "code",
   "execution_count": 24,
   "metadata": {},
   "outputs": [
    {
     "name": "stdout",
     "output_type": "stream",
     "text": [
      "Review was positive\n"
     ]
    }
   ],
   "source": [
    "review = \"Best tacos I have ever had, will come back every Tuesday.  Will never go to any other taco shop again.\"\n",
    "\n",
    "### Transform Review\n",
    "review_transformed = tf.transform([review])\n",
    "\n",
    "### Make Prediction\n",
    "pred = clf.predict(review_transformed)\n",
    "\n",
    "### Using the defined `class_names` get the predicted Polarity ( negative/positive )\n",
    "print(\"Review was {}\".format(class_names[pred[0]]))\n"
   ]
  },
  {
   "cell_type": "markdown",
   "metadata": {},
   "source": [
    "Using Random Forest Model"
   ]
  },
  {
   "cell_type": "code",
   "execution_count": 25,
   "metadata": {},
   "outputs": [
    {
     "name": "stdout",
     "output_type": "stream",
     "text": [
      "Review was positive\n"
     ]
    }
   ],
   "source": [
    "review = \"Horrible, worst food, service poor\"\n",
    "\n",
    "### Transform Review\n",
    "review_transformed = tf.transform([review])\n",
    "\n",
    "### Make Prediction\n",
    "pred = clf2.predict(review_transformed)\n",
    "\n",
    "### Using the defined `class_names` get the predicted Polarity ( negative/positive )\n",
    "print(\"Review was {}\".format(class_names[pred[0]]))"
   ]
  },
  {
   "cell_type": "markdown",
   "metadata": {},
   "source": [
    "Using NaiveBayes Model"
   ]
  },
  {
   "cell_type": "code",
   "execution_count": 26,
   "metadata": {},
   "outputs": [
    {
     "name": "stdout",
     "output_type": "stream",
     "text": [
      "Review was negative\n"
     ]
    }
   ],
   "source": [
    "review = \"Horrible, worst food, service poor\"\n",
    "\n",
    "### Transform Review\n",
    "review_transformed = tf.transform([review])\n",
    "\n",
    "### Make Prediction\n",
    "pred = clf.predict(review_transformed)\n",
    "\n",
    "### Using the defined `class_names` get the predicted Polarity ( negative/positive )\n",
    "print(\"Review was {}\".format(class_names[pred[0]]))"
   ]
  },
  {
   "cell_type": "markdown",
   "metadata": {},
   "source": [
    "##  Comparing Multiple Models Side by Side\n",
    "\n",
    "Example found [here](https://towardsdatascience.com/multi-class-text-classification-with-scikit-learn-12f1e60e0a9f).  Interesting final reference."
   ]
  },
  {
   "cell_type": "code",
   "execution_count": 27,
   "metadata": {},
   "outputs": [
    {
     "data": {
      "image/png": "[encoded data removed]",
      "text/plain": [
       "<Figure size 720x576 with 1 Axes>"
      ]
     },
     "metadata": {
      "needs_background": "light"
     },
     "output_type": "display_data"
    }
   ],
   "source": [
    "import seaborn as sns\n",
    "\n",
    "from sklearn.linear_model import LogisticRegression\n",
    "from sklearn.ensemble import RandomForestClassifier\n",
    "from sklearn.svm import LinearSVC\n",
    "from sklearn.model_selection import cross_val_score\n",
    "\n",
    "models = [\n",
    "    RandomForestClassifier(n_estimators=200, max_depth=8, random_state=SEED),\n",
    "    LinearSVC(),\n",
    "    MultinomialNB(),\n",
    "    LogisticRegression(random_state=0, solver='lbfgs'),\n",
    "]\n",
    "CV = 5\n",
    "cv_df = pd.DataFrame(index=range(CV * len(models)))\n",
    "entries = []\n",
    "\n",
    "### Gather all features (X values) and labels (y values) to pass through cross validation\n",
    "features = full_df.drop(target_col, axis=1)\n",
    "labels = df2[target_col].values\n",
    "\n",
    "for model in models:\n",
    "    model_name = model.__class__.__name__\n",
    "    accuracies = cross_val_score(model, features, labels, scoring='accuracy', cv=CV)\n",
    "    for fold_idx, accuracy in enumerate(accuracies):\n",
    "        entries.append((model_name, fold_idx, accuracy))\n",
    "cv_df = pd.DataFrame(entries, columns=['model_name', 'fold_idx', 'accuracy'])\n",
    "\n",
    "fig, ax = plt.subplots(figsize=(10, 8))\n",
    "sns.boxplot(x='model_name', y='accuracy', data=cv_df)\n",
    "sns.stripplot(x='model_name', y='accuracy', data=cv_df, \n",
    "              size=8, jitter=True, edgecolor=\"gray\", linewidth=2)\n",
    "plt.show()"
   ]
  },
  {
   "cell_type": "markdown",
   "metadata": {},
   "source": [
    "<!-- Pie chart of positive negative reviews -->"
   ]
  },
  {
   "cell_type": "markdown",
   "metadata": {},
   "source": [
    "Pie Chart of Test Date Reviews"
   ]
  },
  {
   "cell_type": "code",
   "execution_count": 28,
   "metadata": {},
   "outputs": [],
   "source": [
    "count_review = df2[\"class\"].value_counts()"
   ]
  },
  {
   "cell_type": "code",
   "execution_count": 29,
   "metadata": {},
   "outputs": [
    {
     "data": {
      "image/png": "[encoded data removed]",
      "text/plain": [
       "<Figure size 432x288 with 1 Axes>"
      ]
     },
     "metadata": {},
     "output_type": "display_data"
    }
   ],
   "source": [
    "plt.pie(count_review, labels=class_names, autopct=\"%1.1f%%\", startangle=160)\n",
    "plt.title(\"Test Set\")\n",
    "plt.show()"
   ]
  }
 ],
 "metadata": {
  "hide_input": false,
  "kernelspec": {
   "display_name": "Python 3",
   "language": "python",
   "name": "python3"
  },
  "language_info": {
   "codemirror_mode": {
    "name": "ipython",
    "version": 3
   },
   "file_extension": ".py",
   "mimetype": "text/x-python",
   "name": "python",
   "nbconvert_exporter": "python",
   "pygments_lexer": "ipython3",
   "version": "3.7.5"
  },
  "toc": {
   "base_numbering": 1,
   "nav_menu": {},
   "number_sections": true,
   "sideBar": true,
   "skip_h1_title": false,
   "title_cell": "Table of Contents",
   "title_sidebar": "Contents",
   "toc_cell": false,
   "toc_position": {},
   "toc_section_display": true,
   "toc_window_display": false
  }
 },
 "nbformat": 4,
 "nbformat_minor": 2
}
