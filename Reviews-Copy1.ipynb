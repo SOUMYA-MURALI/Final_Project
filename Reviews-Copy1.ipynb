{
 "cells": [
  {
   "cell_type": "code",
   "execution_count": 1,
   "metadata": {},
   "outputs": [],
   "source": [
    "import pandas as pd\n",
    "import numpy as np\n",
    "import matplotlib.pyplot as plt\n",
    "import seaborn as sns\n",
    "%matplotlib inline\n",
    "\n",
    "import os"
   ]
  },
  {
   "cell_type": "code",
   "execution_count": 2,
   "metadata": {},
   "outputs": [],
   "source": [
    "df = pd.read_csv('review2019.csv',encoding = 'unicode_escape')\n"
   ]
  },
  {
   "cell_type": "code",
   "execution_count": 3,
   "metadata": {},
   "outputs": [
    {
     "data": {
      "text/plain": [
       "listing_id    12531\n",
       "id            12531\n",
       "date          12531\n",
       "comments      12531\n",
       "dtype: int64"
      ]
     },
     "execution_count": 3,
     "metadata": {},
     "output_type": "execute_result"
    }
   ],
   "source": [
    "df.count()"
   ]
  },
  {
   "cell_type": "code",
   "execution_count": 4,
   "metadata": {},
   "outputs": [
    {
     "data": {
      "text/html": [
       "<div>\n",
       "<style scoped>\n",
       "    .dataframe tbody tr th:only-of-type {\n",
       "        vertical-align: middle;\n",
       "    }\n",
       "\n",
       "    .dataframe tbody tr th {\n",
       "        vertical-align: top;\n",
       "    }\n",
       "\n",
       "    .dataframe thead th {\n",
       "        text-align: right;\n",
       "    }\n",
       "</style>\n",
       "<table border=\"1\" class=\"dataframe\">\n",
       "  <thead>\n",
       "    <tr style=\"text-align: right;\">\n",
       "      <th></th>\n",
       "      <th>listing_id</th>\n",
       "      <th>id</th>\n",
       "      <th>date</th>\n",
       "      <th>comments</th>\n",
       "    </tr>\n",
       "  </thead>\n",
       "  <tbody>\n",
       "    <tr>\n",
       "      <th>0</th>\n",
       "      <td>44077.0</td>\n",
       "      <td>419600626.0</td>\n",
       "      <td>3/4/2019</td>\n",
       "      <td>We had a great stay at the cottage. We loved t...</td>\n",
       "    </tr>\n",
       "    <tr>\n",
       "      <th>1</th>\n",
       "      <td>44077.0</td>\n",
       "      <td>421384918.0</td>\n",
       "      <td>3/9/2019</td>\n",
       "      <td>Teresa and her husband are a wonderful and war...</td>\n",
       "    </tr>\n",
       "    <tr>\n",
       "      <th>2</th>\n",
       "      <td>44077.0</td>\n",
       "      <td>427270205.0</td>\n",
       "      <td>3/23/2019</td>\n",
       "      <td>Great place to stay if you want the experience...</td>\n",
       "    </tr>\n",
       "    <tr>\n",
       "      <th>3</th>\n",
       "      <td>44077.0</td>\n",
       "      <td>430911992.0</td>\n",
       "      <td>3/31/2019</td>\n",
       "      <td>Very welcoming home and kind hosts. We had a v...</td>\n",
       "    </tr>\n",
       "    <tr>\n",
       "      <th>4</th>\n",
       "      <td>44077.0</td>\n",
       "      <td>438341286.0</td>\n",
       "      <td>4/16/2019</td>\n",
       "      <td>Welcoming and flexible host. Nice stay in Dublin.</td>\n",
       "    </tr>\n",
       "  </tbody>\n",
       "</table>\n",
       "</div>"
      ],
      "text/plain": [
       "   listing_id           id       date  \\\n",
       "0     44077.0  419600626.0   3/4/2019   \n",
       "1     44077.0  421384918.0   3/9/2019   \n",
       "2     44077.0  427270205.0  3/23/2019   \n",
       "3     44077.0  430911992.0  3/31/2019   \n",
       "4     44077.0  438341286.0  4/16/2019   \n",
       "\n",
       "                                            comments  \n",
       "0  We had a great stay at the cottage. We loved t...  \n",
       "1  Teresa and her husband are a wonderful and war...  \n",
       "2  Great place to stay if you want the experience...  \n",
       "3  Very welcoming home and kind hosts. We had a v...  \n",
       "4  Welcoming and flexible host. Nice stay in Dublin.  "
      ]
     },
     "execution_count": 4,
     "metadata": {},
     "output_type": "execute_result"
    }
   ],
   "source": [
    "df2 = df.dropna()\n",
    "df.head()"
   ]
  },
  {
   "cell_type": "code",
   "execution_count": 5,
   "metadata": {},
   "outputs": [
    {
     "name": "stderr",
     "output_type": "stream",
     "text": [
      "C:\\Users\\heath\\Anaconda3\\envs\\base3\\lib\\site-packages\\ipykernel_launcher.py:1: SettingWithCopyWarning: \n",
      "A value is trying to be set on a copy of a slice from a DataFrame.\n",
      "Try using .loc[row_indexer,col_indexer] = value instead\n",
      "\n",
      "See the caveats in the documentation: http://pandas.pydata.org/pandas-docs/stable/user_guide/indexing.html#returning-a-view-versus-a-copy\n",
      "  \"\"\"Entry point for launching an IPython kernel.\n"
     ]
    }
   ],
   "source": [
    "df2['comments'] = df2['comments'].apply(lambda row: row.encode('ascii',errors='ignore').decode())"
   ]
  },
  {
   "cell_type": "code",
   "execution_count": 6,
   "metadata": {},
   "outputs": [
    {
     "data": {
      "text/plain": [
       "listing_id    12531\n",
       "id            12531\n",
       "date          12531\n",
       "comments      12531\n",
       "dtype: int64"
      ]
     },
     "execution_count": 6,
     "metadata": {},
     "output_type": "execute_result"
    }
   ],
   "source": [
    "df2.count()"
   ]
  },
  {
   "cell_type": "markdown",
   "metadata": {},
   "source": [
    "## Preprocessing through Tokenizing and using TFIDF"
   ]
  },
  {
   "cell_type": "code",
   "execution_count": 7,
   "metadata": {},
   "outputs": [],
   "source": [
    "### nltk and string transformations\n",
    "from nltk import tokenize\n",
    "from nltk.sentiment.vader import SentimentIntensityAnalyzer\n",
    "import string\n",
    "\n",
    "### sklearn\n",
    "from sklearn.model_selection import train_test_split\n",
    "\n",
    "from sklearn.feature_extraction.text import TfidfVectorizer\n",
    "from sklearn.naive_bayes import MultinomialNB\n",
    "from sklearn.ensemble import RandomForestClassifier\n",
    "\n",
    "from sklearn.metrics import confusion_matrix, accuracy_score\n",
    "import nltk\n",
    "# nltk.download('vader_lexicon')\n",
    "### numpy for seed.  Good practice for reproducibility, not something we touched on but worth wild to look further.\n",
    "import numpy as np\n",
    "from numpy import random\n",
    "\n",
    "SEED = 1234\n",
    "\n",
    "random.seed(SEED)"
   ]
  },
  {
   "cell_type": "markdown",
   "metadata": {},
   "source": [
    "Before anything we need to take raw text and convert to numerical inputs for the machine learning algorithms.\n",
    "\n",
    "The first step is to split the sentences into words, we will do this through a method of Tokenization (or splitting)."
   ]
  },
  {
   "cell_type": "code",
   "execution_count": 8,
   "metadata": {},
   "outputs": [
    {
     "name": "stdout",
     "output_type": "stream",
     "text": [
      "0    [we, had, a, great, stay, at, the, cottage, we...\n",
      "1    [teresa, and, her, husband, are, a, wonderful,...\n",
      "2    [great, place, to, stay, if, you, want, the, e...\n",
      "3    [very, welcoming, home, and, kind, hosts, we, ...\n",
      "4    [welcoming, and, flexible, host, nice, stay, i...\n",
      "Name: comments, dtype: object\n"
     ]
    },
    {
     "name": "stderr",
     "output_type": "stream",
     "text": [
      "C:\\Users\\heath\\Anaconda3\\envs\\base3\\lib\\site-packages\\ipykernel_launcher.py:14: SettingWithCopyWarning: \n",
      "A value is trying to be set on a copy of a slice from a DataFrame.\n",
      "Try using .loc[row_indexer,col_indexer] = value instead\n",
      "\n",
      "See the caveats in the documentation: http://pandas.pydata.org/pandas-docs/stable/user_guide/indexing.html#returning-a-view-versus-a-copy\n",
      "  \n"
     ]
    }
   ],
   "source": [
    "### Define simple space tokenizer\n",
    "translator = str.maketrans('', '', string.punctuation)\n",
    "tk = tokenize.simple.SpaceTokenizer()\n",
    "\n",
    "def simple_tokenizer(x):\n",
    "    x = x.translate(translator).strip().lower()\n",
    "    return tk.tokenize(x)\n",
    "\n",
    "### Quick look at what the tokenizer produces\n",
    "print(df2['comments'].head().apply(lambda x : simple_tokenizer(x)))\n",
    "#df['polarity'] = df['comments']\n",
    "analyzer = SentimentIntensityAnalyzer()\n",
    "\n",
    "df2['polarity']=df2['comments'].apply(lambda x : str(analyzer.polarity_scores(x)[\"compound\"]))\n",
    "### Developing the corpus or list of sentences for processing later\n",
    "corpus = df2['comments'].tolist()\n",
    "\n"
   ]
  },
  {
   "cell_type": "code",
   "execution_count": 9,
   "metadata": {
    "scrolled": true
   },
   "outputs": [
    {
     "name": "stderr",
     "output_type": "stream",
     "text": [
      "C:\\Users\\heath\\Anaconda3\\envs\\base3\\lib\\site-packages\\ipykernel_launcher.py:1: SettingWithCopyWarning: \n",
      "A value is trying to be set on a copy of a slice from a DataFrame.\n",
      "Try using .loc[row_indexer,col_indexer] = value instead\n",
      "\n",
      "See the caveats in the documentation: http://pandas.pydata.org/pandas-docs/stable/user_guide/indexing.html#returning-a-view-versus-a-copy\n",
      "  \"\"\"Entry point for launching an IPython kernel.\n"
     ]
    }
   ],
   "source": [
    "df2['class'] = df2['polarity'].astype(float).apply(lambda x : 'positive' if x > 0.0 else 'negative')\n",
    "\n",
    "class_names = ['negative', 'positive']\n",
    "\n",
    "# df2['polarity'] = df2['polarity'].astype(float)"
   ]
  },
  {
   "cell_type": "code",
   "execution_count": 10,
   "metadata": {},
   "outputs": [
    {
     "name": "stderr",
     "output_type": "stream",
     "text": [
      "C:\\Users\\heath\\Anaconda3\\envs\\base3\\lib\\site-packages\\ipykernel_launcher.py:1: SettingWithCopyWarning: \n",
      "A value is trying to be set on a copy of a slice from a DataFrame.\n",
      "Try using .loc[row_indexer,col_indexer] = value instead\n",
      "\n",
      "See the caveats in the documentation: http://pandas.pydata.org/pandas-docs/stable/user_guide/indexing.html#returning-a-view-versus-a-copy\n",
      "  \"\"\"Entry point for launching an IPython kernel.\n"
     ]
    }
   ],
   "source": [
    "df2['polarity2'] = df2['polarity'].astype(float).apply(lambda x : 1 if x > 0.0 else 0)"
   ]
  },
  {
   "cell_type": "markdown",
   "metadata": {},
   "source": [
    "We will now use the tokenizer within the TFIDF vectorizer.  The words might sound intimidating yet simply yet in reality basically we just counting the number of times a words occur within the sentence relative to the whole sample (sometimes called a corpus)."
   ]
  },
  {
   "cell_type": "code",
   "execution_count": 11,
   "metadata": {},
   "outputs": [
    {
     "data": {
      "text/html": [
       "<div>\n",
       "<style scoped>\n",
       "    .dataframe tbody tr th:only-of-type {\n",
       "        vertical-align: middle;\n",
       "    }\n",
       "\n",
       "    .dataframe tbody tr th {\n",
       "        vertical-align: top;\n",
       "    }\n",
       "\n",
       "    .dataframe thead th {\n",
       "        text-align: right;\n",
       "    }\n",
       "</style>\n",
       "<table border=\"1\" class=\"dataframe\">\n",
       "  <thead>\n",
       "    <tr style=\"text-align: right;\">\n",
       "      <th></th>\n",
       "      <th>listing_id</th>\n",
       "      <th>id</th>\n",
       "      <th>date</th>\n",
       "      <th>comments</th>\n",
       "      <th>polarity</th>\n",
       "      <th>class</th>\n",
       "      <th>polarity2</th>\n",
       "    </tr>\n",
       "  </thead>\n",
       "  <tbody>\n",
       "    <tr>\n",
       "      <th>0</th>\n",
       "      <td>44077.0</td>\n",
       "      <td>419600626.0</td>\n",
       "      <td>3/4/2019</td>\n",
       "      <td>We had a great stay at the cottage. We loved t...</td>\n",
       "      <td>0.9081</td>\n",
       "      <td>positive</td>\n",
       "      <td>1</td>\n",
       "    </tr>\n",
       "    <tr>\n",
       "      <th>1</th>\n",
       "      <td>44077.0</td>\n",
       "      <td>421384918.0</td>\n",
       "      <td>3/9/2019</td>\n",
       "      <td>Teresa and her husband are a wonderful and war...</td>\n",
       "      <td>0.9878</td>\n",
       "      <td>positive</td>\n",
       "      <td>1</td>\n",
       "    </tr>\n",
       "    <tr>\n",
       "      <th>2</th>\n",
       "      <td>44077.0</td>\n",
       "      <td>427270205.0</td>\n",
       "      <td>3/23/2019</td>\n",
       "      <td>Great place to stay if you want the experience...</td>\n",
       "      <td>0.6597</td>\n",
       "      <td>positive</td>\n",
       "      <td>1</td>\n",
       "    </tr>\n",
       "    <tr>\n",
       "      <th>3</th>\n",
       "      <td>44077.0</td>\n",
       "      <td>430911992.0</td>\n",
       "      <td>3/31/2019</td>\n",
       "      <td>Very welcoming home and kind hosts. We had a v...</td>\n",
       "      <td>0.9199</td>\n",
       "      <td>positive</td>\n",
       "      <td>1</td>\n",
       "    </tr>\n",
       "    <tr>\n",
       "      <th>4</th>\n",
       "      <td>44077.0</td>\n",
       "      <td>438341286.0</td>\n",
       "      <td>4/16/2019</td>\n",
       "      <td>Welcoming and flexible host. Nice stay in Dublin.</td>\n",
       "      <td>0.765</td>\n",
       "      <td>positive</td>\n",
       "      <td>1</td>\n",
       "    </tr>\n",
       "  </tbody>\n",
       "</table>\n",
       "</div>"
      ],
      "text/plain": [
       "   listing_id           id       date  \\\n",
       "0     44077.0  419600626.0   3/4/2019   \n",
       "1     44077.0  421384918.0   3/9/2019   \n",
       "2     44077.0  427270205.0  3/23/2019   \n",
       "3     44077.0  430911992.0  3/31/2019   \n",
       "4     44077.0  438341286.0  4/16/2019   \n",
       "\n",
       "                                            comments polarity     class  \\\n",
       "0  We had a great stay at the cottage. We loved t...   0.9081  positive   \n",
       "1  Teresa and her husband are a wonderful and war...   0.9878  positive   \n",
       "2  Great place to stay if you want the experience...   0.6597  positive   \n",
       "3  Very welcoming home and kind hosts. We had a v...   0.9199  positive   \n",
       "4  Welcoming and flexible host. Nice stay in Dublin.    0.765  positive   \n",
       "\n",
       "   polarity2  \n",
       "0          1  \n",
       "1          1  \n",
       "2          1  \n",
       "3          1  \n",
       "4          1  "
      ]
     },
     "execution_count": 11,
     "metadata": {},
     "output_type": "execute_result"
    }
   ],
   "source": [
    "df2.head()"
   ]
  },
  {
   "cell_type": "code",
   "execution_count": 13,
   "metadata": {},
   "outputs": [
    {
     "name": "stdout",
     "output_type": "stream",
     "text": [
      "Vector features :  ['', '\\tan', '\\n', '\\n\\tare', '\\n\\tstay', '\\n\\tthere', '\\n\\twe', '\\n\\n', '\\n\\n\\namazing', '\\n\\n\\noverall\\nall', '\\n\\n1010', '\\n\\n2', '\\n\\n2\\tbad', '\\n\\n3', '\\n\\n4', '\\n\\n4\\thorrible', '\\n\\n5\\t', '\\n\\n7\\tdirty', '\\n\\n8\\tnoise', '\\n\\na', '\\n\\nabout', '\\n\\nabsolute', '\\n\\naccess', '\\n\\nagain', '\\n\\nall', '\\n\\nalso', '\\n\\nalthough', '\\n\\nand', '\\n\\nanne', '\\n\\napartment', '\\n\\nas', '\\n\\nask', '\\n\\nawesome', '\\n\\nbe', '\\n\\nbeautiful', '\\n\\nbed', '\\n\\nbob', '\\n\\nbreakfast', '\\n\\nbridgette', '\\n\\nbut', '\\n\\nbuy', '\\n\\ncal', '\\n\\ncan', '\\n\\ncars', '\\n\\ncatherine', '\\n\\ncheckin', '\\n\\nchecking', '\\n\\nchris', '\\n\\ncleanliness', '\\n\\nclose', '\\n\\ncommunal', '\\n\\ncommunication', '\\n\\nconnecting', '\\n\\nconor', '\\n\\ncons', '\\n\\ncouch', '\\n\\ncouple', '\\n\\ncowper', '\\n\\ndaragh', '\\n\\ndardo', '\\n\\ndefinitely', '\\n\\ndes', '\\n\\ndo', '\\n\\ndont', '\\n\\ndorothy', '\\n\\ndublin', '\\n\\nduring', '\\n\\neasy', '\\n\\nelaine', '\\n\\nenjoyable', '\\n\\neven', '\\n\\neverything', '\\n\\nexcellent', '\\n\\nfallons', '\\n\\nfavorite', '\\n\\nfidelmas', '\\n\\nfirst', '\\n\\nfor', '\\n\\nfourth', '\\n\\ngarrett', '\\n\\ngerard', '\\n\\ngetting', '\\n\\ngordon', '\\n\\ngreat', '\\n\\nhe', '\\n\\nher', '\\n\\nhiccups', '\\n\\nhighly', '\\n\\nhis', '\\n\\nhope', '\\n\\nhospitality', '\\n\\nhosts', '\\n\\nhowever', '\\n\\ni', '\\n\\niain', '\\n\\nid', '\\n\\nif', '\\n\\nim', '\\n\\nin', '\\n\\ninese', '\\n\\ninternet', '\\n\\nit', '\\n\\nits', '\\n\\niuri', '\\n\\nive', '\\n\\njameson', '\\n\\njason', '\\n\\njohn', '\\n\\njust', '\\n\\nkaren', '\\n\\nkeep', '\\n\\nken', '\\n\\nkieran', '\\n\\nkind', '\\n\\nlastly', '\\n\\nlauren', '\\n\\nlen', '\\n\\nlex', '\\n\\nlittle', '\\n\\nliving', '\\n\\nlocation', '\\n\\nlook', '\\n\\nlove', '\\n\\nmany', '\\n\\nmarco', '\\n\\nmarcus', '\\n\\nmary', '\\n\\nmichael', '\\n\\nmuraed', '\\n\\nmy', '\\n\\nmyself', '\\n\\nnicole', '\\n\\nnow', '\\n\\non', '\\n\\nonce', '\\n\\none', '\\n\\nonly', '\\n\\nother', '\\n\\nour', '\\n\\nover', '\\n\\noverall', '\\n\\npaul', '\\n\\nperfect', '\\n\\npeter', '\\n\\nphillipa', '\\n\\nphyllis', '\\n\\nplace', '\\n\\nplease', '\\n\\npoint', '\\n\\npoor', '\\n\\npros', '\\n\\npros\\n1', '\\n\\nps\\n\\nleaving', '\\n\\npubs', '\\n\\nquicker', '\\n\\nquite', '\\n\\nrachel', '\\n\\nraes', '\\n\\nreally', '\\n\\nretro', '\\n\\nrick', '\\n\\nrobbie', '\\n\\nroisin', '\\n\\nroom', '\\n\\nsabrina', '\\n\\nshe', '\\n\\nsheelaghs', '\\n\\nsiobhan', '\\n\\nsome', '\\n\\nsonia', '\\n\\nspace', '\\n\\nspacious', '\\n\\nspotlessly', '\\n\\nsuch', '\\n\\nsuggestions', '\\n\\nsuzanne', '\\n\\ntaxi', '\\n\\nteresa', '\\n\\nthank', '\\n\\nthanks', '\\n\\nthat', '\\n\\nthe', '\\n\\ntheir', '\\n\\nthere', '\\n\\ntheres', '\\n\\ntherese', '\\n\\nthey', '\\n\\nthings', '\\n\\nthis', '\\n\\nthree', '\\n\\ntiziana', '\\n\\nto', '\\n\\ntook', '\\n\\ntotally', '\\n\\ntrish', '\\n\\ntruly', '\\n\\nturns', '\\n\\nunfortunately', '\\n\\nunless', '\\n\\nunlike', '\\n\\nupon', '\\n\\nvalue', '\\n\\nvery', '\\n\\nwalking', '\\n\\nwe', '\\n\\nwell', '\\n\\nwendy', '\\n\\nweve', '\\n\\nwhat', '\\n\\nwhen', '\\n\\nwhile', '\\n\\nwhy', '\\n\\nwifi', '\\n\\nwill', '\\n\\nwould', '\\n\\nyou', '\\n\\nyoull', '\\n\\nyour', '\\n1', '\\n100', '\\n1310', '\\n2', '\\n20', '\\n3', '\\n5', '\\n55', '\\n6', '\\na', '\\nabsolutely', '\\nafter', '\\nagain', '\\nall', '\\nallowed', '\\nalmu', '\\nalot', '\\nalso', '\\nalthough', '\\nalwyn', '\\namazing', '\\nand', '\\nandrew', '\\nandy', '\\nangelina', '\\nann', '\\nanthony', '\\nanyone', '\\nanyways', '\\napartment', '\\nappartamento', '\\nas', '\\nbad', '\\nbarbara', '\\nbarry', '\\nbe', '\\nbed', '\\nbedroom', '\\nben', '\\nbernard', '\\nbest', '\\nboiler', '\\nbonne', '\\nbreakfast', '\\nbrian', '\\nbriefly', '\\nbrowns', '\\nbtw', '\\nbus', '\\nbut', '\\ncalvin', '\\ncarla', '\\ncaroline', '\\ncasa', '\\ncathal', '\\ncatherine', '\\ncayce', '\\ncheck', '\\ncheckin', '\\nchecking', '\\nchris', '\\nchristine', '\\nclean', '\\nclean\\ngreat', '\\nclose', '\\ncommunication', '\\ncompact', '\\nconnor', '\\nconor', '\\ncottage', '\\ncozy', '\\ncurrently', '\\ndaragh', '\\ndave', '\\ndef', '\\ndefinitely', '\\ndeniz', '\\ndichtbij', '\\ndid', '\\ndinner', '\\ndirei', '\\ndont', '\\ndouche', '\\ndue', '\\neamon', '\\neasy', '\\neddie', '\\neileen', '\\nel', '\\nelaine', '\\nensuite', '\\ner', '\\neven', '\\neverything', '\\nextremely', '\\nfidelma', '\\nfidelmas', '\\nfiona', '\\nfor', '\\nfran', '\\nfrancis', '\\nfreddy', '\\nfriendly', '\\nfunctional', '\\nfurthermore', '\\ngarden', '\\ngerard', '\\ngetting', '\\ngloria', '\\ngood', '\\ngreat', '\\ngreeted', '\\nhang', '\\nhans', '\\nhe', '\\nher', '\\nhes', '\\nhet', '\\nhi', '\\nhighly', '\\nhis', '\\nhonestly', '\\nhope', '\\nhouse', '\\nhowever', '\\ni', '\\nid', '\\nif', '\\nim', '\\nin', '\\ninese', '\\nis', '\\nisa', '\\nisabelle', '\\nit', '\\nits', '\\njackie', '\\njalia', '\\njames', '\\njane', '\\njason', '\\njean', '\\njeder', '\\njen', '\\njohns', '\\njust', '\\nkarin', '\\nkathy', '\\nkeep', '\\nkieran', '\\nkitchen', '\\nleighann', '\\nleo', '\\nlina', '\\nlinda', '\\nlittle', '\\nlocal', '\\nlocation', '\\nlots', '\\nlovely', '\\nmaeve', '\\nmagdolna', '\\nmake', '\\nmany', '\\nmargaret', '\\nmarias', '\\nmarius', '\\nmariusz', '\\nmark', '\\nmary', '\\nmet', '\\nmicheal', '\\nmichelle', '\\nmichelles', '\\nmonica', '\\nmost', '\\nmuch', '\\nmuraed', '\\nmy', '\\nneedless', '\\nnice', '\\nnicole', '\\nno', '\\nnot', '\\nnote', '\\nodilon', '\\noffered', '\\non', '\\nonce', '\\none', '\\nonly', '\\norganic', '\\nother', '\\notherwise', '\\nour', '\\noverall', '\\nowner', '\\npatsy', '\\npaul', '\\nperfect', '\\npeter', '\\nplace', '\\nplenty', '\\nplus', '\\nprevious', '\\nprivate', '\\nps', '\\nquiet', '\\nrae', '\\nrayne', '\\nreally', '\\nregards', '\\nrespect', '\\nright', '\\nrobbie', '\\nroom', '\\nsabrina', '\\nsam', '\\nsandra', '\\nsandy', '\\nsarah', '\\nschedule', '\\nsecond', '\\nsee', '\\nsharing', '\\nshe', '\\nsheelagh', '\\nshort', '\\nsimon', '\\nsince', '\\nsineads', '\\nsiteseeing', '\\nsmall', '\\nso', '\\nsome', '\\nsonia', '\\nspace', '\\nsparkling', '\\nspecially', '\\nstay', '\\nstephen', '\\nsteve', '\\nstill', '\\nstylish', '\\nsuper', '\\ntania', '\\nteresa', '\\nthan', '\\nthank', '\\nthanks', '\\nthat', '\\nthe', '\\ntheir', '\\nthere', '\\ntheres', '\\nthey', '\\ntheyre', '\\nthis', '\\nthrough', '\\nthumbs', '\\ntiziana', '\\ntom', '\\ntonys', '\\ntop', '\\ntotally', '\\ntracey', '\\ntrainstation', '\\ntransport', '\\ntrish', '\\ntv', '\\ntwo', '\\nuna', '\\nunbelievably', '\\nunderground', '\\nunfortunately', '\\nupmarket', '\\nvadym', '\\nvalue', '\\nvanessa', '\\nvery', '\\nwalking', '\\nwarm', '\\nwas', '\\nwashing', '\\nwe', '\\nweekend', '\\nwell', '\\nwendy', '\\nwere', '\\nwest', '\\nweve', '\\nwhat', '\\nwhen', '\\nwhenever', '\\nwhile', '\\nwifi', '\\nwill', '\\nwith', '\\nwithin', '\\nwould', '\\nxxx', '\\nyes', '\\nyou', '\\nyour', '\\nyummy', '\\nyvonne', '00', '0000', '05', '1', '1\\nthe', '10', '100', '100\\nthanks', '1000', '100euro', '100m', '100year', '101', '1010', '1012', '1015', '1015m', '1015min', '1015mins', '102', '1020', '1030', '1030pm', '109', '10am', '10euro', '10min', '10mins', '10minute', '10pm', '10to15minute', '11', '110', '1100', '1100pm', '1105', '111', '1110', '1114', '1130', '1130pm', '1130pm\\nid', '115', '11am', '11hebben', '11p', '11pm', '11th', '12', '120', '1210', '1215', '123', '1230', '12301pm', '1230am', '1250', '126', '12600', '127', '12am', '12km', '12min', '12mins', '12pm', '12th', '13', '130', '130cm', '1316', '133', '1350', '14', '140', '142', '145', '14min', '15', '150', '1500', '1500\\nhosts', '1520', '1520mims', '1520min', '1520mins', '1530', '15a', '15h', '15ish', '15m', '15mbps', '15min', '15mins', '15minute', '15minutecabride', '15minutes', '15mn', '16', '16\\nthe', '164', '17', '1722', '174', '175', '176', '177', '1790', '1792', '17km', '18', '1800', '1825', '18km', '18th', '19', '1900', '190m', '1917', '1920', '1950', '197m', '1am', '1h', '1km', '1min', '1minute', '1pm', '1robbie', '1st', '1week', '1year', '2', '20', '200', '2000', '200m', '2013', '2016\\n\\njust', '2017', '2018', '2019', '2019th', '2025', '2025min', '2025mins', '2030', '2030euro', '2030min', '2030mins', '2035', '2040', '20m', '20min', '20mins', '20minute', '20minutes', '20something', '20somethings', '210', '215', '21h', '21st', '22', '226', '22h', '23', '231', '234', '24', '240an', '247', '24h', '24hour', '25', '250', '2528', '2530', '2530min', '2535', '2545', '25min', '25mins', '25minute', '25walk', '26', '265', '268', '27', '275', '27a', '28', '28th', '29', '291', '293131a', '297', '2am', '2bed', '2bedroom', '2cozy', '2day', '2hrs', '2in1', '2min', '2minute', '2minutewalk', '2nd', '2pm', '2week', '2year', '2yo', '3', '30', '300', '300m', '300pm', '3035', '3040', '3045', '30ish', '30ishminute', '30m', '30min', '30mins', '30minute', '30minutewalk', '30mn', '30s40s', '30th', '310', '32', '320', '33', '330', '334', '3366', '34', '35', '350', '3540min', '3545', '3550', '35minfootwalk', '36', '360', '37', '373939a', '38', '384', '39', '3am', '3arena', '3arena\\n\\nbarbara', '3bed', '3course', '3day', '3easy', '3eurosride', '3girls', '3km', '3min', '3mins', '3minute', '3minutes', '3minwalk', '3pm', '3rd', '3used', '3x', '4', '4\\nthe', '40', '4045', '40min', '40th', '41', '410', '42', '43', '430', '430am', '44', '45', '450', '45min', '45mins', '46', '46a', '47', '48', '4adults', '4am', '4day', '4flights', '4ft', '4p', '4pm', '4seasons', '4th', '5', '50', '500', '500m', '510', '510min', '515', '515pm', '519', '52', '53', '530', '54', '545am', '55', '56', '57', '58', '59', '5am', '5day', '5ft', '5km', '5min', '5mins', '5minute', '5minutes', '5mn', '5piece', '5pm', '5star', '5th', '6', '60', '60s', '625', '630', '630pm', '636', '640', '645', '650', '6510\\nsofa', '67', '68yo', '6am', '6ft', '6min', '6pm', '6pm10am', '6th', '6yo', '7', '700', '700am', '700pm', '70ies', '70m', '70s', '70s80s', '718', '72', '72h', '72hr', '72hticket', '730', '747', '747\\n\\nthe', '747\\noverall', '747757', '75', '757', '76', '79', '7979a40', '7a', '7am', '7km', '7mins', '7pm', '7th', '7yo', '8', '80', '800', '8090', '80s', '81', '810', '83', '830', '85', '86', '860', '86yo', '87', '89', '8930', '8am', '8euro', '8mins', '8pm', '9', '90', '900', '90min', '91', '910pm', '930', '930pm', '945', '99', '9915', '9am', '9hours', '9pm', '9yearold', '9yo', 'a1', 'aa', 'aan', 'aanbevelenswaardig', 'aanbevelingen', 'aanraden', 'aanrader', 'aantal', 'aanwezig', 'aanwezig\\nwoning', 'aardig', 'ab', 'aback', 'abandoned', 'abb', 'abbastanza', 'abbey', 'abdullah', 'aber', 'abide', 'ability', 'abit', 'abitazione', 'able', 'abnb', 'abode', 'abound', 'about\\n\\nken', 'about\\nthank', 'abovethecallofduty', 'abroad', 'abrupt', 'absence', 'absence\\n\\noverall', 'absentee', 'absolut', 'absolutamente', 'absolute', 'absolutel', 'absolutelly', 'absolutely', 'absolutly', 'absorbent', 'absouletely', 'absurd', 'abundance', 'abundant', 'ac', 'academic', 'accent', 'accent\\ncheck', 'accept', 'acceptable', 'acceptable\\nproperty', 'accepted', 'accepted\\ni', 'acces', 'accesible', 'acceso', 'access', 'accessable', 'accessed', 'accessed\\nother', 'accessibility', 'accessibility\\n\\nthe', 'accessible', 'accessing', 'accessoires', 'accessori', 'accessoriato', 'accessories', 'accessorized', 'accessory', 'accessroom', 'accident', 'accidentally', 'accidently', 'accidents', 'acclimated', 'acclimating', 'accogliente', 'accoglienza', 'accomadating', 'accomadation', 'accomidation', 'accommodate', 'accommodated', 'accommodates', 'accommodatie', 'accommodating', 'accommodating\\na', 'accommodation', 'accommodation\\nthanks', 'accommodationdefinitely', 'accommodations', 'accommodations\\n\\ngretchen', 'accommodationsfor', 'accommodative', 'accommodiation', 'accommondation', 'accomodate', 'accomodated', 'accomodating', 'accomodating\\nits', 'accomodation', 'accomodations', 'accomondation', 'accompagnato', 'accompanied', 'accompany', 'accomplish', 'according', 'accordingly', 'account', 'accounted', 'accueil', 'accumulated', 'accuracy', 'accurate', 'accurate\\nwe', 'accurately', 'accused', 'achieved', 'acknowledge', 'acknowledged', 'acogedor', 'acogedora', 'acolhimento', 'acomodate', 'acomodation', 'acoomodating', 'acquainted', 'acrylic', 'act', 'acting', 'action', 'action\\npeter', 'actions', 'activate', 'active', 'activities', 'activities\\nalthough', 'activity', 'actual', 'actuality', 'actually', 'ad', 'adam', 'adams', 'adaptable', 'adapted', 'adapter', 'adapter\\n\\ngreat', 'adapters', 'adaptor', 'adaptors', 'adattatori', 'add', 'added', 'addictive', 'addicts', 'adding', 'addition', 'additional', 'additionally', 'additions', 'addon', 'address', 'address\\nwhen', 'addressed', 'addressed\\n\\tfalse', 'addresses', 'addressing', 'adds', 'adentro', 'adequate', 'adequately', 'adequation', 'adherence', 'adjacent', 'adjectives', 'adjoining', 'adjust', 'adjusted', 'adjusting', 'admire', 'admiring', 'admission', 'admit', 'admitted', 'adopted', 'adorable', 'adorablesuch', 'adored', 'adorned', 'adres', 'adress', 'adresse', 'adresses', 'adrian', 'adrianne', 'adrians', 'adrienne', 'adrienne\\neverything', 'adriennes', 'adult', 'adults', 'adults\\nin', 'adv', 'advance', 'advantage', 'advantages', 'advantatge', 'adventure', 'adventurer', 'adventures', 'adventuring', 'advert', 'advertise', 'advertised', 'advertisement', 'advertises', 'advertising', 'advice', 'adviced', 'adviceideas', 'advices', 'advies', 'advisable', 'advise', 'advised', 'advises', 'aercode', 'aereo', 'aerobus', 'aeropuertohay', 'aerport', 'aesthetic', 'aesthetically', 'af', 'af\\njammer', 'afar', 'affable', 'affairs', 'affect', 'affected', 'affectionate', 'affectionately', 'affermando', 'afford', 'affordability', 'affordable', 'affordable\\n\\nthe', 'afforded', 'affording', 'affords', 'afgesloten', 'afield', 'afraid', 'africa', 'african', 'afstandelijk', 'after\\nalways', 'after\\nthe', 'after\\nvery', 'aftera', 'afternoon', 'afterthe', 'afterward', 'afterword', 'aga', 'again\\n\\nbrendan', 'again\\n\\ncindy', 'again\\n\\nif', 'again\\n\\nthank', 'again\\n\\nthe', 'again\\ncheers', 'again\\nflorian', 'again\\ngreat', 'again\\nps', 'again\\npublic', 'again\\nthanks', 'again\\nthe', 'again1010', 'againespecially', 'againwe', 'agat', 'age', 'aged', 'agencies\\ntidy\\nsmall', 'agency', 'agenda', 'agent', 'ages', 'aggravate', 'aggression', 'agin', 'agitated', 'agnes', 'agness', 'ago', 'agradable', 'agradables', 'agradece', 'agreable', 'agreat', 'agree', 'agreeable', 'agreed', 'agreement', 'agro', 'agsin', 'aguiar', 'aguiars', 'aguilar', 'aguilars', 'aguir', 'agusto', 'ah', 'ahead', 'ahold', 'aid', 'aida', 'aidan', 'aidans', 'aidas', 'aided', 'aiden', 'ailing', 'aims', 'aiofe', 'aiofes', 'air', 'air\\n\\nthere', 'airbandb', 'airbb', 'airbed', 'airbnb', 'airbnb\\n\\nlaura', 'airbnb\\nthere', 'airbnb\\nvery', 'airbnber', 'airbnbexperience', 'airbnbs', 'airbnbsbnbs', 'aircoach', 'aircraft', 'aired', 'airline', 'airliners', 'airlink', 'airpiort', 'airplane', 'airplanes', 'airpods', 'airport', 'airport\\n\\neverything', 'airport\\n\\nid', 'airport\\n\\nthe', 'airport\\n\\nthings', 'airport\\n2', 'airport\\na', 'airport\\nalbert', 'airport\\nits', 'airport\\njohn', 'airport\\nnow', 'airport\\nplace', 'airport\\nthank', 'airport\\nthe', 'airport\\nwalk', 'airport\\nwe', 'airport230', 'airportand', 'airporteverything', 'airportquiet', 'airportvery', 'airportwe', 'airy', 'airy\\n\\nunfortunately', 'aishling', 'aiutato', 'aka', 'akin', 'al', 'alan', 'alans', 'alarm', 'alarming', 'alarms', 'albeit', 'albert', 'alberta', 'alberts', 'alcanza', 'alcohol', 'alcove', 'aldi', 'aldis', 'alejado', 'alex', 'alexa', 'alfie', 'algo', 'algunas', 'ali', 'aligned', 'alike', 'alis', 'alison', 'alisons', 'alive', 'all\\n\\nif', 'all\\n\\nlocation', 'all\\n1\\tbed', 'all\\n3', 'all\\namazing', 'all\\nthe', 'all\\nwould', 'alla', 'allaround', 'alle', 'alleen', 'allen', 'allerbelangrijkst', 'allergic', 'allergies', 'allergy', 'alles', 'alleviate', 'alley', 'alley\\nhost', 'alleyway', 'alli', 'allinall', 'allisons', 'allit', 'allocated', 'alloggio', 'alloggioin', 'allot', 'allow', 'allowed', 'allowing', 'allows', 'allround', 'ally', 'alma', 'almighty', 'almoco', 'alojamiento', 'alojandonos', 'alone\\nyou', 'alongside', 'alot', 'alotta', 'alpaca', 'alphabet', 'alquilado', 'alright', 'als', 'alter', 'alternate', 'alternativa', 'alternative', 'alternatives', 'altijd', 'altogether', 'altra', 'altri', 'altro', 'altstadthaus', 'aluminum', 'alway', 'alwayshighly', 'alwyn', 'alwynireland', 'alwyns', 'am\\nfinding', 'amabilidad', 'amable', 'amables', 'amada', 'amaizing', 'amanda', 'amanda\\ndefinitively', 'amandas', 'amazed', 'amazement', 'amazing', 'amazing\\n\\nthe', 'amazing\\nhope', 'amazing\\nso', 'amazing\\nthank', 'amazing\\nwe', 'amazing\\nwill', 'amazinggg', 'amazingly', 'amazingt', 'amazon', 'ambassador', 'ambiance', 'ambience', 'ambitios', 'amd', 'amenable', 'ameniable', 'amenities', 'amenities\\nthe', 'amenitities', 'amenity', 'amentities', 'america', 'american', 'americans', 'americas', 'amiable', 'amicable', 'amici', 'amidst', 'amienities', 'amiss', 'ammenities', 'ammenties', 'amore', 'amounted', 'amounts', 'amphitheans', 'ampi', 'ampio', 'ample', 'amplia', 'ampliacamas', 'ams', 'amy', 'amzing', 'anbieter', 'anbindung', 'anche', 'ancient', 'ancora', 'andando', 'andare', 'andate', 'andato', 'andere', 'andor', 'andrea', 'andreas', 'andrew', 'andrews', 'andthe', 'andy', 'andys', 'anfahrt', 'anfitrion', 'anfitriona', 'angel', 'angela', 'angelaandre', 'angelina', 'angelinas', 'angellotti', 'angenehmen', 'angenehmer', 'angenehmes', 'anger', 'angie', 'angle', 'anglers', 'angrily', 'angry', 'animals', 'animated', 'ankle', 'ann', 'anna', 'annas', 'anne', 'annemarie', 'annemaries', 'annes', 'annex', 'anniversary', 'annmarie', 'annmaries', 'annotate', 'annotated', 'announcement', 'annoyance', 'annoying', 'anns', 'annual', 'annuncio', 'ans', 'ansprechbar', 'ansvar', 'answer', 'answered', 'answering', 'answers', 'ant', 'anthony', 'anthonys', 'anthropologie', 'antica', 'anticipated', 'anticipates', 'anticipating', 'antique', 'antiques', 'antiseptic', 'antislip', 'antisocial', 'antistante', 'anton', 'antons', 'antony', 'ants', 'antwoord', 'antwoordt', 'antwort', 'antworten', 'anwer', 'anxious', 'anybody', 'anybody\\n\\ntop', 'anymore', 'anymore\\ntop', 'anyone\\n\\ntwo', 'anyplace', 'anything\\nthe', 'anything\\nwe', 'anytime', 'anyway\\nthe', 'anyways', 'anzi', 'aofies', 'aoifa', 'aoife', 'aoifes', 'aovy', 'aparments', 'apart', 'apartado', 'apartament', 'apartamento', 'apartement', 'apartemnt', 'apartent', 'apartman', 'apartmen', 'apartmennt', 'apartment', 'apartment\\n\\nfinally', 'apartment\\n\\nif', 'apartment\\n\\nthe', 'apartment\\nbrilliant', 'apartment\\nellie', 'apartment\\ngarden', 'apartment\\ni', 'apartment\\nif', 'apartment\\nmichaels', 'apartment\\nplace', 'apartment\\nthe', 'apartment\\nwhen', 'apartmentbuilding', 'apartmentfinding', 'apartmentperfect', 'apartments', 'apartmentwe', 'aperto', 'apiece', 'aplomb', 'apoartemment', 'apoio', 'apologetic', 'apologised', 'apologized', 'app', 'appalled', 'apparent', 'apparently', 'apparment', 'appartament', 'appartamento', 'appartement', 'appartement\\ncontact', 'appartmeant', 'appartment', 'appealing', 'appear', 'appeared', 'appearing', 'appears', 'appetite', 'apple', 'applewood', 'appliance', 'appliances', 'application', 'applications', 'applied', 'applies', 'apply', 'appointed', 'appointment', 'appointments', 'apportioned', 'appr', 'appreciable', 'appreciate', 'appreciated', 'appreciated\\n\\nthank', 'appreciated\\n\\nthe', 'appreciated\\nthe', 'appreciated\\nunfortunately', 'appreciates', 'appreciating', 'appreciation', 'appreciative', 'appreciative\\nthe', 'apprehension', 'apprehensive', 'apprezzato', 'approach', 'approachable', 'approachable\\nthe', 'approachablevery', 'appropriate', 'appropriately', 'approved', 'approx', 'approximately', 'apps', 'appt', 'aprender', 'april', 'aprirmi', 'aprons', 'aprox', 'apt', 'apt\\nwill', 'aqua', 'ar', 'arabic', 'arachnophobes', 'arbour', 'arch', 'archaeology', 'archaic', 'archie', 'architect', 'architectual', 'architectural', 'architecture', 'archives', 'archivesand', 'are\\n\\neven', 'are\\nclose', 'are\\nthe', 'area', 'area\\n\\ncons', 'area\\n\\ni', 'area\\n\\nthe', 'area\\n\\nthis', 'area\\ngood', 'area\\nhost', 'area\\nthe', 'area\\nthere', 'area\\nwe', 'area\\nwould', 'areaclose', 'areahome', 'areas', 'areaschurches', 'areashops', 'arena', 'arena\\n\\nthe', 'arent', 'argue', 'arise', 'arises', 'arking', 'arlene', 'arlenes', 'arm', 'armchair', 'armchairs', 'armoire', 'arms', 'army', 'aroma', 'aromatherapy', 'around\\n\\nit', 'around\\nthank', 'around\\nthe', 'arrange', 'arranged', 'arrangement', 'arrangement\\n\\nthe', 'arrangements', 'arrangements\\nthe', 'arranges', 'arranging', 'array', 'arredato', 'arring', 'arrival', 'arrival3', 'arrivaldepartures', 'arrivals', 'arrivalshe', 'arrive', 'arrived', 'arrived\\n\\nall', 'arrived\\n\\nhighly', 'arrived\\nlow', 'arrivel', 'arriving', 'arrogant', 'arron', 'arround', 'art', 'artefacts', 'artery', 'artful', 'artfully', 'arthighy', 'arthouse', 'arthurs', 'artisan', 'artisans', 'artisitc', 'artist', 'artistic', 'artists', 'artsy', 'artwork', 'artworks', 'arty', 'asap', 'asap\\n\\nthanks', 'asap\\nit', 'ashton', 'ashtons', 'asia', 'asian', 'aside', 'ask', 'ask\\nthanks', 'asked', 'asking', 'asksearch', 'asleep', 'aspect', 'aspecto', 'aspectos', 'aspects', 'aspettato', 'assemble', 'assessable', 'assessing', 'assessment', 'asset', 'assist', 'assistance', 'assistant', 'assisted', 'assisting', 'associates', 'assortiment', 'assortment', 'assume', 'assumed', 'assuming', 'assure', 'assured', 'assuredly', 'assures', 'assuring', 'aston', 'astonishing', 'astounding', 'aswell', 'asy', 'atbest', 'ate', 'atencion', 'atenciones', 'atenta', 'atento', 'athletic', 'athmosphere', 'athurs', 'atilla', 'atlantic', 'atm', 'atmosphere', 'atmosphere\\n\\nit', 'atmospherethe', 'atmospheric', 'atms', 'atop', 'atractions', 'atrij', 'attached', 'attack', 'attainable', 'attainable\\nthe', 'attempting', 'attempts', 'attend', 'attendant', 'attended', 'attending', 'attent', 'attentative', 'attention', 'attentionnate', 'attentions', 'attentive', 'attentvolle', 'attest', 'attested', 'atthila', 'attic', 'attila', 'attitude', 'attracties', 'attraction', 'attractions', 'attractions\\n\\ncomfortable', 'attractions\\n\\nvery', 'attractions\\neasy', 'attractions\\ni', 'attractions\\nwe', 'attractionscheap', 'attractive', 'attractive\\nwe', 'attractively', 'attracts', 'attributes', 'attuned', 'au', 'aubergines', 'auch', 'audeons', 'audible', 'audrey', 'audreys', 'auf', 'aufenhalt', 'aufenthalt', 'august', 'aunt', 'ausgestattet', 'aussidonc', 'ausstattung', 'australia', 'australia\\napril', 'authentic', 'authentically', 'authenticity', 'authors', 'auto', 'autobus', 'autogenerated', 'autolocking', 'automated', 'automatic', 'automatically', 'autumnal', 'avaiable', 'avail', 'availabe', 'availability', 'available', 'available\\ncool', 'available\\ngreat', 'available\\nthanks', 'available\\nthe', 'availableto', 'availed', 'avantage', 'avec', 'avenue', 'aver', 'average', 'avery', 'avete', 'avid', 'avion', 'aviva', 'avoca', 'avocado', 'avoid', 'avoided', 'avoiding', 'avoids', 'avond', 'avrebbe', 'avrebbero', 'avril', 'avtobusne', 'awaited', 'awaiting', 'awaits', 'awake', 'awakened', 'award', 'aware', 'away', 'away\\n', 'away\\n\\nowner', 'away\\n\\nthe', 'away\\n\\nwe', 'away\\napart', 'away\\nfree', 'away\\ni', 'away\\noverall', 'away\\nresponsive', 'away\\nthank', 'away\\nthe', 'away\\nwe', 'aways', 'awesom', 'awesome', 'awesome\\n\\nill', 'awesomemy', 'awful', 'awhile', 'awkward', 'awkwardespecially', 'awning', 'awry', 'awsome', 'axcess', 'ayelet', 'ayelets', 'aylet', 'ayudaron', 'b', 'ba', 'babies', 'baby', 'babyand', 'babybel', 'babyfriendly', 'bachelor', 'back\\ni', 'back\\nmany', 'back\\nwell', 'backdoor', 'background', 'background\\nstayed', 'backnin', 'backpacker', 'backpackers', 'backpacking', 'backquiet', 'backroom', 'backs', 'backwards', 'backyard', 'backyard\\nthere', 'bacon', 'bad', 'bad\\n1', 'bad\\nsave', 'badass', 'badezimmer', 'badge', 'badkamer', 'badkamers', 'badkamers\\nde', 'badly', 'badwc', 'bag', 'bag\\n\\nfinally', 'bagel', 'bagels', 'baggage', 'baggot', 'bagno', 'bags', 'bags\\nlidl\\nthis', 'baguette', 'bahn', 'bailey', 'baileys', 'baily', 'bairbre', 'bairbres', 'bajo', 'bak', 'bake', 'baked', 'baker', 'bakeries', 'bakery', 'bakerycafes', 'bakerys', 'baking', 'balance', 'balanced', 'balancing', 'balconies', 'balcony', 'balcony\\n\\nhowever', 'balcony\\nthe', 'balkon', 'ball', 'ballbridge', 'balldbridge', 'balloons', 'ballpark', 'ballsbridge', 'balm', 'bambina', 'band', 'bandaids', 'bandwidth', 'bang', 'banging', 'bangingmusic', 'bank', 'bank\\n\\n', 'banking', 'bannisters', 'banter', 'bar', 'bar\\n\\nexcellent', 'bar\\n\\nthird', 'bar\\n\\nwould', 'bar\\nquite', 'bar\\nthe', 'barb', 'barbara', 'barbaras', 'barbecue', 'bardzo', 'bare', 'barebones', 'barefoot', 'barely', 'barentertainment', 'bargain', 'barge', 'barged', 'barking', 'barlined', 'barn', 'barney', 'baroque', 'barr', 'barren', 'barrestaurant', 'barrestaurants', 'barricaded', 'barrier', 'barrio', 'barry', 'barrys', 'bars', 'bars\\njason', 'bars\\nwe', 'barscafe', 'barspubs', 'barsshopsrestaurantspublic', 'bartrinity', 'base', 'base\\n\\npaul', 'baseboards', 'basecamp', 'based', 'basement', 'basic', 'basically', 'basics', 'basin', 'basing', 'basis', 'basket', 'baskets', 'bastante', 'batchroom', 'bath', 'bathe', 'bathrobes', 'bathrom', 'bathroom', 'bathroom\\n\\ncommunication', 'bathroom\\n\\nwould', 'bathroom\\n2', 'bathroom\\nno', 'bathroom\\nunfortunately', 'bathroomand', 'bathroomkitchen', 'bathrooms', 'bathrooms\\n\\nthe', 'bathroomshower', 'bathroomwhich', 'baths', 'bathtub', 'bathtubshower', 'baton', 'batter', 'batteries', 'battling', 'bay', 'bayside', 'baysides', 'bb', 'bbq', 'bbs', 'bc', 'bcp', 'bd4', 'be\\n', 'be\\n\\ngreat', 'be\\ncheck', 'be\\nso', 'be\\nthe', 'beach', 'beach\\nmany', 'beaches', 'beachright', 'beachs', 'beachwhat', 'beamer', 'bean', 'beans', 'bear', 'bearings', 'bearnard', 'beat', 'beaten', 'beatgreat', 'beatiful', 'beatifully', 'beats', 'beaty', 'beau', 'beaumont', 'beautful', 'beautiful', 'beautiful\\nisobels', 'beautiful\\nthe', 'beautifull', 'beautifull\\nher', 'beautifully', 'beautifully\\nlocation', 'beautifullyappointed', 'beautifulquiet', 'beautifuly', 'beautilful', 'beautiyful', 'beautuiful', 'beauty', 'becca', 'becket', 'beckett', 'becky', 'becouse', 'becuz', 'bed', 'bed\\n', 'bed\\n\\nhe', 'bed\\n\\nthe', 'bed\\n\\nwould', 'bed\\nbasic', 'bed\\njean', 'bed\\nthe', 'bedbedding', 'bedbedroom', 'bedden', 'bedding', 'beddingand', 'beddings', 'beddingslept', 'beddown', 'bedquiet', 'bedroom', 'bedroom\\n4', 'bedrooma', 'bedroomapartment', 'bedroombathroom', 'bedrooms', 'bedrooms\\nmalcom', 'bedroomwas', 'beds', 'beds\\ndisappointed', 'beds\\nthe', 'bedset', 'bedsheet', 'bedsheets', 'bedside', 'bedsit', 'bedsit3', 'bedsits', 'bedso', 'bedssuch', 'bedtime', 'beeindruckend', 'beeing', 'beep', 'beeping', 'beer', 'beers', 'beetje', 'beetween', 'beforeafter', 'began', 'begin', 'beginning', 'begins', 'behaved', 'behavior', 'behaviour', 'behoorlijk', 'behulpzaam', 'bei', 'beinga', 'beings', 'bekommen', 'bel', 'belangrijkste', 'belfast', 'believe', 'believe\\nthe', 'beliggenhed', 'bell', 'bella', 'belle', 'bellies', 'bellissimo', 'bello', 'bells', 'belong', 'belonged', 'belonging', 'belongings', 'belongings\\n', 'belongingspassport', 'belongs', 'belowground', 'belt', 'bem', 'ben', 'benaderd', 'bench', 'benches', 'bene', 'beneath', 'beneficial', 'benefit', 'benefited', 'benefiting', 'benefits', 'benificier', 'benissimofrancesca', 'bens', 'bent', 'beperkt', 'bereikbaar', 'bereikbaarheid', 'bereiken', 'berichten', 'bering', 'berkeley', 'berna', 'bernadine', 'bernadines', 'bernard', 'bernard\\nnikola', 'bernardo', 'bernards', 'bernas', 'bernie', 'berries', 'berrys', 'beschikbaar', 'beschrieben', 'beside\\nhelpful', 'besonderen', 'best', 'best\\nthe', 'beste', 'bestens', 'bests', 'besuch', 'betere', 'beteween', 'betna', 'betrinity', 'betsy', 'bett', 'better', 'better\\ndefinitively', 'bettered', 'bettereverywhere', 'betterthe', 'betty', 'bettys', 'bevallen', 'beverage', 'beverages', 'bevond', 'bevys', 'beware', 'beyond\\n\\nonly', 'bezienswaardigheden', 'bezienswaardigheden\\nhet', 'bezoek', 'bezporedni', 'bezporedniego', 'bf', 'bianca', 'bible', 'bice', 'bicycles', 'bid', 'bien', 'big', 'big\\ngreat', 'bigbut', 'bigger', 'biggest', 'bij', 'bijvoorbeeld', 'bike', 'bikes', 'biking', 'bilderbuchgegend', 'bildern', 'billing', 'bills', 'bimba', 'bin', 'bind', 'binder', 'bingo', 'binnen', 'binnenplaats', 'binoculars', 'bins', 'bird', 'birds', 'birdsong', 'birthday', 'bis', 'biscuits', 'bisit', 'bisogna', 'bisogno', 'bistro', 'bistros', 'bit', 'bite', 'bites', 'bits', 'bizarre', 'black', 'blackbird', 'blackout', 'blackrock', 'blade', 'blanchardstown', 'blanket', 'blankets', 'blankets\\ni', 'blas', 'blast', 'blatant', 'blazing', 'bleach', 'blend', 'blended', 'blender', 'bless', 'blessed', 'blessing', 'blessington', 'blew', 'bliini', 'blinds', 'blink', 'blisko', 'bliss', 'blk', 'block', 'blocked', 'blocking', 'blocks', 'blog', 'bloke', 'blood', 'bloom', 'blooming', 'blooms', 'blow', 'blowing', 'blown', 'blows', 'blowup', 'blu', 'blue', 'blueberries', 'blues', 'bluetooth', 'bnb', 'bnb\\n\\neverything', 'bnbs', 'board', 'board\\nkind', 'boarded', 'boardedup', 'boarding', 'boards', 'boat', 'boathouse', 'bob', 'bobs', 'boco', 'bodies', 'bodily', 'body', 'boekjes', 'bog', 'bohemian', 'boil', 'boiled', 'boiler', 'boiling', 'boisterous', 'bolt', 'bolted', 'bolthole', 'bom', 'bombs', 'bomrecomendo', 'bones', 'bonita', 'bonito', 'bonjovi', 'bonne', 'bonnie', 'bonus', 'bonus\\n\\nhad', 'bonus\\n\\nhowever', 'bonus\\nthe', 'book', 'booked', 'booking', 'bookings', 'booklet', 'books', 'bookshelf', 'bookstore', 'boom', 'boombridge', 'boon', 'boost', 'booster', 'boot', 'boot\\n\\nbreakfast', 'bord', 'border', 'bordering', 'borderline', 'borders', 'boring', 'born', 'borrow', 'borrowed', 'bosch', 'boschetto', 'botanic', 'botanical', 'bother', 'bothered', 'bothering', 'bothersome', 'botted', 'bottle', 'bottled', 'bottles', 'bottomfloor', 'bought', 'bouncing', 'bound', 'bounds', 'bountiful\\n4', 'bounty', 'bow', 'bowery', 'bowl', 'bowling', 'bowls', 'box', 'boxes', 'boxty', 'boy', 'boyf', 'boyfriend', 'boyfriends', 'boys', 'br', 'br2', 'bracht', 'bracing', 'brack', 'brags', 'brain', 'brains', 'brak', 'brand', 'brandnew', 'brandon', 'brandons', 'brandschone', 'brandschoon', 'brannigans', 'braucht', 'brave', 'bray', 'brazen', 'brazil', 'bread', 'breadbutter', 'breads', 'break', 'breakdown', 'breaker', 'breakfast', 'breakfast\\n\\ndefinitely', 'breakfast\\n\\nthanks', 'breakfast\\n\\nwe', 'breakfast\\n4', 'breakfast\\nfriendly', 'breakfast\\nits', 'breakfast\\nprivate', 'breakfast\\nthough', 'breakfast\\nwe', 'breakfast20', 'breakfastcoffee', 'breakfastdinner', 'breakfasts', 'breakfastsnacks', 'breaks', 'breaky', 'breath', 'breathe', 'breathing', 'breathtaking', 'breda', 'bredas', 'breeze', 'breeze\\n\\nwe', 'brekkie', 'brekky', 'brenda', 'brendan', 'brendans', 'brendon', 'brengt', 'brent', 'brew', 'brew\\n\\nthe', 'breweriesdistilleries', 'brewery', 'brewery\\nthere', 'brewhouse', 'brian', 'brians', 'brick', 'bricks', 'bride', 'bridge', 'bridgeriver', 'bridget', 'bridgette', 'bridgettes', 'bridgetteseb', 'brief', 'briefly', 'brigette', 'bright', 'brighten', 'brighter', 'brightness', 'brigitte', 'brill', 'brillant', 'brilliant', 'brilliant\\nkaty', 'brilliantaround', 'brilliantly', 'brimming', 'brindandote', 'bring', 'bringing', 'brings', 'brisk', 'british', 'brits', 'broadband', 'broadly', 'brochure', 'brochures', 'brochurestravel', 'broke', 'broken', 'broken\\nthe', 'brokencrackedstained', 'bronwyn', 'brood', 'broodjeskoffie', 'broschure', 'brother', 'brotherinlaw', 'brothers', 'brought', 'brown', 'browns', 'browse', 'brunch', 'bruno', 'brunt', 'brush', 'brushed', 'brushes', 'brutal', 'brutally', 'bryan', 'bs', 'btw', 'bubbly', 'buck', 'bucket', 'bud', 'buddha', 'buddies', 'buddy', 'budget', 'budget\\n\\nthank', 'buds', 'buen', 'buena', 'buenas', 'bug', 'bugs', 'build', 'building', 'building\\ni', 'buildings', 'builds', 'built', 'builtin', 'buiten', 'buitensporige', 'buitenwijk', 'bujo', 'bulb', 'bulbs', 'bulky', 'bull', 'bummed', 'bump', 'bumped', 'bumps', 'bumpy', 'bunch', 'bungalow', 'bunk', 'bunks', 'bunny', 'buns', 'bunsen', 'buona', 'buono', 'burdocks', 'burgeoning', 'burger', 'burgers', 'buried', 'burly', 'burn', 'burner', 'burners', 'burnt', 'burst', 'bursting', 'bus', 'bus\\n\\nwe', 'bus\\nbut', 'bus\\ncalefaccion', 'bus\\nits', 'bus\\nwe', 'bus15', 'buscab', 'busconnection', 'busdarttaxi', 'bused', 'buseds', 'buses', 'bushalte', 'bushaltestelle', 'bushy', 'busier', 'busiest', 'busin', 'business', 'busis', 'busline', 'busluastaxi', 'busor', 'busride', 'buss', 'bussare', 'busses', 'bussle', 'busstation', 'busstop', 'busstops', 'bustaxi', 'bustaxis', 'bustle', 'bustleloud', 'bustling', 'bustram', 'busy', 'busyness', 'butcher', 'butchers', 'butif', 'butlers', 'butter', 'butter\\n\\nthe', 'buttercereal', 'butterfly', 'button', 'butty', 'buurt', 'buurtsuper', 'buy', 'buying', 'buzz', 'buzzed', 'buzzing', 'buzzy', 'by\\n', 'by\\n\\nmalcolm', 'by\\n\\noverall', 'by\\n\\nthe', 'by\\nall', 'by\\ncomfortable', 'by\\njoan', 'by\\nwe', 'bye', 'byebye', 'bygone', 'bytry', 'c', 'ca', 'cab', 'cabbies', 'cabbus', 'cabin', 'cabinet', 'cabinets', 'cable', 'cableantennaed', 'cables', 'cabra', 'cabra\\nyou', 'cabrides', 'cabs', 'cada', 'cafe', 'cafedeli', 'cafepubs', 'cafes', 'cafetiere', 'caffe', 'cage', 'cagey', 'caitriona', 'cake', 'caked', 'cakes', 'cal', 'calculate', 'calendar', 'calibre', 'caliente', 'california', 'californian', 'calking', 'call\\n\\noverall', 'call\\nyou', 'called', 'callinan', 'calling', 'calls', 'calltext', 'calm', 'calme', 'calmest', 'calming', 'calmness', 'calories', 'calorosissima', 'cals', 'camas', 'cambiado', 'camden', 'came', 'camera', 'camille', 'caminar', 'camminando', 'camp', 'camper', 'camping', 'camps', 'campus', 'canada', 'canada\\nand', 'canadian', 'canadians', 'canal', 'canal\\nand', 'canals', 'cancel', 'canceled', 'canceling', 'cancellation', 'cancelled', 'candidly', 'candle', 'candleholders', 'candles', 'candy', 'cans', 'caodniowym', 'cap', 'capacity', 'capel', 'capital', 'capitals', 'capiti', 'capsules', 'capture', 'capturing', 'car', 'car\\neverything', 'card', 'cards', 'cards\\n\\nwed', 'care', 'care\\ni', 'cared', 'carefree', 'careful', 'carefully', 'cares', 'caretaker', 'carina', 'caring', 'carino', 'carl', 'carla', 'carls', 'carmel', 'carmels', 'carol', 'caroline', 'carolines', 'carols', 'caroo', 'caroos', 'carpet', 'carpet\\n', 'carpeted', 'carpets', 'carriage', 'carrickarede', 'carrie', 'carried', 'carrolls', 'carry', 'carrying', 'carryon', 'cars', 'cartel', 'carthank', 'casa', 'casasin', 'casbah', 'case', 'case\\n\\napartment', 'casero', 'cases', 'cash', 'casinos', 'cassetti', 'cast', 'castello', 'castle', 'castlegardens', 'castleknock', 'castles', 'castor', 'casual', 'cat', 'cat\\nthe', 'catch', 'catching', 'catedrales', 'cater', 'catered', 'catering', 'catesr', 'cath', 'cathal', 'cathals', 'cathedral', 'cathedrals', 'catheral', 'catherine', 'catherines', 'catholic', 'cathow', 'cathrine', 'cathrines', 'cathy', 'cathys', 'catno', 'cats', 'caught', 'cause', 'caused', 'causes', 'causeway', 'causey', 'causing', 'caution', 'cautious', 'caveat', 'cavistons', 'cbd', 'cca', 'ccd', 'ccdin', 'ceases', 'ceiling', 'ceilings', 'celebrate', 'celebrating', 'celebration', 'celebrities', 'celebrity', 'celine', 'cell', 'cellotape', 'cellphone', 'cellular', 'celsius', 'celt', 'celtic', 'cemetery', 'cena', 'cenar', 'center', 'center\\n\\ni', 'center\\n\\noverall', 'center\\n\\nsiobhan', 'center\\n\\nthere', 'center\\n\\nthis', 'center\\ncoffee', 'center\\nits', 'center\\nthank', 'center\\nthe', 'center\\nwas', 'center\\nwe', 'centered', 'centereverything', 'centers', 'centerso', 'centertemple', 'centerthanks', 'centerthe', 'centr', 'centra', 'centraal', 'central', 'central\\n\\nonly', 'central\\nlots', 'centrala', 'centrale', 'centralised', 'centralized', 'centrally', 'centralsafe', 'centre', 'centre\\n\\nelaine', 'centre\\n\\nin', 'centre\\n\\nthe', 'centre\\n\\nyvonne', 'centre\\naidan', 'centre\\nbeautiful', 'centre\\nbridgette', 'centre\\nconor', 'centre\\ni', 'centre\\nit', 'centre\\njean', 'centre\\nkaty', 'centre\\nrecommend', 'centre\\nshes', 'centre\\nsupermarket', 'centre\\nthank', 'centre\\nwe', 'centre30', 'centreairport', 'centres', 'centretom', 'centrewould', 'centric', 'centrico', 'centro', 'centrum', 'centrum\\nmet', 'centrum\\nschoon', 'centuries', 'century', 'cerals', 'ceramics', 'cerca', 'cercania', 'cercano', 'cereal', 'cereals', 'cerealsmilkcoffeetea', 'cerials', 'certain', 'certainly', 'certanly', 'certified', 'cetait', 'chace', 'chair', 'chairs', 'chairs\\nthe', 'chalet', 'challenge', 'challenged', 'challenges', 'challenging', 'chambre', 'champagne', 'champagnes', 'chance', 'chandelier', 'chanel', 'chang', 'change', 'changed', 'changes', 'changing', 'channel', 'channels', 'chaos', 'chaotic', 'chap', 'chapelizard', 'chapelizod', 'chapter', 'character', 'characteristics', 'charge', 'charge\\nit', 'charged', 'charger', 'chargers', 'chargerusb', 'charges', 'charging', 'charity', 'charlemont', 'charlotte', 'charm', 'charm\\nperfectly', 'charmed', 'charmer', 'charming', 'charming\\n\\nyou', 'charms', 'chasing', 'chat', 'chatoffer', 'chats', 'chatted', 'chatted\\nwe', 'chatter', 'chatting', 'chatty', 'chauffeur', 'chdck', 'che', 'cheap', 'cheaper', 'cheapest', 'cheating', 'check', 'checked', 'checkedin', 'checkin', 'checkin\\n\\nthe', 'checkin\\ncoming', 'checkin\\nthe', 'checkin\\nwe', 'checkincheckout', 'checkincommunication', 'checkinflexible', 'checking', 'checkinout', 'checkins', 'checkout', 'checkoutdaywhich', 'cheddar', 'cheeky', 'cheep', 'cheer', 'cheerful', 'cheerfully', 'cheers', 'cheery', 'cheese', 'cheeses', 'chemicals', 'chemist', 'cherish', 'cherry', 'chess', 'chester', 'chests', 'chez', 'chiave', 'chiavi', 'chic', 'chicken', 'chickens', 'chiedermi', 'chiedessimo', 'child', 'children', 'childrens', 'childsized', 'chill', 'chilled', 'chilli', 'chilling', 'chilly', 'china', 'chinese', 'ching', 'chip', 'chipped', 'chipper', 'chippy', 'chips', 'chipsburgers', 'chirping', 'chirstina', 'chitchat', 'choc', 'choccies', 'chock', 'chocolate', 'chocolate\\na', 'chocolate\\ni', 'chocolates', 'chocolatescheese', 'chocolateswas', 'chocolatethe', 'chocolaty', 'choice', 'choicefood', 'choices', 'choose', 'choosen', 'chooses', 'choosing', 'chose', 'chosen', 'chowder', 'chris', 'chriss', 'christ', 'christchurch', 'christian', 'christians', 'christina', 'christinas', 'christine', 'christines', 'christof', 'christophs', 'christs', 'christschurch', 'chrome', 'chromecast', 'chubby', 'chunk', 'church', 'churches', 'churchtown', 'ci', 'ciara', 'ciaras', 'cigarette', 'cigarettes', 'cinema', 'cinnamon', 'cio', 'circa', 'circle', 'circuitous', 'circulation', 'circumstances', 'ciry', 'cistern', 'citchen', 'cites', 'cities', 'citiesthe', 'citizen', 'citizens', 'city', 'city\\n', 'city\\n\\nconvenient', 'city\\n\\nmicheal', 'city\\n\\nok', 'city\\n\\noverall', 'city\\n\\nthanks', 'city\\naccommodation', 'city\\neven', 'city\\ngreat', 'city\\nlocal', 'city\\nm', 'city\\nreally', 'city\\nruth', 'city\\nthe', 'city\\nwifi', 'citycenter', 'citycentre', 'citycountry', 'cityi', 'citymaeve', 'citys', 'citythe', 'citytrip', 'citywe', 'ciudad', 'claddagh', 'claimed', 'claims', 'claire', 'claires', 'clanbrassil', 'clandestine', 'clara', 'claras', 'clare', 'clarens', 'clares', 'clarkes', 'class', 'classes', 'classic', 'classically', 'classified', 'classify', 'classy', 'claudio', 'claudios', 'claustrophobic', 'clean', 'clean\\n', 'clean\\n\\nat', 'clean\\n\\nbarry', 'clean\\n\\nlocation', 'clean\\n\\nthirty', 'clean\\n3', 'clean\\nand', 'clean\\ncheckin', 'clean\\ncozily', 'clean\\nfionnuala', 'clean\\ngreat', 'clean\\nhowever', 'clean\\nif', 'clean\\nin', 'clean\\njean', 'clean\\njust', 'clean\\nour', 'clean\\npiotr', 'clean\\nstaying', 'clean\\nsuper', 'clean\\nthe', 'clean\\nvery', 'clean\\nyou', 'cleaned', 'cleaner', 'cleaners', 'cleanest', 'cleanexactly', 'cleangood', 'cleaning', 'cleanliness', 'cleanlinesstidiness', 'cleanly', 'cleanness', 'cleanorganized', 'cleans', 'cleantidy', 'cleanvery', 'cleanwe', 'clear', 'clear\\n\\nsecond', 'clearance', 'cleared', 'clearly', 'cleen', 'clement', 'clever', 'cleverly', 'clicking', 'client', 'cliff', 'cliffs', 'cliffsidetrail', 'climates', 'climb', 'climbed', 'climbing', 'clinic', 'clip', 'cloae', 'cloakroom', 'clock', 'clogged', 'cloghranguesthouse', 'clonlea', 'clontarf', 'clontarfs', 'close', 'closeby', 'closed', 'closed\\n\\nall', 'closeish', 'closelock', 'closely', 'closeness', 'closer', 'closes', 'closest', 'closet', 'closets', 'cloth', 'clothes', 'clothesline', 'clothesline\\nbernard', 'clothesrack', 'clothing', 'cloths', 'cloud', 'club', 'clubs', 'clubvenue', 'clueless', 'clues', 'clutch', 'clutter', 'cluttered', 'cm', 'cnn', 'coach', 'coachairport', 'coaches', 'coal', 'coarse', 'coast', 'coastal', 'coastline', 'coat', 'coats', 'cobbler', 'cobbleson', 'cobblestone', 'cobwebs', 'cocina', 'cocker', 'cocktail', 'cocktails', 'coco', 'cocoon', 'code', 'codekey', 'codes', 'coeliac', 'coffe', 'coffee', 'coffee\\n\\nand', 'coffee\\nimeldas', 'coffee\\nlocation', 'coffee\\nthe', 'coffeebreakfastbrunch', 'coffeehouses', 'coffeemaker', 'coffeemilk', 'coffees', 'coffeeshops', 'coffeetea', 'coffeeteacookies', 'coffeeteasugar', 'coffeeteawater', 'coffeewas', 'coffer', 'coffey', 'coger', 'cogimos', 'cognisant', 'cohost', 'coi', 'coin', 'coincidentally', 'coins', 'coisa', 'coke', 'colazione', 'colazioni', 'cold', 'colder', 'coldusac', 'colin', 'colins', 'collaboration', 'collaborative', 'collage', 'collapsingwouldnt', 'collar', 'colleague', 'colleagues', 'collect', 'collected', 'collection', 'collections', 'collector', 'colleen', 'collegata', 'college', 'college\\nthanks', 'college\\nyour', 'collegeaged', 'collegest', 'collette', 'collin', 'collocazione', 'colm', 'colman', 'colmans', 'colorado', 'colorful', 'colors', 'colour', 'colour\\nthe', 'coloured', 'colourful', 'colours', 'colpurful', 'com', 'comapred', 'combination', 'combinations', 'combined', 'combines', 'combining', 'combo', 'come', 'come\\nback', 'comeback', 'comer', 'comers', 'comes', 'comet', 'comfi', 'comfier', 'comfiest', 'comforatable', 'comfort', 'comfort\\nall', 'comfortabel', 'comfortable', 'comfortable\\n\\npatricia', 'comfortable\\n\\nthanks', 'comfortable\\n\\nthe', 'comfortable\\n\\nwe', 'comfortable\\na', 'comfortable\\nbe', 'comfortable\\nhad', 'comfortable\\ni', 'comfortable\\nimelda', 'comfortable\\njean', 'comfortable\\nlocation', 'comfortable\\nmargaret', 'comfortable\\non', 'comfortable\\nthank', 'comfortable\\nthe', 'comfortable\\nwe', 'comfortableclean', 'comfortableprivate', 'comfortables', 'comfortablethe', 'comfortabletotally', 'comfortablewe', 'comfortablewould', 'comfortably', 'comforter', 'comforter\\n\\nthe', 'comforters', 'comforting', 'comfortobel', 'comforts', 'comfotable', 'comfy', 'comfy\\naidan', 'comical', 'comida', 'coming', 'comings', 'comment', 'commented', 'comments', 'commercial', 'commission', 'commitment', 'committed', 'commodities', 'common', 'comms', 'commucating', 'commun', 'communal', 'communicate', 'communicated', 'communicates', 'communicatie', 'communicating', 'communication', 'communication\\n\\ncons\\n1', 'communication\\nhouse', 'communication\\ni', 'communication\\nid', 'communication\\nnear', 'communication\\nthe', 'communicationresponse', 'communications', 'communicativ', 'communicative', 'communicator', 'communicators', 'communiceerde', 'communiction', 'communion', 'communities', 'community', 'commutative', 'commute', 'commuter', 'commuters', 'commuting', 'como', 'comoda', 'comodas', 'compact', 'companies', 'companion', 'companions', 'company', 'company\\nnot', 'comparable', 'compare', 'compared', 'comparing', 'comparison', 'comparte', 'compartment', 'compassionate', 'compatible', 'compelled', 'compensate', 'compensated', 'compensation', 'competely', 'competitively', 'competitively\\nmugs\\nwould', 'compilation', 'complain', 'complained', 'complaint', 'complaints', 'compleet', 'complementary', 'complemented', 'complete', 'completed', 'completely', 'completo', 'complex', 'complicada\\nfalten', 'complicado', 'complicated', 'complicity', 'complimentary', 'components', 'compred', 'comprehend', 'comprehensive', 'comprehensively', 'comprises', 'compromise', 'computer', 'comunicacion', 'comunicare', 'comunicated', 'comunication', 'comunicazione', 'comunicazioni', 'conceivable', 'concern', 'concern\\n\\nmy', 'concern\\n\\nthe', 'concerned', 'concerning', 'concerns', 'concerns\\nthe', 'concert', 'concerts', 'concierge', 'concise', 'concrete', 'condemned', 'condescending', 'condiments', 'conditie\\ngordijnen', 'condition', 'condition\\n\\nalso', 'conditioner', 'conditioners', 'conditioning', 'conditions', 'conditions\\n\\nwhen', 'condividere', 'condo', 'condominium', 'conducive', 'conexiones', 'conference', 'confermare', 'confidence', 'confident', 'configurable', 'configuration', 'configurations', 'confined', 'confirm', 'confirmation', 'confirmed', 'confirming', 'conflicting', 'conforme', 'confort', 'confortable', 'confortables', 'confortevole', 'confortly', 'confrontation', 'confronting', 'confused', 'confusing', 'confusion', 'confy', 'congenial', 'congested', 'congregate', 'congregating', 'congress', 'congruent', 'conj', 'conji', 'conjn', 'conjs', 'conk', 'connect', 'connected', 'connecting', 'connection', 'connectioni', 'connections', 'connectivity', 'connell', 'connelly', 'connely', 'conner', 'connolly', 'connor', 'connors', 'conocer', 'conor', 'conors', 'cons', 'cons\\n\\ncons\\nfloor\\nthe', 'conscientious', 'consecutive', 'conservation', 'conservations', 'conservatory', 'conserves', 'consider', 'considerate', 'consideration', 'considerations', 'considered', 'considering', 'consigliatissimo', 'consigliato', 'consiglio', 'consisted', 'consistent', 'consistently', 'consists', 'consoles', 'constable', 'constant', 'constantly', 'construction', 'constructions', 'constructive', 'constructor', 'consuming', 'consummate', 'contact', 'contactable', 'contacted', 'contacting', 'contacts', 'contained', 'containing', 'contains', 'contarf', 'contemplated', 'contemplating', 'contemporary', 'content', 'contentious', 'contfortable', 'continent', 'continental', 'continuazione', 'continue', 'continued', 'continues', 'continuing', 'continuously', 'contort', 'contradicting', 'contrary', 'contrast', 'contribute', 'contributed', 'control', 'controled', 'controllable', 'controlled', 'controls', 'convene', 'convenice', 'convenience', 'conveniences', 'convenient', 'convenient\\n\\nanother', 'convenient\\ndublin', 'convenient\\ndue', 'convenient\\nearplugs', 'convenient\\noverall', 'convenient\\nwould', 'conveniente', 'conveniently', 'convenientyou', 'convention', 'converations', 'converged', 'conversar', 'conversatioms', 'conversation', 'conversationalist', 'conversationalists', 'conversationi', 'conversations', 'conversations\\n\\nid', 'converse', 'conversion', 'converted', 'converter', 'converters', 'converters\\n', 'convertersadapters', 'convertible', 'convey', 'conveyed', 'conveyor', 'convienent', 'convienent\\nwe', 'convienieant', 'convince', 'convinced', 'convinient', 'convivial', 'convos', 'cook', 'cookbook', 'cooked', 'cooker', 'cookie', 'cookiecoffee', 'cookies', 'cooking', 'cookprepare', 'cooks', 'cooktop', 'cool', 'cool\\n\\nthe', 'cooler', 'coolest', 'cooling', 'cools', 'coombe', 'coop', 'cooperative', 'coordinate', 'coordinated', 'coordination', 'copenhagen', 'cordial', 'cordiale', 'cordiality', 'cords', 'core', 'corina', 'corinas', 'cork', 'corkscrew', 'corn', 'corner', 'corner\\ncomunication', 'corner\\nthe', 'corners', 'cornflakes', 'corporate', 'correct', 'corrected\\nthe', 'correctly', 'correcto', 'corrente', 'correspond', 'corresponded', 'correspondence', 'corridor', 'corridorentrance', 'cortese\\nconsigliato', 'cortesia', 'cosas', 'cosey', 'cosi', 'cosier', 'cosmetic', 'cost', 'costa', 'costal', 'costed', 'costefficient', 'costs', 'costumer', 'cosy', 'cot', 'cots', 'cottage', 'cottagei', 'cottages', 'cottagethe', 'cottege', 'cotton', 'couch', 'couchbed', 'couchbut', 'couches', 'couchsofa', 'coughing', 'could\\n\\nkind', 'could\\n\\nthe', 'couldt', 'couldve', 'council', 'count', 'counter', 'counters', 'countertops', 'counting', 'countless', 'countries', 'country', 'country\\ngreat', 'countryside', 'countryside\\n', 'countrythis', 'county', 'couple', 'couple\\n\\ndaragh', 'coupled', 'couples', 'couplesfriends', 'couplethe', 'coupon', 'course', 'courses', 'courteos', 'courteous', 'courtesy', 'courts', 'courtyard', 'cousin', 'cousy', 'cove', 'cover', 'coverage', 'covered', 'covering', 'coverings', 'covers', 'cow', 'cower', 'coworkers', 'cowper', 'cows', 'cozied', 'cozier', 'coziest', 'coziness', 'cozy', 'cozy\\ngetting', 'cozy\\nwish', 'cozynice', 'cozythere', 'crack', 'cracked', 'crackers', 'cracking', 'craft', 'crafty', 'crag', 'craic', 'cramped', 'cranes', 'crash', 'crashing', 'crashpad', 'craving', 'crawl', 'crawlers', 'crawling', 'craziness', 'crazy', 'crazyearly', 'crea', 'creaa', 'creaky', 'cream', 'creams', 'creamy', 'creas', 'create', 'created', 'creates', 'creating', 'creations', 'creative', 'creativelydesigned', 'creatives', 'creativity', 'creature', 'credit', 'creep', 'creepy', 'crepe', 'crepes', 'crew', 'crib', 'cribhighchairtoys', 'cribs', 'cried', 'crime', 'critical', 'criticising', 'criticism', 'criticisms', 'criticize', 'critique', 'croagh', 'croak', 'crochety', 'crockery', 'crockerycutlery', 'crocket', 'croissant', 'croissants', 'croke', 'crome', 'cross', 'crossed', 'crossig', 'crossing', 'crosswalk', 'crosthwaite', 'crowd', 'crowded', 'crowds', 'crowes', 'crowne', 'crucial', 'cruise', 'crumbs', 'crumlin', 'crushed', 'crusted', 'crying', 'crystallization', 'ct', 'cual', 'cube', 'cubicle', 'cucina', 'cuddle', 'cuddled', 'cuddles', 'cuddly', 'cuestiones', 'cuina', 'cuisine', 'cuisines', 'cul', 'culdesac', 'cultural', 'culture', 'cultured', 'cultures', 'cumbersome', 'cumiskeys', 'cunningly', 'cup', 'cupboard', 'cupboards', 'cupcake', 'cuppa', 'cups', 'curated', 'curati', 'curato', 'curfew', 'curious', 'curled', 'currant', 'current', 'currently', 'cursing', 'curtain', 'curtained', 'curtains', 'curved', 'curves', 'curving', 'cushion', 'cushions', 'custard', 'custom', 'customer', 'customerfocus', 'customers', 'customized', 'customs', 'cut', 'cute', 'cute\\ni', 'cute\\nwe', 'cuteciara', 'cuter', 'cutest', 'cutlery', 'cutting', 'cycle', 'cycles', 'cycling', 'cyclists', 'cynthia', 'cynthias', 'd', 'da', 'daar', 'daarna', 'dach', 'dad', 'dads', 'daft', 'dag', 'dagen', 'dai', 'daily', 'dajce', 'dakley', 'dal', 'dalkey', 'dalle', 'dalymount', 'damage', 'damages', 'damaging', 'dame', 'damian', 'damp', 'dampener', 'dampening', 'damper', 'dampmold', 'dan', 'dance', 'dancing', 'dangerous', 'daniela', 'daniella', 'danielle', 'danielles', 'dank', 'danny', 'dans', 'daragh', 'daragh\\n\\ncons', 'daraghs', 'daraugh', 'dardo', 'dardos', 'dare', 'darios', 'dark', 'darker', 'darkey', 'darkness', 'darky', 'darling', 'darn', 'dart', 'dartbus', 'dartbusaras', 'das', 'dash', 'dat', 'data', 'data\\ncleaning', 'date', 'dated', 'dates', 'dating', 'daughter', 'daughterfell', 'daughteropen', 'daughters', 'daunting', 'davanti', 'dave', 'davee', 'daves', 'david', 'davids', 'davvero', 'dawn', 'day', 'day\\n\\ngerry', 'day\\n\\ngreat', 'day\\n\\nif', 'day\\n\\nthe', 'day\\nher', 'day\\ni', 'day\\nlexs', 'day\\nthe', 'day\\nwe', 'day\\nwould', 'day\\nyour', 'dayand', 'dayjust', 'daylight', 'daynot', 'days', 'days\\n\\nthe', 'days\\n\\nthere', 'days\\ni', 'daystay', 'daysthank', 'daytime', 'daytoday', 'daytrip', 'daytrips', 'dcu', 'dead', 'deadbolt', 'deadboltnot', 'deadline', 'deal', 'deal\\nserena', 'dealbreaker', 'dealer', 'dealing', 'dealt', 'dealz', 'dear', 'dearer', 'debate', 'debating', 'debbies', 'deborah', 'deborahs', 'dec', 'decay', 'deceived', 'deceivingly', 'december', 'decent', 'decently', 'decepcionante', 'deceptive', 'decide', 'decided', 'decides', 'deciding', 'decision', 'decisions', 'deck', 'decking', 'declan', 'declans', 'decline', 'declined', 'deco', 'decor', 'decor\\nvery', 'decorated', 'decorated\\n', 'decoratedthe', 'decorating', 'decoration', 'decorations', 'decorative', 'decs', 'dedicated', 'dedication', 'deducted', 'dee', 'deep', 'deeply', 'deer', 'deers', 'dees', 'def', 'defects', 'defenetly', 'defenitely', 'defensive', 'deff', 'deffinitley', 'defiantly', 'deficiencias', 'defiently', 'definately', 'definatlely', 'definetely', 'definetly', 'definite', 'definitely', 'definition', 'definitively', 'definitly', 'defo', 'defrosting', 'degree', 'degrees', 'dehors', 'dehumidifier', 'deidre', 'deidres', 'deirdre', 'deirdres', 'dejo', 'del', 'delay', 'delayed', 'delayed\\n\\nthe', 'delayed\\ni', 'delayedcancelled', 'delays', 'deli', 'delicate', 'delicious', 'delicious\\n100', 'delicious\\nmary', 'deliciously', 'delight', 'delighted', 'delightful', 'delightfull', 'delightfully', 'delights', 'deligrocery', 'delisted', 'deliver', 'delivered', 'deliveries', 'delivering', 'delivers', 'delivery', 'della', 'delores', 'deluxe', 'dem', 'demand', 'demandi', 'demanding', 'demonstrated', 'den', 'den\\nwe', 'denied', 'denise', 'denises', 'depart', 'departamentollegamos', 'departamentos', 'departing', 'department', 'departs', 'departure', 'departure\\n\\noverall', 'departures', 'depend', 'dependent', 'depending', 'depends', 'depicted', 'deposit', 'depot', 'depressing', 'depth', 'der', 'derail', 'derek', 'dereks', 'derelict', 'dermot', 'dermots', 'dermott', 'des', 'desayunar', 'desayuno', 'desayunos', 'describe\\nnos', 'described', 'described\\n\\nbeds', 'described\\nthe', 'described\\nvery', 'describednice', 'describes', 'describing', 'descriptif', 'description', 'description\\nperfect', 'descriptions', 'descritto', 'descrption', 'desert', 'deserved', 'deserves', 'desgastados', 'design', 'designated', 'designation', 'designed', 'designer', 'designing', 'designy', 'desinfectant', 'desirable', 'desire', 'desired', 'desiree', 'desk', 'desktop', 'despite', 'despues', 'dess', 'dessert', 'desserts', 'destination', 'destinations', 'destinations\\nthe', 'destinationsay', 'destructed', 'detached', 'detail\\nthe', 'detailed', 'detailled', 'details', 'details\\n\\nfirst', 'detalles', 'detallista', 'detected', 'deter', 'detergent', 'determined', 'detract', 'detto', 'deur', 'deux', 'development', 'developments', 'device', 'devices', 'devices\\ntrain', 'devitts', 'deze', 'df', 'dhc', 'di', 'dia', 'dialogues', 'dials', 'diamond', 'diana', 'dianas', 'diane', 'dianes', 'diaper', 'dias', 'diatance', 'dicendo', 'dicht', 'dichte', 'dictated', 'did', 'did\\n\\nandrew', 'diddlys', 'didn', 'didnt', 'didntstay', 'die', 'died', 'dierdes', 'dierdra', 'dierdre', 'dies', 'diese', 'diet', 'dieters', 'diferent', 'difference', 'differences', 'different', 'differently', 'differing', 'difficult', 'difficulties', 'difficulting', 'difficulty', 'diffuser', 'difontanes', 'digital', 'digs', 'diligent', 'dime', 'dimenticare', 'dine', 'diner', 'diners', 'dinged', 'dining', 'dininglivingkitchen', 'diningroom', 'dinner', 'dinners', 'dinning', 'dir', 'dirctions', 'dire', 'direcciones', 'direct', 'directe', 'directed', 'directing', 'direction', 'directionally', 'directions', 'directionsshortcutsand', 'directives', 'directly', 'directly\\nsparking', 'directos', 'direkt', 'dirk', 'dirt', 'dirty', 'disadvantage', 'disadvantages', 'disagreement', 'disappoint', 'disappoint\\ni', 'disappointed', 'disappointed\\n\\ndear', 'disappointed\\nevery', 'disappointing', 'disappointment', 'disapppointment', 'disarrange', 'disaster', 'disbelief', 'discernment', 'discolored', 'disconnections', 'discontinued', 'discount', 'discounted', 'discounts', 'discover', 'discovered', 'discovered\\nwe', 'discovering', 'discreet', 'discreet\\nhe', 'discreti', 'discretion', 'discription', 'discs', 'discuss', 'discussed', 'discussion', 'discussions', 'disgusting', 'dish', 'dishes', 'dishware', 'dishwasher', 'dishwasser', 'disjointed', 'dislike', 'dismayed', 'disorientation', 'dispenser', 'display', 'displaying', 'displays', 'disponibile', 'disponible', 'disposable', 'disposal', 'disposal\\nit', 'dispose', 'disposition', 'disregard', 'disrespectful', 'disrupted\\n\\nthe', 'disruptive', 'dissatisfied', 'distace', 'distance', 'distance\\n\\ncons\\nno', 'distance\\n\\nerica', 'distance\\n\\nit', 'distance\\n\\nshe', 'distance\\n\\nvisitors', 'distance\\ncatherine', 'distance\\nthe', 'distance\\ntina', 'distances', 'distancetakeout', 'distane', 'distant', 'distilery', 'distill', 'distilleries', 'distillery', 'distillery\\n\\nismenia', 'distinct', 'distinction', 'distinctly\\nthe', 'distorted', 'distraction', 'distrct', 'distributes', 'district', 'districts', 'disturb', 'disturbance', 'disturbed', 'disturbed\\n', 'disturbing', 'dit', 'ditched', 'divano', 'dive', 'diverse', 'diversi', 'diversity', 'divine', 'divine\\n\\ngreat', 'dj', 'dla', 'do\\n', 'doable', 'doble', 'dobre', 'dobro', 'doccia', 'doch', 'dochter', 'dock', 'docklands', 'docks', 'docter', 'documents', 'dodder', 'dodgy', 'dodublin', 'doen', 'does', 'doesnt', 'doet', 'dof', 'dog', 'doggie', 'doggies', 'doggo', 'doggos', 'doggy', 'dogis', 'doglovers', 'dognap', 'dogs', 'doheny', 'doing', 'doll', 'dollar', 'dollard', 'dollars', 'dolores', 'dolphin', 'dolphins', 'domaini', 'domestic', 'domu', 'don', 'donabate', 'donalds', 'donegal', 'donneybrook', 'donnybrook', 'dons', 'dont', 'donts', 'donuts', 'donuts\\nalways', 'door', 'door\\nbreakfast', 'doorhandle', 'doorknob', 'doorreizen', 'doors', 'doors\\nfor', 'doorstep', 'doorsteps', 'doorstop', 'doorwandelen', 'doorways', 'doplaces', 'dopo', 'doporuuji', 'dopubs', 'dormir', 'dormire', 'dormitory', 'dormivano', 'dorothee', 'dorothy', 'dorothys', 'dos', 'dosee', 'doss', 'dotato', 'double', 'doublebed', 'doubled', 'doubleglazed', 'doubles', 'doublin', 'doubly', 'doubt', 'doubtlessly', 'doubts', 'doubtthanks', 'douche', 'doug', 'dove', 'doveva', 'dovevano', 'dovevo', 'dovisit', 'dowels', 'down\\ncrumbs', 'downeys', 'downfall', 'download', 'downpour', 'downside', 'downsides', 'downstair', 'downstairs', 'downstairs\\ncereal', 'downstairs\\nno', 'downtoearth', 'downton', 'downtown', 'downtown\\nwe', 'downtowneasily', 'dozen', 'dozens', 'dr', 'draft', 'drafty', 'drag', 'dragging', 'drain', 'drains', 'drains\\n\\ni', 'drama', 'dramatic', 'drank', 'drapes', 'draw', 'drawback', 'drawbacks', 'drawer', 'drawers', 'drawers\\n2', 'draws', 'dreadful', 'dream', 'dreams', 'drei', 'drenched', 'dresser', 'dressing', 'drew', 'dribble', 'drie', 'dried', 'drier', 'drimnagh', 'drink', 'drinkable', 'drinker', 'drinking', 'drinks', 'drinks\\n\\nmary', 'drinks\\nflat', 'drip', 'dripping', 'drips', 'drive', 'driven', 'driver', 'drivers', 'drives', 'driveway', 'driving', 'drone\\n\\nit', 'droog', 'drooled', 'drop', 'dropoff', 'dropped', 'dropping', 'drops', 'drove', 'drown', 'drug', 'drugi', 'drugs', 'drugstore', 'druk', 'drukke', 'drumcondra', 'drummer', 'drumnagh', 'drundrum', 'drunk', 'drunken', 'drunks', 'dry', 'dryer', 'dryer\\n\\nas', 'dryer\\nthere', 'dryers', 'drying', 'drying\\nwe', 'drywall', 'ds', 'dsy', 'dtc', 'du', 'dub', 'dubbed', 'dubiln', 'dubins', 'dubious', 'dublin', 'dublin\\n', 'dublin\\n\\n\\njulia', 'dublin\\n\\n\\nthanks', 'dublin\\n\\nespecially', 'dublin\\n\\neverything', 'dublin\\n\\ngetting', 'dublin\\n\\nher', 'dublin\\n\\nhouse', 'dublin\\n\\njasons', 'dublin\\n\\nmaeve', 'dublin\\n\\nmartin', 'dublin\\n\\nthank', 'dublin\\n\\nthe', 'dublin\\n\\nwe', 'dublin\\n1010', 'dublin\\nall', 'dublin\\nalso', 'dublin\\nawesome', 'dublin\\nchrister', 'dublin\\nclean', 'dublin\\neasy', 'dublin\\nenjoy', 'dublin\\neverything', 'dublin\\nexcellent', 'dublin\\nfor', 'dublin\\nhis', 'dublin\\nhowever', 'dublin\\ni', 'dublin\\nit', 'dublin\\niver', 'dublin\\nkamer', 'dublin\\nkey', 'dublin\\nlocation', 'dublin\\nnear', 'dublin\\noverall', 'dublin\\nrecommendable', 'dublin\\nsafe', 'dublin\\nshirley', 'dublin\\nstephen', 'dublin\\nthank', 'dublin\\nthanks', 'dublin\\nthe', 'dublin\\nvery', 'dublin\\nwe', 'dublin\\nwel', 'dublin\\nweve', 'dublin\\nwhen', 'dublin\\nwould', 'dublina', 'dublinairport', 'dublinand', 'dublinbikes', 'dublinbrians', 'dublinbus', 'dublincosy', 'dubliner', 'dubliners', 'dublinespecially', 'dublinhighly', 'dublinia', 'dubliniawood', 'dublinireland', 'dublinireland\\n\\nwe', 'dublinkieran', 'dublinmariusz', 'dublino', 'dublino\\nla', 'dublinonly', 'dublins', 'dublinthe', 'dublinthis', 'dublinunless', 'dublinwhat', 'dublinwhere', 'dubln', 'dubt', 'dubts', 'ducha', 'duck', 'ducked', 'ducks', 'duct', 'duda', 'dude', 'duidelijk', 'duidelijke', 'dull', 'dulled', 'dumdrum', 'dumdum', 'dumitras', 'dump', 'dun', 'duncan', 'dundrum', 'dundrums', 'dunlaoghaire', 'dunlin', 'dunne', 'dunnes', 'duplex', 'duplicate', 'duration', 'durchgelegene', 'dus', 'dust', 'dustdirt', 'dusted', 'dusty', 'dutch', 'duty', 'duur', 'duurde', 'duurt', 'duvet', 'duvets', 'dvd', 'dvds', 'dvigalo', 'dwain', 'dwaine', 'dyed', 'dynamic', 'dynamite', 'dyson', 'dziemi', 'e', 'ea', 'eachway', 'eadaoin', 'eadaoins', 'eager', 'eagerly', 'eagle', 'eammon', 'eamon', 'eamonn', 'eamonns', 'eamons', 'ear', 'earlier', 'early', 'earlymid20th', 'earn', 'earned', 'earplugs', 'ears', 'earth', 'earthy', 'ease', 'ease\\nthe', 'eased', 'eases', 'easier', 'easiest', 'easily', 'easily\\n\\nhighly', 'east', 'easter', 'eastern', 'easy', 'easy\\n\\nthanks', 'easy\\n\\nthe', 'easy\\n\\nwe', 'easy\\n\\nwould', 'easy\\nhighly', 'easy\\nthanks', 'easy\\nthe', 'easy\\nwe', 'easy\\nyou', 'easybernard', 'easybus', 'easygoing', 'easyly', 'easypeasy', 'easythe', 'easytofollow', 'easytogetto', 'eat', 'eat\\n\\ni', 'eat\\nall', 'eatdrink', 'eaten', 'eateries', 'eaterys', 'eatin', 'eating', 'eats', 'eatsbut', 'eatsthings', 'eatvisit', 'eatyard', 'ebbe', 'ebenso', 'eccelente', 'eccentric', 'eccentrically', 'eccles', 'echamos', 'echo', 'echoes', 'echt', 'echter', 'ecker', 'eclectic', 'eclectically', 'eco', 'ecofriendly', 'ecommend', 'economic', 'economical', 'ect', 'ed', 'eddie', 'eddies', 'edel', 'edelgerrys', 'edgar', 'edgars', 'edgarthey', 'edge', 'edges', 'edibles', 'edinburgh', 'edition', 'ednas', 'educate', 'educational', 'edward', 'edwards', 'ee', 'een', 'eenpersoonsbed', 'eenvoudige', 'eerder', 'eerie', 'eetbar', 'eezzypeezzy', 'effect', 'effective', 'effective\\n\\nthere', 'effectively', 'effects', 'efficiencyobviously', 'efficient', 'efficiently', 'effort', 'effortless', 'efforts', 'egg', 'eggs', 'eggs\\nit', 'ehepaar', 'eigen', 'eigenaar', 'eigenlijk', 'eightyearold', 'eileen', 'eileens', 'ein', 'einde', 'eine', 'einem', 'einen', 'einer', 'einfach', 'eingerichtet', 'eircoach', 'either\\n\\npauline', 'eithne', 'eithnes', 'ej', 'ejs', 'el', 'elain', 'elaine', 'elaines', 'elbow', 'elder', 'elderly', 'electric', 'electrical', 'electricity', 'electrics', 'electronic', 'electronics', 'elegance', 'elegant', 'elegantly', 'element', 'elements', 'eles', 'elevate', 'elevator', 'elevators', 'elevators\\nits', 'elizabeth', 'elkaar', 'elke', 'ellen', 'ellie', 'ellies', 'ellos', 'elses', 'elva', 'elvas', 'elvire', 'elvis', 'email', 'emailed', 'emails', 'embarrassed', 'embarrassment', 'embassies', 'embassy', 'embodies', 'emer', 'emergencies', 'emergency', 'emers', 'emigration', 'emily', 'emma', 'emma\\nyou', 'emmas', 'emotional', 'empfangen', 'empfehlen', 'empfehlen\\nsie', 'empfehlenswert', 'emphasize', 'emphasized', 'emphasizing', 'emplacement', 'employee', 'employees', 'emptied', 'emptying', 'en', 'enable', 'enabled', 'encantadora', 'encanto', 'encapsulate', 'enchanting', 'enclaveneighborhood', 'enclosed', 'encounter', 'encountered', 'encounters', 'encourage', 'encouraged', 'encrusted', 'encumbered', 'end', 'enda', 'endas', 'endearing', 'endeavours', 'ended', 'ending', 'endless', 'endlessly', 'endorse', 'endowed', 'ends', 'endues', 'ene', 'energetic', 'energy', 'enfamilia', 'enforcing', 'engage', 'engaged', 'engages', 'engaging', 'england', 'english', 'enhanced', 'enjoed', 'enjoy', 'enjoyable', 'enjoyable\\n\\nthank', 'enjoyablehumorous', 'enjoyed', 'enjoying', 'enjoyment', 'enjoys', 'enkel', 'enlivened', 'ennis', 'enorm', 'enormous', 'enormously', 'enote', 'enough\\nthanks', 'enoyed', 'enquiries', 'enquiries\\n\\n\\nid', 'enquiries\\n\\nwe', 'enquiry', 'enquirys', 'enriching', 'enroute', 'enseguida', 'ensuit', 'ensuite', 'ensure', 'ensured', 'ensures', 'ensuring', 'enter', 'entered', 'enteretc', 'entering', 'enterprise', 'entertain', 'entertain\\nvery', 'entertained', 'entertaining', 'entertainment', 'entfernt', 'entferntsie', 'enthousiastic', 'enthusiasm', 'enthusiastic', 'enthusiastically', 'entire', 'entirely', 'entlang', 'entrance', 'entrance\\n\\noverall', 'entrancecant', 'entre', 'entry', 'entryway', 'entsprechend', 'environment', 'environmental', 'environments', 'environs', 'epic', 'epitome', 'epitomise', 'equally', 'equipado', 'equipamiento', 'equiped', 'equipements', 'equipment', 'equipments', 'equipped', 'equipped\\na', 'equipped\\nparking', 'equipped\\nwithin', 'equpped', 'er', 'era', 'erbij', 'ere', 'erfect', 'erg', 'eric', 'erica', 'erics', 'erkunden', 'erleichtern', 'ero', 'errands', 'erratic', 'erreichbar', 'erreichbarkeit', 'erreichen', 'error', 'erverything', 'es', 'esay', 'escape', 'escaped', 'escatic', 'escorted', 'esp', 'espacio', 'espacioso', 'especial', 'especially', 'especialy', 'esperienza', 'esperienze', 'espresso', 'essence', 'essential', 'essentially', 'essentials', 'essere', 'est', 'esta', 'estaban', 'establishments', 'estado', 'estan', 'estancia', 'estar', 'estas', 'estate', 'estelle', 'ester', 'esters', 'esther', 'esthers', 'esthetic', 'estimation', 'estklassig', 'estremamente', 'estris', 'estuary', 'estupenda', 'estuvo', 'et', 'eta', 'etc\\n\\nandy', 'etc\\n\\nmalcolm', 'etc\\n\\nshe', 'etc\\n\\nthe', 'etc\\n\\nunfortunately', 'etc\\napartment', 'etc\\nchris', 'etc\\ni', 'etc\\nkarins', 'etc\\nmy', 'etc\\nthe', 'etc\\nvery', 'etc\\nwe', 'etc\\nwould', 'etccc', 'etcetera', 'eten', 'etes', 'ethiopian', 'etiquette', 'etwas', 'eu', 'eunice', 'euors', 'eur', 'euro', 'euro\\nwe', 'europe', 'european', 'europee\\nsoddisfattissimo', 'euros', 'euros\\n\\nclontarf', 'euros\\n\\nplace', 'euros\\na', 'eurospar', 'evacuate', 'evan', 'eveey', 'evelyn', 'evening', 'evenings', 'event', 'eventhough', 'events', 'eventually', 'ever\\nif', 'ever\\nthanks', 'everbecause', 'evergreat', 'everithing', 'everthing', 'everybody', 'everyday', 'everyhthing', 'everyhting', 'everyones', 'everyplace', 'everyrthing', 'everything\\n\\nif', 'everything\\n\\nthe', 'everything\\ngreetings', 'everything\\nstepen', 'everythingand', 'everythingextremely', 'everythings', 'everythingtemple', 'everythingwalking', 'everythingwe', 'everythinh', 'everytime', 'everywhere\\n\\nfantastic', 'everywherewe', 'evidence', 'evidenced', 'evident', 'evironment', 'evryone', 'exact', 'exactly', 'exagerar', 'exaggerating', 'exaggeration', 'example', 'example\\nhowever', 'examples', 'excavation', 'exceeded', 'exceeding', 'exceedingly', 'excelent', 'excelente', 'excellant', 'excelled', 'excellence', 'excellent', 'excellent\\n\\nalthough', 'excellent\\n\\ncant', 'excellent\\n\\ni', 'excellent\\n\\nonly', 'excellent\\nthe', 'excellently', 'excels', 'excepcional', 'excepting', 'exception', 'exceptional', 'exceptional\\nall', 'exceptionally', 'exceptionalquiet', 'exceptionaly', 'exceptionnel', 'excessive', 'exchange', 'exchanges', 'exchanging', 'exchequer', 'excited', 'excitement', 'exciting', 'excitinglots', 'exclusive', 'excursion', 'excursions', 'excuse', 'excuses', 'execellent', 'exellent', 'exemplary', 'exeptional', 'exercise', 'exhaust', 'exhausted', 'exhibition', 'exhibits', 'exhilarating', 'exist', 'existed', 'exit', 'exited', 'exits', 'exmental', 'exorbitant', 'exotic', 'expecations', 'expect', 'expect\\nit', 'expectable', 'expectation', 'expectations', 'expectations\\n\\nthe', 'expectations\\nthe', 'expectationstolerance', 'expected', 'expected\\nin', 'expected\\nthe', 'expected\\nwe', 'expecting', 'expense', 'expenses', 'expensive', 'expensive\\n\\n1010', 'expensive\\n\\nvery', 'experiance', 'experience', 'experience\\n\\nanns', 'experience\\n\\nrecommend', 'experience\\n\\nteresa', 'experience\\n\\nthanks', 'experience\\nabsolute', 'experience\\nas', 'experience\\never5need', 'experience\\nmore', 'experience\\nthank', 'experience\\nwe', 'experienced', 'experienced\\n\\nlocation', 'experiences', 'experiences\\n\\n', 'experiencethe', 'experiencia', 'experiencing', 'experiment', 'expert', 'expertise', 'expired', 'expirience', 'explain', 'explained', 'explaining', 'explains', 'explanation', 'explanations', 'explicit', 'exploration', 'explorations', 'explore', 'explored', 'exploring', 'exploring\\n\\nour', 'exposed', 'exposing', 'expres', 'express', 'expressed', 'expressways', 'exquisite', 'exquisite\\n\\nthe', 'exquisitely', 'extend', 'extended', 'extending', 'extension', 'extensive', 'extensively', 'extent', 'exterior', 'external', 'exterordenary', 'extonishingly', 'extra', 'extraordinary', 'extras', 'extrathere', 'extravagant', 'extreme', 'extremelly', 'extremely', 'extremly', 'extrodinarily', 'eye', 'eye\\n\\nthe', 'eyelashes', 'eyes', 'f', 'fa', 'fab', 'fabi', 'fabiano', 'fabianos', 'fabolous', 'fabrication\\nit', 'fabulous', 'fabulous\\n\\nwe', 'fabulous\\nthe', 'fabulously', 'face', 'faced', 'faces', 'facile', 'facilidades', 'facilitate', 'facilitated', 'facilitates', 'facilites', 'facilities', 'facilitieseasy', 'facility', 'facing', 'facotry', 'fact', 'fact\\ni', 'factor', 'factors', 'factory', 'facts', 'factual', 'faculties', 'faded', 'failed', 'fails', 'faint', 'fair', 'fairly', 'fairness', 'fairview', 'fairy', 'fairyland', 'fairytale', 'faithfully', 'fajn', 'falafel', 'fall', 'falling', 'fallons', 'falls', 'false', 'falta', 'famiglia', 'famiglie', 'familia', 'familiar', 'familiarize', 'familiarizing', 'familiarly', 'families', 'familiescouplessolo', 'familly', 'family', 'family\\n\\ngiselle', 'family\\nyour', 'familyfriendscouple', 'familys', 'familyshe', 'famine', 'famous', 'famously', 'fan', 'fancy', 'fanno', 'fans', 'fantabulous', 'fantastic', 'fantastic\\n\\neverything', 'fantastic\\n\\nthanks', 'fantastic\\n\\nthe', 'fantastic\\nif', 'fantastica', 'fantastically', 'fantastisch', 'far', 'far\\n\\none', 'faraway', 'fare', 'fared', 'fares', 'farewelled', 'farm', 'farmer', 'farming', 'faroff', 'farther', 'farthest', 'fascinating', 'fashion', 'fashionable', 'fashioned', 'fast', 'fast\\nkrystian', 'fast\\nthank', 'fast\\nthe', 'faster', 'fastidio', 'fasting', 'father', 'fatigue', 'fatima', 'fatto', 'faucet', 'fault', 'faulted', 'faultless', 'faults', 'faulty', 'fav', 'favor', 'favorite', 'favorites', 'favour', 'favourite', 'favours', 'fazed', 'fc', 'fear', 'fearful', 'feast', 'feat', 'feather', 'featherfree', 'feathers', 'feature', 'features', 'feautre', 'fed', 'federico', 'federicos', 'fee', 'fee\\nthe', 'feed', 'feedback', 'feedbacks', 'feeders', 'feeding', 'feeing', 'feel', 'feeld', 'feeling', 'feels', 'fees', 'feet', 'feline', 'fell', 'fella', 'fellow', 'felt', 'felxible', 'female', 'females', 'fence', 'fences', 'fermata', 'fermate', 'ferrie', 'ferries', 'ferry', 'ferryman', 'festival', 'festivals', 'festive', 'few\\nas', 'fewer', 'fi\\ni', 'fiance', 'fiancee', 'ficar', 'fiction', 'fiddly', 'fidelima', 'fidelma', 'fidelmas', 'fiedly', 'fields', 'fiendly', 'fifteenminute', 'fifth', 'fight', 'fighters', 'figure', 'figured', 'figuring', 'fijn', 'fijne', 'file', 'files', 'filled', 'filling', 'fills', 'films', 'filmsy', 'filter', 'filtered', 'filth', 'filthy', 'fim', 'fin', 'final', 'finally', 'financial', 'finbars', 'find\\n', 'findcheckin', 'findcrowed', 'finding', 'finds', 'fine', 'fine\\n\\none', 'fine\\n\\nthe', 'fine\\nwe', 'finest', 'finger', 'fingertips', 'finglas', 'finish', 'finished', 'finishes', 'finishing', 'finn', 'fiona', 'fionas', 'fionnuala', 'fionnualas', 'fionnula', 'fionnulas', 'firandly', 'fireplace', 'firm', 'firstly', 'firstrate', 'firsttime', 'fish', 'fisher', 'fishing', 'fishingseaside', 'fist', 'fit', 'fitness', 'fits', 'fitted', 'fittings', 'fitzpatricks', 'fiveday', 'fives', 'fivestar', 'fix', 'fixed', 'fixes', 'fixing', 'fixings', 'fixtures', 'flagged', 'flags', 'flakes', 'flaky', 'flare', 'flash', 'flashing', 'flat', 'flat\\ni', 'flatapartment', 'flatmate', 'flats', 'flatware', 'flavor', 'flavored', 'flaw', 'flawless', 'flaws', 'flea', 'fleet', 'flew', 'flexibility', 'flexibility\\n\\nher', 'flexible', 'flexipass', 'flies', 'flies\\n4', 'flight', 'flight\\ni', 'flight\\nplace', 'flight\\nthank', 'flightif', 'flights', 'flights\\n\\nthe', 'flightsthat', 'flimsy', 'flip', 'flipped', 'floating', 'flood', 'flooded', 'flooding', 'floor', 'floor\\nprivate', 'floorboard', 'floorboards', 'floored', 'flooring', 'floors', 'flourishes', 'flow', 'flowers', 'flowing', 'fluctuate', 'fluctuates', 'fluctuating', 'fluent', 'fluffiest', 'fluffy', 'flughafen', 'flughafenbus', 'fluid', 'flummoxed', 'flurry', 'flush', 'flushed', 'flushes', 'flushing', 'flustered', 'fly', 'flyers', 'flying', 'flys', 'fo', 'fob', 'focus', 'focused', 'fogcovered', 'foi', 'fold', 'folded', 'folder', 'folders', 'folding', 'folk', 'folks', 'follow', 'followed', 'following', 'follows', 'follows\\n\\tthe', 'follows\\nupon', 'fond', 'fondly', 'foo', 'food', 'food\\nall', 'foodbreakfast', 'foodentertainment', 'foodlive', 'foods', 'foodstore', 'foodstuffs', 'fooled', 'foor', 'foot', 'foot\\nbeds', 'foot\\nif', 'foot\\nmariusz', 'foot\\nwe', 'football', 'footpath', 'footprint', 'footsteps', 'foottraffic', 'for\\nhad', 'for\\ni', 'forbidden', 'force', 'forced', 'forcing', 'fore', 'forecast', 'forehand', 'foreign', 'foremost', 'forever', 'forget', 'forgetting', 'forgivable', 'forgot', 'forgotten', 'forks', 'form', 'formal', 'format', 'formed', 'formidable', 'forms', 'forniture', 'fort', 'fortable', 'forth', 'forthcoming', 'forththere', 'forts', 'fortunate', 'fortunately', 'fortune', 'forward', 'forwards', 'foto', 'fotos', 'fould', 'founds', 'fount', 'fountain', 'fourand', 'fourdays', 'fourleavesclover', 'fourstar', 'fourth', 'foward', 'foyer', 'fr', 'fraction', 'fragen', 'fragrant', 'frame', 'frames', 'fran', 'francais', 'france', 'frances', 'francesca', 'francescas', 'francis', 'francois', 'franjes', 'frank', 'franks', 'frans', 'frat', 'frau', 'fray', 'freddie', 'freddy', 'freddys', 'fredericos', 'fredrick', 'free', 'freedom', 'freely', 'freezer', 'freezing', 'french', 'frendly', 'frequent', 'frequenting', 'frequently', 'fresch', 'fresh', 'freshbaked', 'freshen', 'freshener', 'freshest', 'freshly', 'freshlyprepared', 'freshlysqueezed', 'fret', 'freundlich', 'freundliche', 'freundlicher', 'fri', 'friar', 'friday', 'fridays', 'fridge', 'fridgeit', 'friend', 'friend\\n\\nmy', 'friend\\n\\nthe', 'friend\\nthank', 'friendlier', 'friendliest', 'friendliness', 'friendly', 'friendly\\na', 'friendly\\nbed', 'friendly\\nit', 'friendly\\nlocation', 'friendly\\nthe', 'friendly\\nwe', 'friends', 'friends\\n\\ndavid5', 'friendscouples', 'friendsfamily', 'friendship', 'friendships', 'friendy', 'frienldly', 'frig', 'friggen', 'frills', 'frim', 'fringe', 'fringes', 'frio', 'frisch', 'fro', 'frodo', 'from\\n\\ndeidre', 'from\\nhome', 'from\\nlots', 'from\\ntemple', 'fromespecially', 'fromto', 'front\\n\\nnoel', 'front\\nthe', 'frost', 'frosted', 'froze', 'frozen', 'fruehstueck', 'frugality', 'fruit', 'fruitberries', 'fruits', 'fruits\\nsitting', 'frustrated', 'frustrating', 'frustration', 'fry', 'ft', 'fueron', 'fuimos', 'fulfill', 'fullequipment', 'fullest', 'fullest\\n\\nhighly', 'fulltime', 'fully', 'fullystocked', 'fumbally', 'fun', 'function', 'functional', 'functioneel', 'functioning', 'functionnal', 'fund', 'funky', 'funny', 'funtimes', 'fuori', 'fur', 'furnished', 'furnishings', 'furniture', 'furry', 'furthermore', 'fusesstayed', 'fuss', 'fuss\\ni', 'fusty', 'futon', 'future', 'future\\nif', 'futures', 'futuristic', 'fyi', 'g', 'gaa', 'gadget', 'gaf', 'gaffer', 'gaggle', 'gaiety', 'gain', 'gained', 'gais', 'gal', 'galleries', 'gallery', 'galley', 'galore', 'galway', 'game', 'game\\nhowever', 'games', 'games\\ni', 'gameshowppv', 'gaming', 'ganache', 'gang', 'gaol', 'gap', 'garage', 'garage\\nwe', 'garages', 'garbage', 'garden', 'garden\\n\\ntop', 'garden\\nour', 'garden\\nterry', 'gardencentrally', 'gardener', 'gardenpatio', 'gardens', 'garett', 'garrets', 'garrett', 'garretts', 'garry', 'gars', 'gary', 'garys', 'gas', 'gasten', 'gastfreundlich', 'gastfreundlich\\nsehr', 'gastfreundschaft', 'gastgeber', 'gastgeberin', 'gastgeberinnen', 'gastgebers', 'gastheer', 'gastvrij', 'gastvrije', 'gastvrijheid', 'gastvrouw', 'gate', 'gated', 'gates', 'gather', 'gathering', 'gatherings', 'gats', 'gave', 'gavin', 'gavins', 'gay', 'gayle', 'gayles', 'gb', 'gear', 'gearheads', 'gebruik', 'gebruiken', 'gedeelde', 'geeft', 'geen', 'gefallen', 'gefehlt', 'gehad', 'geheel', 'gehminuten', 'geholfen', 'geholfen\\ndas', 'gehoopt', 'gehoord', 'geklappt', 'gekregen', 'gel', 'geld', 'gelegen', 'gelegenes', 'gelijk', 'gels', 'gelshampoo', 'gelthere', 'gelungen', 'gem', 'gem\\nthanks', 'gemaakt', 'gemak', 'gemakken', 'gemeenschappelijke', 'gemma', 'gemmas', 'gems', 'general', 'generally', 'generations', 'generosity', 'generous', 'generous\\n\\nher', 'generously', 'genial', 'geniale', 'geniunly', 'genius', 'genoeg', 'genoten', 'gent', 'gentile', 'gentili', 'gentilissime', 'gentle', 'gentleman', 'gentlemanly', 'gentlemen', 'gentrification', 'gentrified', 'genuine', 'genuinely', 'geographically', 'geopende', 'george', 'georges', 'georges\\nall', 'georgia', 'georgian', 'georgias', 'georgie', 'georgious', 'geprijsd', 'ger', 'gerade', 'geraldine', 'geraldines', 'gerard', 'gerards', 'gerda', 'gereat', 'geregeld', 'german', 'germany', 'gerne', 'gerry', 'gerrys', 'gertrudes', 'geschikt', 'geschlafen', 'gesitueerd', 'gesture', 'gesture\\ngoing', 'getaway', 'getaway\\n\\nthe', 'getaways', 'gets', 'getting', 'geven', 'gevulde', 'geweldige', 'gewesen', 'gezellig', 'gezellige', 'gezien', 'gf', 'gia', 'giant', 'giants', 'giardinetto', 'gibneys', 'gibt', 'gift', 'gifting', 'gifts', 'gig', 'gigantic', 'gigs', 'gin', 'gina', 'ginas', 'ging', 'ginness', 'ginos', 'girl', 'girlfriend', 'girlfriends', 'girls', 'girly', 'giustinas', 'gived', 'given', 'given\\n\\nessentially', 'gives', 'giving', 'glad', 'gladly', 'glases', 'glasnevian', 'glasnevin', 'glass', 'glasses', 'glasthule', 'glazed', 'gleich', 'glendalough', 'gli', 'glimmerman', 'glimpse', 'glitches', 'gloomy', 'glorified', 'glorious', 'glowing', 'gluten', 'glutenfree', 'go\\nyou', 'goal', 'goalnot', 'goatstown', 'god', 'godublin', 'goeat', 'goed', 'goede', 'goerge', 'goes', 'goid', 'going', 'goingreturning', 'goings', 'gold', 'golden', 'goldilocks', 'golf', 'gone', 'gonna', 'good', 'good\\n\\nhomesparkling', 'good\\n\\nthis', 'good\\neasy', 'good\\nill', 'good\\nonly', 'good\\nthanks', 'good\\nthe', 'good\\nwe', 'good\\nyou', 'gooda', 'goodie', 'goodies', 'goodmornings', 'goodmorningwords', 'goodness', 'goods', 'goodthank', 'goodvibes', 'goody', 'goodyou', 'goof', 'googling', 'gook', 'goose', 'gordan', 'gordijnen', 'gordijnen\\nin', 'gordon', 'gordons', 'gorgeous', 'gorgeous\\n5', 'gorgoeus', 'gosling', 'got', 'goto', 'gotta', 'gotten', 'gourmet', 'gowhat', 'gpo', 'gps', 'graag', 'grab', 'grabbed', 'grace', 'graces', 'gracias', 'gracious', 'graciously', 'grade', 'graduation', 'graet', 'graffiti', 'grafting', 'grafton', 'grainne', 'grainnes', 'grainness', 'gran', 'grand', 'granddaughter', 'granddaughters', 'grande', 'grandfather', 'grandma', 'grandmas', 'grandmother', 'grandparents', 'granny', 'granola', 'granted', 'grapes', 'grasveldje', 'grate', 'grateful', 'gratefully', 'grating', 'gratitute', 'gratos', 'gratuita', 'gravediggers', 'gravity', 'grazie', 'graziosa', 'greaaaat', 'grease', 'great', 'great\\n\\ni', 'great\\n\\nis', 'great\\n\\nshe', 'great\\ncommunication', 'great\\neverything', 'great\\nfionnuala', 'great\\ni', 'great\\nit', 'great\\nkieran', 'great\\noverall', 'great\\nthanks', 'great\\nthanks\\nmax', 'great\\nthe', 'greata', 'greatclean', 'greatclose', 'greatcommunication', 'greate', 'greated', 'greater', 'greatest', 'greateveryone', 'greatfresh', 'greatit', 'greatlooking', 'greatlots', 'greatly', 'greatnear', 'greatnice', 'greatno', 'greatplace', 'greatpromptcourteous', 'greats', 'greatted', 'greatthe', 'greatvery', 'greatwe', 'greay', 'greaylt', 'green', 'greenery', 'greengrocer', 'greenspace', 'greenway', 'greet', 'greeted', 'greeter', 'greeting', 'greetings', 'greets', 'gregarious', 'gresr', 'grest', 'grew', 'greyhound', 'greystones', 'grill', 'grim', 'grime', 'grimy', 'grip', 'grisham', 'grocer', 'groceries', 'groceries\\nthe', 'grocers', 'grocery', 'groceryconvenience', 'groceryconvenient', 'grocerys', 'groep', 'groot', 'gross', 'grote', 'ground', 'grounded', 'grounds', 'group', 'groups', 'grout', 'grouting', 'growing', 'grown', 'grubby', 'grumpy', 'grup', 'gruppo', 'guarantee', 'guaranteed', 'guardar', 'guardians', 'gucken', 'guess', 'guess\\n\\nreally', 'guess\\nbonud', 'guessing', 'guest', 'guest\\n2', 'guest\\nher', 'guesthouse', 'guestroom', 'guestrooms', 'guests', 'guests\\n\\nthe', 'guests\\nnice', 'guests\\nthank', 'guests\\nthe', 'guidance', 'guidati', 'guide', 'guidebook', 'guidebooks', 'guided', 'guides', 'guidesrecommendations', 'guiding', 'guilty', 'guineas', 'guiness', 'guinnes', 'guinness', 'guinnesses', 'gulls', 'gusta', 'gusto', 'gustosa', 'gusts', 'gut', 'gute', 'guten', 'guter', 'guy', 'guy\\n\\ni', 'guys', 'gym', 'h', 'ha', 'haar', 'haben', 'habian', 'habit', 'hace', 'had\\n\\nand', 'had\\n\\nfrom', 'had\\nthe', 'hadden', 'hadnt', 'hafida', 'haha', 'haha\\ni', 'hair', 'hairdreyer', 'hairdryer', 'hairdryer\\ni', 'hairs', 'hairspray', 'hairy', 'half', 'halfhour', 'halfway', 'hall', 'halloween', 'halls', 'hallsentrance', 'hallway', 'hallway\\nfan', 'hallways', 'halo', 'ham', 'hammock', 'hamper', 'hand', 'handbook', 'handcraft', 'handcrafts', 'handed', 'handel', 'handful', 'handheld', 'handig', 'handily', 'handle', 'handled', 'handles', 'handling', 'handmade', 'handpicked', 'hands', 'hands\\n\\na', 'handsdown', 'handson', 'handwritten', 'handy', 'handy\\nlina', 'handyman', 'hang', 'hangen', 'hangers', 'hanging', 'hangout', 'hangover', 'hanlons', 'hanno', 'hans', 'hapenney', 'hapenny', 'happen', 'happened', 'happening', 'happens', 'happier', 'happiest', 'happily', 'happy', 'happy\\ngreat', 'harbor', 'harbour', 'harbour\\n\\nthe', 'harcourt', 'hard', 'hard\\nbut', 'harder', 'hardly', 'hardpressed', 'hardtoo', 'hardwood', 'haria', 'harmonstown\\n\\nextras', 'harrys', 'hart', 'hartelijk', 'hartleys', 'hassle', 'hassled', 'hasslefree', 'hasslefree\\nthe', 'hast', 'hasta', 'haste', 'hat', 'hate', 'hated', 'hats', 'hatte', 'hatten', 'haul', 'hauling', 'haunting', 'haven', 'havent', 'haves', 'having', 'hawaii', 'hawaiian', 'hay', 'hazard', 'hazardous', 'hd', 'head', 'headache', 'headaches', 'headed', 'heading', 'headphones', 'heads', 'headset', 'healing', 'health', 'healthladen', 'healthy', 'healthy\\nafter', 'heap', 'heaps', 'hear', 'heard', 'hearing', 'heart', 'heart\\nher', 'heartbeat', 'hearted', 'heartfelt', 'heartful', 'heartily', 'heartly', 'hearts', 'heartwarming', 'hearty', 'heat', 'heated', 'heater', 'heatercloset', 'heaters', 'heating', 'heatingairconditioning', 'heatwave', 'heaven', 'heavenkatythe', 'heavenly', 'heavier', 'heavily', 'heavy', 'heb', 'hebben', 'hebt', 'hectic', 'hed', 'heed', 'heedly', 'heeft', 'heel', 'heels\\nken', 'heerlijk', 'heerlijke', 'heet', 'heft', 'height', 'heights', 'held', 'hele', 'helen', 'helena', 'helenas', 'helens', 'hell', 'hellens', 'hello', 'help', 'helped', 'helper', 'helpful', 'helpful\\n', 'helpful\\n\\nfabulous', 'helpful\\n\\nonly', 'helpful\\n\\nthe', 'helpful\\nbedroom', 'helpful\\nbrian', 'helpful\\nhe', 'helpful\\nparking', 'helpful\\nthank', 'helpful\\nthe', 'helpful\\nthere', 'helpful\\nwe', 'helpful\\nwould', 'helpful\\nyou', 'helpfulclean', 'helpfull', 'helpfull\\nprice', 'helpfully', 'helpfulness', 'helpfuloffering', 'helping', 'helps', 'hemos', 'hen', 'henry', 'hens', 'hepaul', 'her\\nthe', 'her\\nwe', 'herbal', 'herbert', 'herbs', 'here\\n\\nmake', 'here\\n\\nmy', 'here\\n\\nthanks', 'here\\n\\nwe', 'here\\nas', 'here\\ndublin', 'here\\nwe', 'heritage', 'hermoso', 'hero', 'heron', 'herself\\nshe', 'hervorragend', 'herzlich', 'hes', 'hesistate', 'hesitant', 'hesitate', 'hesitates', 'hesitation', 'het', 'heuston', 'hey', 'hi', 'hi\\n\\na', 'hiccup', 'hiccups', 'hidden', 'hide', 'hideabed', 'hier', 'high', 'highend', 'higher', 'highest', 'highlight', 'highlight\\ncannot', 'highlights', 'highly', 'highly\\n\\nbrynn', 'highquality', 'highrise', 'hightly', 'highway', 'highways', 'higly', 'hij', 'hike', 'hikes', 'hiking', 'hilarious', 'hilfreichen', 'hilfsbereit', 'hilfsbereite', 'hill', 'hills', 'hilton', 'hiltondown', 'him\\nthe', 'himself\\n\\nall', 'himself\\nwe', 'hindered', 'hinderlijk', 'hindsight', 'hinge', 'hint', 'hints', 'hip', 'hiper', 'hire', 'hired', 'hires', 'historians', 'historic', 'historical', 'historicalcultural', 'history', 'history\\n\\nthe', 'historybuff', 'hists', 'hit', 'hitch', 'hits', 'hitting', 'ho', 'hob', 'hoe', 'hoek', 'hoestsst', 'hogan', 'hogans', 'hogging', 'hoho', 'hola', 'hold', 'holder', 'holders\\n\\nbedroom\\nsmallest', 'holding', 'hole', 'holes', 'holiday', 'holiday\\n\\nwe', 'holidays', 'hollering', 'hollidays', 'holly', 'hollybrook', 'holy', 'holydays', 'holyhead', 'home', 'home\\n\\nit', 'home\\n\\nmany', 'home\\n\\nthank', 'home\\n\\nthanks', 'home\\n\\nthe', 'home\\n\\nunfortunately', 'home\\n\\nwould', 'home\\na', 'home\\nbill', 'home\\nexcellent', 'home\\ngreat', 'home\\nit', 'home\\njeffrey', 'home\\nlocation', 'home\\nthe', 'home\\nthey', 'home\\nwe', 'home\\nyou', 'homeawayfromhome', 'homebase', 'homefromhome', 'homeless', 'homelike', 'homely', 'homely\\n\\ni', 'homely\\nthe', 'homemade', 'homemuch', 'homes', 'homestay', 'homesuch', 'homesusan', 'homethey', 'homethis', 'hometown', 'homewhat', 'homework', 'homey', 'homey\\n\\nbed', 'homeyou', 'homeyoull', 'homie', 'hone', 'honest', 'honestly', 'honesty', 'honey', 'honeycrusted', 'honeymoon', 'honor', 'hooked', 'hooks', 'hoovered', 'hop', 'hope', 'hoped', 'hopefully', 'hopes', 'hoping', 'hopitality', 'hopoff', 'hopon', 'hoponhopoff', 'hoponoff', 'hopped', 'hopping', 'hordes', 'horizontal', 'horrendous', 'horrible', 'horribly', 'horse', 'horses', 'hospatality', 'hospdagem', 'hospitable', 'hospitable\\n\\nthe', 'hospitably', 'hospital', 'hospital\\nbut', 'hospitalaria', 'hospitalidad', 'hospitality', 'hospitality\\nim', 'hospitality\\nsuper', 'hospitalitythis', 'hospitility', 'host', 'host\\n', 'host\\n\\naccommodating', 'host\\n\\nthe', 'host\\n3', 'host\\na', 'host\\nbut', 'host\\nexcellent', 'host\\ngreat', 'host\\nhe', 'host\\nhowever', 'host\\ni', 'host\\ninitially', 'host\\nit', 'host\\nless', 'host\\nnice', 'host\\nrecommended', 'host\\nthe', 'host\\nwant', 'host\\nwe', 'host\\nwould', 'host\\nyou', 'hostaccommodation', 'hostand', 'hostclear', 'hostcontact', 'hoste', 'hosted', 'hostel', 'hostels', 'hosters', 'hostes', 'hostess', 'hostess\\n\\nyou', 'hostess\\nprobably', 'hostess\\nwe', 'hostess\\nwhen', 'hostesses', 'hostesss', 'hostextremely', 'hostfantastic', 'hostgood', 'hostgreat', 'hosthe', 'hosther', 'hosthopefully', 'hosti', 'hostile', 'hosting', 'hostitelka', 'hostkieran', 'hostman', 'hostprovide', 'hostrepresentative', 'hostresponsive', 'hosts', 'hosts\\n\\na', 'hosts\\n\\ntakes', 'hosts\\ni', 'hosts\\nreally', 'hosts\\nthe', 'hostseverything', 'hostshighly', 'hostsjohn', 'hostsvery', 'hostvery', 'hostwill', 'hot', 'hotel', 'hotel\\nwhile', 'hotellike', 'hotelrooms', 'hotels', 'hotelstyle', 'hotspot', 'hotspots', 'hotspots\\nprivate', 'hotter', 'hottest', 'hotwater', 'hound', 'hour', 'hour\\n\\nadam', 'hours', 'hours\\n\\nthe', 'hous', 'house', 'house\\n', 'house\\n\\n', 'house\\n\\nrory', 'house\\n\\nwe', 'house\\nbernard', 'house\\nconvenient', 'house\\ni', 'house\\nits', 'house\\nrecommend', 'house\\nthe', 'house\\nvery', 'house\\nwe', 'houseand', 'housecomfortable', 'housed', 'househad', 'household', 'houseinformation', 'housekeeper', 'housekeeping', 'houseloved', 'housemate', 'housemates', 'houses', 'houses\\njames', 'housesstreets', 'housethanks', 'housing', 'houston', 'houth', 'howeth', 'howth', 'howths', 'howthsutton', 'howwhere', 'hq', 'hr', 'hreat', 'hrs', 'hsegreat', 'hub', 'hubbard', 'hubbards', 'hubbub', 'huey', 'hug', 'hug\\n\\ndoris', 'huge', 'hugh', 'hughie', 'hughs', 'hugs', 'huis', 'huisje', 'hum', 'human', 'humble', 'humid', 'humidity', 'humor', 'humored', 'humorous', 'humour', 'hun', 'hundreds', 'hung', 'hungary', 'hungry', 'hurling', 'hurly', 'hurricane', 'hurry', 'hurt', 'husband', 'husbanda', 'husbands', 'hussle', 'hustle', 'hut', 'huurder', 'hygiene', 'hyper', 'hypercenter', 'hypoallergenic', 'i\\n\\ttravel', 'iain', 'iains', 'ian', 'ians', 'ice', 'ich', 'icing', 'id', 'idden', 'idea', 'ideaal', 'ideal', 'ideale', 'idealic', 'ideally', 'idealwe', 'ideas', 'ideassuggestions', 'identical', 'identify', 'idyllic', 'iedere', 'iedereen', 'ierse', 'iets', 'ifwhen', 'ignore', 'ignored', 'ignored\\nthe', 'ihre', 'ii', 'ik', 'ikea', 'il', 'ill', 'illegal', 'illiam', 'illumination', 'im', 'ima', 'imaculately', 'image', 'imaged', 'images', 'imagine', 'imagined', 'imagining', 'imelda', 'imeldas', 'imma', 'immaculate', 'immaculately', 'immadietely', 'immediate', 'immediately', 'immense', 'immensely', 'immer', 'immersed', 'immersion', 'immersive', 'immigration', 'impact', 'impacts', 'impatient', 'impecable', 'impeccable', 'impeccably', 'imperdible', 'imperfect', 'impersonal', 'imply', 'impolite', 'importance', 'important', 'importantly', 'imported', 'impossible', 'impound', 'impresed', 'impressed', 'impression', 'impressions', 'impressiv', 'impressive', 'impressiveness', 'improve', 'improved', 'improvement', 'improvements', 'in\\n\\nanyways', 'in\\n\\nthe', 'in\\nbut', 'in\\nhated', 'in\\nkarin', 'in\\nso', 'in\\nwardrobes', 'inaccurate', 'inadapte', 'inadequate', 'inadvertent', 'inandout', 'inbegrepen', 'inbetween', 'inbetweenness', 'incase', 'inch', 'incheck', 'incheckout', 'incident', 'incidentals', 'incitycenter', 'incl', 'inclined', 'include', 'included', 'included\\nhost', 'included\\nit', 'included\\nmary', 'includes', 'includin', 'including', 'includning', 'inclusive', 'incluye', 'income', 'incommunication', 'incomodo\\na', 'incomparable', 'inconvenience', 'inconvenienced', 'inconvenient', 'inconveniente', 'incorrect', 'incorrectly', 'increasingly', 'incrediable', 'incredible', 'incredible\\nhighly', 'incredibly', 'incur', 'independant', 'independence', 'independent', 'indepth', 'inderdaad', 'indian', 'indicate', 'indicated', 'indicated\\n', 'indicates', 'indicating', 'indications', 'indigent', 'individual', 'individually', 'individuals', 'indoor', 'indooroutdoor', 'indovinate', 'indulged', 'industrial', 'industry', 'inens', 'ineptness', 'inese', 'ineses', 'inevitably', 'inexcusable', 'inexpensive', 'inexperienced', 'infact', 'infant', 'infantfriendly', 'infectious', 'inferior', 'infested', 'info', 'info\\nplace', 'inform', 'informacija', 'informacion', 'informal', 'informatie', 'information', 'information\\n\\na', 'information\\n\\nsabrina', 'information\\nabout', 'informations', 'informations\\ni', 'informative', 'informativehelpful', 'informazioni', 'informed', 'informing', 'infos', 'ingericht', 'ingredients', 'inherent', 'inin', 'inis', 'inises', 'initial', 'initially', 'initiative', 'iniziato', 'injured', 'injury', 'ink', 'inlaws', 'inline', 'inmediato', 'inmejorable', 'inn', 'inna', 'innas', 'innenstadt', 'inner', 'innercity', 'innout', 'inoff', 'inoltre', 'inout', 'inoverlooking', 'inperson', 'inplant', 'inquired', 'inquires', 'inquiries', 'inquiry', 'inrichting', 'ins', 'insanely', 'inseriert', 'inservibles', 'inside', 'inside\\ncomfortable', 'insider', 'insight', 'insightful', 'insights', 'insite', 'inspection', 'inspiratiomal', 'inspire', 'inspired', 'inspiring', 'instagramworthy', 'install', 'installation', 'installed', 'instant', 'instantaneously', 'instantly', 'instead', 'insteon', 'instructed', 'instructed\\nwifi', 'instructing', 'instruction', 'instructions', 'instructions\\n\\nthe', 'instructionscommunication', 'instruments', 'insufficient', 'insulation', 'insure', 'insuring', 'int', 'integral', 'integrated', 'integrity', 'intelligent', 'intend', 'intended', 'intending', 'intense', 'intensity', 'intensive', 'intentional', 'interact', 'interacted', 'interaction', 'interactions', 'interactive', 'intercom', 'interested', 'interesting', 'interesting\\n\\nthank', 'interestingly', 'interests', 'interfere', 'interfered', 'intergenerational', 'interieur', 'interior', 'interiors', 'interlocutor', 'intermittently', 'international', 'internationally', 'internet', 'internship', 'interrogate', 'interruption', 'intersect', 'intersection', 'intersting', 'interview', 'intetests', 'inti', 'intimacy', 'intimate', 'intimidating', 'intolerable', 'intoout', 'intormation', 'intoxicated', 'intrigued', 'intriguing', 'introduce', 'introduced', 'introduction', 'intrude', 'intruder', 'intruding', 'intrusive', 'intrusively', 'invading', 'invaluable', 'invasion', 'invasive', 'invent', 'inventory', 'invest', 'investigate', 'investigation', 'investing', 'investment', 'invigorating', 'inviroment', 'invisible', 'invitation', 'invite', 'invited', 'invites', 'inviting', 'involved', 'involvement', 'ion', 'ious', 'iphone', 'ireland', 'ireland\\nas', 'ireland\\nthe', 'irelandand', 'irelanditalyswitzerland', 'irelands', 'irelandspacious', 'irish', 'irishman', 'irland', 'irlandese', 'irlandesi', 'iron', 'ironed', 'ironman', 'irrelevant', 'irritated', 'isa', 'isas', 'ish', 'island', 'islas', 'isle', 'ismena\\nthe', 'ismenia', 'ismenias', 'isnt', 'isobel', 'isobels', 'isoblels', 'isolated', 'isolation', 'isoldes', 'isschoon', 'issue', 'issue\\n\\noverall', 'issue\\n\\nthe', 'issue\\nshe', 'issue\\nthe', 'issue\\nthere', 'issues', 'issues\\nthere', 'issuper', 'ist', 'it\\n\\ni', 'it\\n\\nmy', 'it\\n\\nthe', 'it\\nall', 'it\\ngrocery', 'it\\nif', 'it\\nmaybee', 'it\\nmichelle', 'it\\nshe', 'it\\nthe', 'it\\nwalking', 'it\\nwould', 'italian', 'italians', 'italy', 'itchy', 'itd', 'item', 'items', 'ithank', 'itineraries', 'itinerario', 'itinerary', 'itjust', 'itll', 'itnice', 'itself\\n\\n3\\tunflushed', 'itself\\nno', 'itselfthis', 'iur', 'iuri', 'iuris', 'ivan', 'ivana', 'ive', 'iveach', 'iveagh', 'iznutra', 'izvana', 'izven', 'j', 'jack', 'jacket', 'jackets', 'jackie', 'jackies', 'jackson', 'jacob', 'jacqueline', 'jacquelines', 'jacuzzi', 'jade', 'jag', 'jail', 'jake', 'jakob', 'jam', 'jamerson', 'james', 'jameson', 'jamesons', 'jamess', 'jamestom', 'jamestoms', 'jamison', 'jammed', 'jams', 'jan', 'jane', 'janes', 'jans', 'japanese', 'jaqueline', 'jar', 'jars', 'jason', 'jasons', 'javi', 'javier', 'jays', 'jazz', 'jclc', 'jd', 'je', 'jean', 'jeans', 'jeanss', 'jedem', 'jeden', 'jedenfall', 'jederzeit', 'jeff', 'jeffrey', 'jemals', 'jen', 'jennifer', 'jennifers', 'jenniffer', 'jenniffers', 'jenny', 'jens', 'jerry', 'jerrys', 'jerseys', 'jervis', 'jet', 'jetlag', 'jetlagged', 'jewel', 'jhon', 'jim', 'jimmys', 'jims', 'joan', 'joanne', 'joannes', 'joans', 'job', 'jocelyn', 'jodie', 'jody', 'joe', 'joes', 'john', 'john\\n\\nas', 'johnathan', 'johns', 'join', 'joined', 'joint', 'joints', 'joke', 'jokes', 'joking', 'joli', 'jolie', 'jon', 'jonas', 'jonathan', 'jones', 'jons', 'jose', 'josef', 'joseph', 'josephine', 'joses', 'journey', 'journey\\nso', 'journey\\nthe', 'jours', 'jovial', 'joy', 'joyce', 'joyces', 'joysse', 'jp', 'jps', 'js', 'juan', 'juans', 'judge', 'jug', 'juice', 'juices', 'juiste', 'juliane', 'julias', 'julie', 'julies', 'juliette', 'july', 'jump', 'jumped', 'jumping', 'jumpingoff', 'jumpoff', 'junction', 'june', 'jungalow', 'junior', 'juniors', 'junk', 'jurney', 'just', 'justed', 'justice', 'justification', 'justify', 'justright', 'justyna', 'k', 'kaart', 'kaarten', 'kako', 'kamala', 'kamer', 'kamerontbijt', 'kamers', 'kami', 'kan', 'kann', 'kapotte', 'kar', 'karen', 'karen\\nwere', 'karens', 'karin', 'karins', 'kart', 'kate', 'kate\\nwell', 'kates', 'katherine', 'kathryn', 'kathy', 'kathys', 'katie', 'katies', 'katy', 'katy\\nevery', 'katy\\nwhat', 'katys', 'kavanaghs', 'kavin', 'kayakers', 'kayaks', 'kbps', 'kealys', 'kebab', 'keen', 'keeper', 'keeping', 'keeps', 'keepsake', 'keer', 'keiran', 'keith', 'keiths', 'kelleys', 'kells', 'kelly', 'kellys', 'kels', 'ken', 'kennedys', 'kens', 'kept', 'ker', 'kerry', 'kettle', 'kettle\\n\\nthe', 'keuken', 'keukentje', 'keuze\\nwij', 'kevin', 'kevins', 'key', 'keybox', 'keyed', 'keyhole', 'keyholes', 'keyless', 'keylock', 'keypad', 'keypads', 'keys', 'keysaccessthe', 'kick', 'kicked', 'kicking', 'kid', 'kidding', 'kiddo', 'kiddos', 'kidfriendlythere', 'kids', 'kids\\n\\npat', 'kids\\n5', 'kids\\nmy', 'kieran', 'kierans', 'kiliney', 'kilkenny', 'kill', 'killbush', 'killed', 'killer', 'killester', 'killiney', 'kilmainhaim', 'kilmainham', 'kilmanhaim', 'kilmaonham', 'kilmnham', 'kilometers', 'kim', 'kind', 'kind\\nperfect', 'kinda', 'kinder', 'kinderen\\nmet', 'kindest', 'kindhearted', 'kindhope', 'kindi', 'kindlots', 'kindly', 'kindness', 'kindred', 'kinds', 'kindthere', 'king', 'kingfisher', 'kingsized', 'kinsale', 'kiosk\\nshort', 'kiran', 'kirans', 'kirby', 'kirstey', 'kirsty', 'kirstys', 'kirwan', 'kisses', 'kit', 'kitchen', 'kitchen\\n', 'kitchen\\n\\nconclusion\\nif', 'kitchen\\nbrian', 'kitchen\\neasy', 'kitchen\\nhosts', 'kitchen\\nit', 'kitchen\\nmaybe', 'kitchen\\nmy', 'kitchen\\nthank', 'kitchencommon', 'kitchendining', 'kitchendiningliving', 'kitchenette', 'kitchenlounge', 'kitchenpatio', 'kitchens', 'kitchensitting', 'kitchenware', 'kitted', 'kitten', 'kitties', 'kitty', 'klasse', 'klaw', 'kleding', 'kledingkast', 'klein', 'kleine', 'kleineren', 'km', 'knack', 'knacks', 'knee', 'knew', 'knick', 'knife', 'knit', 'knives', 'knob', 'knobs', 'knock', 'knocking', 'knotting', 'know', 'know\\n', 'know\\na', 'know\\nboth', 'knowing', 'knowledgable', 'knowledge', 'knowledgeable', 'knowledgeably', 'knowledgehandy', 'known', 'knows', 'knowth', 'koelkast', 'koffee', 'kolt', 'komen', 'komfortowego', 'kommen', 'kommunikation', 'komplett', 'komt', 'komunikace', 'komunikacja', 'konden', 'konic', 'kontaktu', 'koop', 'koopt', 'kopen', 'korisnih', 'korte', 'kortom', 'korzystania', 'kregen', 'kristian', 'kristof', 'kristy', 'krystian', 'krystians', 'kt', 'kudos', 'kunt', 'kurz', 'kurze', 'kust', 'kwam\\nophalen', 'kwamen', 'kwartier', 'kyrstian', 'l', 'la', 'laat', 'label', 'labors', 'labradoodle', 'laccueil', 'laced', 'lack', 'lacked', 'lacking', 'lacks', 'lad', 'ladder', 'lade', 'ladies', 'ladle', 'lads', 'lads\\ncheers', 'lady', 'lag', 'lag\\n\\nthe', 'lage', 'lagged', 'laguage', 'lagwe', 'laid', 'laidback', 'lake', 'lamb', 'laminate', 'lamp', 'land', 'landed', 'landgraff', 'landing', 'landlady', 'landline', 'landlord', 'landmark', 'landmarks', 'landscaped', 'landscaping', 'landsdowne', 'lane', 'lanes', 'laneway', 'lang', 'lange', 'langer', 'language', 'laoghaire', 'laoighire', 'laoighre', 'lappartamento', 'lappish', 'laptop', 'large', 'larger', 'largest', 'larribada', 'las', 'lasciare', 'lasciarmi', 'lasted', 'lastedfor', 'lastig', 'lastly', 'lastminute', 'lasts', 'lat', 'late', 'late\\n\\nalso', 'late\\n\\nthe', 'lateearly', 'latenight', 'later', 'later\\nbeing', 'laterthanexpected', 'laufen', 'laugh', 'laughed', 'laughing', 'laughs', 'launch', 'launching', 'laundered', 'laundering', 'laundress', 'laundrette', 'laundries', 'laundromat', 'laundry', 'laundrybath', 'laura', 'lauras', 'laus', 'lavanya', 'lavender', 'lavorare', 'lavoro', 'lavvu', 'law', 'lawn', 'laws', 'lawson', 'lawsons', 'lay', 'layer', 'laying', 'layout', 'layover', 'lays', 'lazy', 'lbs', 'lcal', 'le', 'lead', 'leading', 'leads', 'leadsmilkhair', 'leaf', 'leaflets', 'leafy', 'leak', 'leaked', 'leaking', 'leaky', 'leap', 'leapcard', 'leapfrog', 'leaps', 'learn', 'learned', 'learning', 'learnt', 'leary', 'lease', 'leather', 'leave', 'leave\\nwould', 'leaves', 'leaving', 'leche', 'led', 'lee', 'leefruimte', 'leery', 'lees', 'leeson', 'left', 'left\\n\\nthe', 'lefthe', 'leftover', 'leftovers', 'lefty', 'leg', 'legacy', 'legend', 'legendary', 'leggermente', 'legit', 'legos', 'legs', 'legsme', 'lei', 'leichter', 'leidingen', 'leigh', 'leighann', 'leighanns', 'leistung', 'leisure', 'leisurely', 'lejos', 'lekker', 'lekkere', 'lemon', 'lemon\\n\\nwe', 'lemoncello', 'lemonjelly', 'lemsip', 'len', 'len\\ntheyre', 'lena', 'lend', 'lending', 'length', 'lengths', 'lengthwise', 'lengthy', 'lens', 'lent', 'leo', 'leonardo', 'leos', 'les', 'lesley', 'lesleys', 'lesser', 'lesson', 'lessthan', 'let', 'letalia', 'letalie', 'lets', 'letter', 'letting', 'leuk', 'leuke', 'leute', 'lev', 'level', 'levels', 'levendige', 'levensmiddelen', 'levente', 'leventes', 'lex', 'lexs', 'lia', 'liam', 'liam\\nwell', 'liams', 'lias', 'libertad', 'liberties', 'liberties\\nthe', 'liberty', 'library', 'licence', 'licencecredit', 'licensed', 'lick', 'lid', 'lidl', 'lids', 'lied', 'liegt', 'lies', 'lieu', 'lieux', 'lieve', 'life', 'life\\nthe', 'lifesaver', 'lifestyle', 'lifetime', 'liffe', 'liffey', 'liffy', 'lift', 'liftelevator', 'lifts', 'ligging', 'light', 'light\\n\\nbrian', 'lightairy', 'lighter', 'lightfilled', 'lighthouse', 'lighthouse\\n\\nlocation', 'lighti', 'lighting', 'lightly', 'lightning', 'lights', 'ligne', 'ligt', 'lijep', 'like', 'like\\n\\nthe', 'like\\nnot', 'liked', 'likely', 'likes', 'liking', 'lil', 'lilac', 'lilacs', 'lilies', 'lily', 'lime', 'limit', 'limitations', 'limited', 'limithour', 'limiting', 'limits', 'limo', 'limpieza', 'limpio', 'lina', 'linas', 'linda', 'lindas', 'lindo', 'lindos', 'line', 'lined', 'linen', 'linens', 'linens\\neasy', 'lines', 'lines\\nthank', 'linije', 'link', 'link\\ngreat', 'linked', 'links', 'lint', 'linx', 'lion', 'lions', 'lip', 'liquid', 'liquor', 'lisa', 'list', 'listed', 'listen', 'listened', 'listener', 'listening', 'listing', 'listing\\n', 'listings', 'lists', 'lit', 'lite', 'literal', 'literally', 'literature', 'litte', 'little', 'littler', 'livable', 'live', 'liveable', 'lived', 'livedin', 'liveing', 'liveliness', 'lively', 'livened', 'lives', 'living', 'livingkitchen', 'livingnear', 'livingroom', 'livingshared', 'liz', 'liza', 'lizs', 'ljubazni', 'll', 'llegada', 'llegar', 'llitle', 'llngterm', 'lm', 'ln', 'lo', 'loaction', 'load', 'loaded', 'loads', 'loaf', 'loaghaire', 'loan', 'loat', 'lobby', 'local', 'locale', 'locali', 'localinsider', 'localisation', 'locality', 'localizado', 'localizarion', 'localization', 'localized', 'localizzata', 'locally', 'locals', 'locate', 'located', 'located\\nhowever', 'locatedprivate', 'locater', 'locates', 'locatie', 'locatiin', 'locating', 'locatio', 'location', 'location\\n\\nit', 'location\\n\\nnicola', 'location\\n\\nthis', 'location\\n5', 'location\\nalison', 'location\\namazing', 'location\\nand', 'location\\nbut', 'location\\neverything', 'location\\ngreat', 'location\\ni', 'location\\nif', 'location\\nit', 'location\\njames', 'location\\nno', 'location\\nother', 'location\\notherwise', 'location\\nparking', 'location\\npeaceful', 'location\\nroom', 'location\\nsuper', 'location\\nthe', 'location\\nwe', 'location10', 'location20', 'location5', 'locationa', 'locationand', 'locationbeautiful', 'locationcity', 'locationclean', 'locationclose', 'locationi', 'locationil', 'locationlocation', 'locationrooms', 'locations', 'locationso', 'locationthe', 'locationthis', 'locationvery', 'locationwalkable', 'locationwalking', 'locationwe', 'loch', 'lock', 'lockable', 'lockbox', 'locked', 'locker', 'locking', 'locks', 'locksone', 'locomotion', 'lodge', 'lodgement', 'lodgements', 'lodging', 'lodgings', 'loft', 'lofteasy', 'log', 'log\\n\\nhans', 'logankurt', 'logation', 'logement', 'login', 'logistics', 'lointains', 'lokacija', 'lokalizacja', 'lokated', 'lokatie', 'lol', 'lola', 'london', 'lone', 'lonely', 'loner', 'long', 'longer', 'longer\\nthe', 'longitude', 'longterm', 'longtime', 'lontana', 'look', 'look\\n\\n', 'looked', 'looking', 'looking\\n\\nwould', 'looks', 'looks\\nfab', 'loop', 'loopafstand', 'loops', 'loose', 'loosely', 'lopen', 'lora', 'lorax', 'lorcan', 'lord', 'loro', 'lorries', 'los', 'lose', 'losing', 'loss', 'lost', 'lot', 'lot\\n\\neasy', 'lot\\nbest', 'lotions', 'lotnisko', 'lots', 'lotts', 'loud', 'louder', 'loudly', 'loughshinny', 'louise', 'lounge', 'loungeworthy', 'lounging', 'lourdes', 'lovable', 'love', 'loveable', 'loved', 'loved\\ngreat', 'lovek', 'lovelay', 'lovelier', 'loveliest', 'lovely', 'lovelythe', 'lover', 'lovers', 'loves', 'lovey', 'loving', 'lovingly', 'lovinspoon', 'lovley', 'low', 'lower', 'lowkey', 'luans', 'luas', 'lucan', 'lucas', 'lucht', 'luchthaven\\nzeker', 'lucio', 'luck', 'lucked', 'luckily', 'lucky', 'lucy', 'lucyswell', 'lug', 'lugar', 'luggage', 'luggageboth', 'luggagebut', 'luggages', 'lugging', 'lui', 'luid', 'luis', 'luke', 'lukes', 'luksuzan', 'lulls', 'lumineux', 'luminous', 'lumpy\\n\\tthe', 'lunch', 'luogo', 'luri', 'lush', 'luxe', 'luxuries', 'luxurious', 'luxuriousgreat', 'luxurity', 'luxury', 'lying', 'lynnette', 'm', 'm50', 'ma', 'maar', 'macaris', 'machine', 'machinedryer', 'machines', 'machinetumble', 'mad', 'madness', 'maeve', 'maeveken', 'maeves', 'maevetom\\n\\nthank', 'maevetoms', 'magaret', 'magazine', 'maggie', 'maggie\\nwish', 'maggiel', 'maggies', 'magic', 'magical', 'magnetic', 'magnificent', 'magnificent\\nin', 'mai', 'mail', 'mailbox', 'mailed', 'mailroom', 'main', 'mainenance', 'mainly', 'maintain', 'maintained', 'maintaining', 'maintains', 'maintenacecare', 'maintenance', 'maintenanceupdating', 'maira', 'mais', 'maison', 'maith', 'majestic', 'major', 'majority', 'make', 'makeawish', 'maken', 'makeover', 'maker', 'makes', 'makeup', 'making', 'makings', 'makkelijk', 'mal', 'malachy', 'malahide', 'malcolm', 'malcolms', 'malcoln', 'malcom', 'male', 'maletas', 'malfunctioning', 'mall', 'malls', 'malt', 'mama', 'mamy', 'man', 'manage', 'manageable', 'manageable\\ni', 'managed', 'management', 'manager', 'manages', 'managing', 'manchadas', 'mandavo', 'manicured', 'manier', 'manner', 'mano', 'manor', 'mansion', 'manteca', 'mantle', 'manual', 'manually', 'manuals', 'map', 'mapdirections', 'maple', 'mapped', 'maps', 'maps\\n\\nwear', 'mapslocal', 'mar', 'marathon', 'maravillosos', 'marble', 'marc', 'march', 'marco', 'marcos', 'marcus', 'marcuss', 'mare', 'marg', 'margaret', 'margarets', 'margret', 'margrets', 'maria', 'marianna', 'marias', 'marie', 'maries', 'marijuana', 'marina', 'marino', 'mario', 'marios', 'marious', 'marito', 'marius', 'mariuss', 'mariusz', 'mariuszs', 'mark', 'marked', 'market', 'markets', 'marketshopping', 'marking', 'marks', 'markus', 'marlay', 'marlene', 'marlenes', 'marley', 'marmalade', 'marmelade', 'marred', 'marrying', 'marshmallows', 'mart', 'marta', 'martani', 'martello', 'marthas', 'martin', 'martina', 'marts', 'maruisz', 'marve', 'marvel', 'marveled', 'marvellous', 'marvelous', 'mary', 'maryland', 'marys', 'mas', 'maschine', 'mask', 'masking', 'mass', 'massages', 'masse\\nall', 'massive', 'massively', 'masstransit', 'master', 'master\\n\\ncons\\n1', 'masterpiece', 'mat', 'match', 'matched', 'matches', 'matching', 'mate', 'material', 'materialize', 'materials', 'mates', 'matras', 'matrass', 'matress', 'mats', 'matt', 'matte', 'matted', 'matter', 'mattered', 'matters', 'mattress', 'mattresses', 'mattressesbox', 'matts', 'mature', 'matze', 'maud', 'mauds', 'maureen', 'mauve', 'max', 'maximize', 'maximum', 'may\\n\\npros\\ncrib\\nas', 'maya', 'mayas', 'maybe', 'mayhem', 'maylene', 'maylenes', 'mayliene', 'maylienes', 'maze', 'mbps', 'mc', 'mccools', 'mcdonalds', 'me\\n\\nits', 'me\\nhuge', 'me\\ni', 'me\\nit', 'me\\noverall', 'meal', 'meal\\nthe', 'meals', 'meals\\nexcellent', 'mean', 'meandering', 'meaning', 'meaningful', 'means', 'meant', 'meantime', 'measured', 'meat', 'meath', 'meave', 'meaves', 'mechanics', 'med', 'media', 'medical', 'mediocre', 'medium', 'meer', 'meet', 'meet\\nthe', 'meeting', 'meets', 'meettalk', 'meeven', 'mega', 'megan\\nplease', 'mehreren', 'mejor', 'mellow', 'melt', 'melted', 'member', 'members', 'memo', 'memorabilia', 'memorable', 'memorial', 'memories', 'memorise', 'memory', 'men', 'menaje', 'mend', 'mensen', 'mention', 'mention\\n\\n1', 'mentioned', 'mentioning', 'mentions', 'mentre', 'menu', 'menus', 'merchants', 'merci', 'mere', 'merendar', 'merion', 'merrion', 'merry', 'merting', 'meso', 'mess', 'message', 'message\\n\\noverall\\nthis', 'message\\n\\nthanks', 'messagecomplaint', 'messaged', 'messages', 'messages\\nthe', 'messagesquestionsconcerns', 'messaggi', 'messaggio', 'messaging', 'messing', 'messy', 'mesta', 'met', 'met\\n\\ni', 'met\\na', 'met\\nby', 'metal', 'meter', 'metered', 'meters', 'method', 'methods', 'meticulous', 'meticulously', 'metre', 'metres', 'metro', 'metrobbie', 'metropolitan', 'mews', 'mezzanine', 'mezzi', 'mi', 'micahels', 'mice', 'michael', 'michaelfor', 'michaels', 'michans', 'micheal', 'micheals', 'michela', 'michele', 'micheles', 'michelin', 'michelle', 'michelles', 'microwave', 'mid', 'midafternoon', 'midden', 'middle', 'middle\\nthe', 'midlands', 'midnight', 'midnight\\nit', 'midnight\\nthe', 'midpoint', 'midst', 'midway', 'midweek', 'miejsce', 'mieszkalimy', 'miffed', 'mightve', 'miicheal', 'mijn', 'mike', 'mil', 'mildew', 'mildewy', 'mildly', 'mile', 'mileage', 'miles', 'milions', 'milk', 'milkand', 'milkbread', 'milkcerealbreadwhich', 'milkyogurt', 'mille', 'million', 'millstone', 'mimmo', 'mimmo\\nthis', 'mimosas', 'min', 'min\\nthanks', 'mind', 'mind\\ni', 'minded', 'mindful', 'mindfully', 'mindsetexpectations', 'mindthey', 'mingling', 'mini', 'miniguide', 'minimal', 'minimalist', 'minimarket', 'minimize', 'minimo', 'minimum', 'minor', 'mins', 'mintaxi', 'mints', 'minus', 'minute', 'minuten', 'minutes', 'minutes\\n', 'minutes\\n\\nbernard', 'minutes\\n\\nenjoyed', 'minutes\\ncommunication', 'minutes\\njohn', 'minutes\\nthis', 'minutes\\nwe', 'minuti', 'minutos', 'minwalk', 'mirror', 'mirrors', 'mis', 'miscommunication', 'mishap', 'misidentified', 'misleading', 'misplaced', 'misrepresented', 'miss', 'miss\\nthe', 'missed', 'missing', 'mistake', 'mistakenly', 'mistakes', 'mistress', 'misty', 'misunderstanding', 'misunderstood', 'mit', 'mix', 'mixed', 'mixing', 'mixture', 'mixup', 'mm', 'mn', 'mnogo', 'mnth', 'mobil', 'mobile', 'mobilehome', 'mobiliario', 'mobility', 'mobilizing', 'mocha', 'mochaland', 'mod', 'modcons', 'mode', 'model', 'moderate', 'moderately', 'moderm', 'modern', 'modern\\nlots', 'modernising', 'modernity\\n', 'modernized', 'modes', 'modest', 'modo', 'moeizaam', 'moeizame', 'moesten', 'moet', 'moher', 'mold', 'mold\\nwe', 'moldbacteria', 'moldy', 'moliwo', 'molto', 'mom', 'moment', 'momento', 'moments', 'momo', 'monday', 'monetary', 'money', 'money\\n\\nsusans', 'money\\nit', 'money\\nwe', 'moneythe', 'monica', 'monicas', 'monika', 'monikas', 'month', 'month\\nlocation', 'monthlong', 'months', 'months\\n\\nour', 'monuments', 'mood', 'mooi', 'mooie', 'moon', 'moose', 'mopped', 'mopped\\nfreezer', 'more\\n\\noverall', 'more\\n\\nthank', 'more\\n5', 'more\\nfrequent', 'more\\nplenty', 'more\\nthank', 'morning', 'morning\\n\\nall', 'morning\\n\\nlen', 'morning\\n\\nvery', 'morning\\ndo', 'morning\\nrobyn', 'morning\\nthe', 'morninghowever', 'mornings', 'morningshealthy', 'mosque', 'mosta', 'motheaten', 'mother', 'mothers', 'motion', 'motor', 'motorbikes', 'motorcycle', 'motorized', 'motorway', 'mould', 'mouldy', 'mountain', 'mountains', 'mountains\\nthe', 'mountainsnational', 'mountjoy', 'moved', 'movement', 'movie', 'movies', 'moving', 'moyen', 'mrs', 'ms', 'mske', 'mucha', 'muchas', 'mucho', 'muchos', 'mucky', 'muesli', 'mueslimmm', 'muffin', 'muffins', 'mugs', 'mugs\\n\\nmisc\\nwater\\nno', 'muito', 'mulligan', 'mulligans', 'multi', 'multicity', 'multilevel', 'multiple', 'multiunit', 'mum', 'mums', 'munch', 'munications', 'municaton', 'muraed', 'murmuring', 'murphy', 'murray', 'muscle', 'museum', 'museums', 'museumswe', 'music', 'musical', 'musically', 'musicdining', 'musician', 'musicians', 'musicinspired', 'musky', 'mussels', 'mustdos', 'mustsee', 'muststay', 'musttovisit', 'mustvisit', 'musty', 'mutter', 'muy', 'my\\nholiday', 'my\\nweek', 'myriad', 'myriam', 'mystic', 'mytaxi', 'n', 'na', 'naar', 'naast', 'nabijheid', 'nachtjes', 'nada', 'nadamas', 'nadia', 'nag', 'nagging', 'nah', 'nahe', 'nails', 'naked', 'named', 'names', 'namestitev', 'namestitve', 'nap', 'napping', 'naps', 'nare', 'narrow', 'narrowboats', 'narrowing', 'nas', 'nase', 'nassau', 'nasty', 'natasha', 'natashas', 'national', 'natl', 'natural', 'naturally', 'nature', 'nature\\nmoreover', 'naturefriendly', 'naturey', 'natuurlijk', 'nauwelijks', 'nav', 'navigate', 'navigateafter', 'navigating', 'nb', 'ncie', 'nd', 'ne', 'nead', 'near', 'near\\n\\nthe', 'nearabout', 'nearby', 'nearby\\n\\nsome', 'nearby\\n\\nthe', 'nearby\\n\\ntotally', 'nearby\\nif', 'nearby\\nwe', 'nearbyamazing', 'nearer\\nwe', 'nearest', 'nearly', 'neat', 'neatest', 'neatly', 'neatness', 'necesario', 'necesita', 'necesitamos', 'necessari', 'necessaries', 'necessarily', 'necessario', 'necessary', 'necessary\\njust', 'necessary\\nwe', 'necessities', 'necessities\\n\\nmy', 'ned', 'need', 'need\\nalthough', 'need\\ncommunication', 'need\\nrecommend', 'need\\nsome', 'need\\nthanks', 'need\\nthe', 'need\\nwe', 'needdetails', 'needed', 'needed\\n\\nbeds', 'needed\\n\\ni', 'needed\\n\\nthe', 'needed\\nit', 'needed\\nshes', 'needed\\nthe', 'neededa', 'neededhe', 'needing', 'needit', 'needle', 'needless', 'needs', 'needs\\nif', 'needs\\nwe', 'needy', 'negated', 'negative', 'negatives', 'negativesthe', 'negativos\\ncolchon', 'neglected', 'negligent', 'nei', 'neigborhood', 'neigbourhood', 'neighberhood', 'neighboorhood', 'neighboors', 'neighbor', 'neighborhood', 'neighborhood\\n100', 'neighborhood\\nher', 'neighborhood\\nperfect', 'neighborhoodand', 'neighborhoodjames', 'neighborhoods', 'neighborhoodtype', 'neighborhoodwide', 'neighboring', 'neighbors', 'neighbour', 'neighbourhod', 'neighbourhood', 'neighbourhood\\n', 'neighbourhood\\ncosy', 'neighbourhood\\nspacious', 'neighbourhood\\nvery', 'neighbourhood\\nwe', 'neighbourhoods', 'neighbourhoods\\n\\nrobyns', 'neighbourhoud', 'neighbouring', 'neighbours', 'neighbourss', 'neightbourhood', 'neil', 'nel', 'nelle', 'neposredni', 'nerby', 'nere', 'nervous', 'nervousnothing', 'nesbit', 'nespresso', 'nessun', 'nest', 'nestdom', 'nestle', 'nestled', 'net', 'netflix', 'netflixing', 'netjes', 'nett', 'nette', 'netter', 'nettes', 'network', 'neu', 'neutral\\nand', 'neuwiedger', 'new', 'newbridge', 'newer', 'newgrange', 'newish', 'newly', 'news', 'nextdoor', 'ng', 'niamh', 'niamhs', 'nice', 'nice\\n', 'nice\\n\\neverything', 'nice\\n\\ni', 'nice\\nbradley', 'nice\\nher', 'nice\\nit', 'nice\\noverall', 'nice\\nsuper', 'nice\\nthe', 'nice\\nthis', 'nice\\nwater', 'nice\\nwe', 'nice\\nwhen', 'niceclean', 'nicecleanspacious', 'nicegood', 'nicely', 'nicenear', 'nicer', 'nicest', 'nicewe', 'niche', 'nichole', 'nicht', 'nichts', 'nickel', 'nicola', 'nicolafergal', 'nicolas', 'nicole', 'nicoles', 'nicotine', 'niece', 'nieghbhorhood', 'niente', 'niet', 'niet\\nin', 'niggles', 'night', 'night\\n\\ncons\\neventhough', 'night\\n\\nin', 'night\\n\\nsuch', 'night\\n\\nwe', 'night\\n4', 'night\\nsame', 'night\\nthank', 'night\\nthe', 'night\\nto', 'nightcontinental', 'nighthe', 'nightlife', 'nightlife\\n\\ncheers', 'nightlife\\ni', 'nightly', 'nightmare', 'nightmare\\nalso', 'nightmarket', 'nights', 'nights\\nrae', 'nightstand', 'nightstands\\nfloor', 'nighttime', 'nightwe', 'nikola', 'nikolas', 'nina', 'ninety', 'nintendo', 'nitpick', 'nittygritty', 'nivel', 'noce', 'noch', 'nocharge', 'noche', 'nodig', 'noel', 'noeleen', 'noeleens', 'noellen', 'nofuss', 'nog', 'noice', 'noise', 'noise\\ndont', 'noise\\nin', 'noisemusic', 'noises', 'noisey', 'noisier', 'noisy', 'noisy\\n\\nfiona', 'noisy\\n\\nlocation', 'noisy\\n\\none', 'noisytemple', 'noisythe', 'nolans', 'nominal', 'non', 'nonapologetic', 'nonetheless', 'noneuropean', 'nonexistent', 'nonfeather', 'nonfrosted', 'nonintrusive', 'nonopening', 'nonrush', 'nonsense', 'nonstop', 'nontouristic', 'nontouristy', 'noo', 'nook', 'nooks', 'noon', 'nora', 'norah', 'norahs', 'norlund', 'norm', 'normal', 'normally', 'north', 'northblessington', 'northbrookroad', 'northern', 'northside', 'northwood', 'nos', 'nose', 'noses', 'nosie', 'nosotros', 'nostalgic', 'not\\n\\nthe', 'nota', 'notably', 'notch', 'notch\\n\\none', 'notch\\n\\nrodrigo', 'notch\\n2', 'note', 'notebook', 'noted', 'notes', 'noteworthy', 'nothi', 'noticable', 'notice', 'noticeable', 'noticeably', 'noticed', 'notices', 'notifications', 'notified', 'noting', 'noting\\n1', 'notion', 'notsogood\\n', 'notwe', 'notwendige', 'nourishing', 'nourishment', 'nous', 'novel', 'novels', 'november', 'now\\n\\nfor', 'now\\ngreets', 'nowdays', 'nr', 'nrc', 'nuala', 'nuanced', 'nuances', 'nudge', 'nuestra', 'nuevo', 'nuisance', 'number', 'numbers', 'numerose', 'numerous', 'nur', 'nut', 'nutbutter', 'nutella', 'nutritious', 'nuts', 'nyc', 'nyce', 'o', 'oak', 'oasis', 'oatmeal', 'objects', 'obliging', 'obriens', 'obrnjena', 'obrzeach', 'observation', 'observations', 'obsessive', 'obsolescence', 'obstacles', 'obtrusive', 'obvious', 'obviously', 'occasion', 'occasion\\n\\nrooms', 'occasion\\nvery', 'occasional', 'occasionally', 'occasions', 'occassions', 'occean', 'occupant', 'occupants', 'occupants\\nparking', 'occupied', 'occur', 'occurs', 'ocean', 'ochota', 'oconnel', 'oconnell', 'oconnells', 'october', 'octuppussys', 'odd', 'oddaljena', 'oddly', 'odds', 'oder', 'odlina', 'odor', 'odour', 'offended', 'offene', 'offer', 'offer\\nwe', 'offered', 'offered\\nthe', 'offering', 'offerings', 'offerperfect', 'offers', 'office', 'office\\n\\nhe', 'offices', 'official', 'offleave', 'offpicks', 'offroad', 'offsite', 'ofrecen\\nlo', 'ogni', 'oh', 'oil', 'oils', 'oj', 'ok', 'ok\\nbathroom', 'ok\\nwe', 'okay', 'okgreat', 'old', 'old\\n\\nwe', 'oldbut', 'olddirty', 'older', 'oldest', 'olds', 'olive', 'olivetos', 'olympia', 'olys', 'om', 'omdat', 'omg\\nstunning', 'omgeving', 'omni', 'on\\nall', 'on\\ngreat', 'on\\nvery', 'onderkomen', 'one\\n\\na', 'one\\n\\nmaylene', 'one\\ni', 'one\\nmy', 'one\\npaul', 'oneday', 'onenight', 'oneofakind', 'oneoff', 'onerous', 'ones', 'ones\\n\\nthe', 'oneway', 'ongar', 'ongeveer', 'ongoing', 'onhop', 'online', 'onlyemergency', 'onoff', 'ons', 'onsite', 'onstreet', 'onsuite', 'ontbijt', 'ontbijt\\nprima', 'ontbijten', 'ontbijtgranen', 'ontbijtje', 'onthaal', 'ontvangst', 'ontzettende', 'onwards', 'onyoure', 'onze', 'ook', 'oostkant', 'op', 'open', 'open\\nthe', 'open\\nthere', 'openbaar', 'opened', 'openhearted', 'opening', 'openingclosing', 'openminded', 'opens', 'operate', 'operated', 'operating', 'operations', 'opgeborgen', 'opinion', 'opinionaccess', 'oppersite', 'opportunities', 'opportunity', 'opposed', 'opposite', 'opremljem', 'opstappunt', 'opt', 'opted', 'optimal', 'option', 'optional', 'options', 'options\\n\\nthank', 'options\\nexceptional', 'orange', 'orangejuice', 'oraz', 'orchard', 'orde', 'ordeal', 'ordentlich', 'order', 'ordered', 'ordering', 'orderly', 'ordinance', 'ordinary', 'ordnung', 'organic', 'organisation', 'organised', 'organising', 'organization', 'organize', 'organized', 'orientate', 'orientation', 'oriented', 'original', 'originally', 'orla', 'orlando', 'orlas', 'ornate', 'oropax', 'os', 'oscair', 'oscar', 'ose', 'ospitale', 'ospitano', 'oste', 'osteria', 'otherairbnb', 'otherhand', 'others\\n\\ncheers\\nsunil', 'others\\n\\ngavin', 'othersiwe', 'otra', 'ottima', 'ottime', 'ottimo', 'ou', 'ourselfs', 'oustanding', 'out\\n\\nan', 'out\\n\\ncons\\n', 'out\\n\\nthe', 'out\\nclean', 'out\\nperfect', 'outdated', 'outdoor', 'outdoors', 'outer', 'outfitted', 'outgoing', 'outings', 'outlet', 'outlets', 'outlined', 'outlook', 'outlook\\ndeidre', 'outs', 'outset', 'outside', 'outside\\nif', 'outside\\nwe', 'outsides', 'outskirts', 'outstanding', 'outweighed', 'oval', 'ovbiously', 'oven', 'overal', 'overall', 'overalls', 'overbearing', 'overcharged', 'overcome', 'overdue', 'overextended', 'overhead', 'overkill', 'overlay', 'overlook', 'overlooked', 'overlooking', 'overlooks', 'overly', 'overnachtingsverblijfplek', 'overnight', 'overpaid', 'overpopulated', 'overpowering', 'overpriced', 'overrated', 'overrun', 'overseas', 'oversight', 'overslept', 'overstate', 'overview', 'overwhelming', 'owens', 'own\\n', 'own\\n\\ni', 'own\\n\\noverall', 'owned', 'owner', 'ownerhost', 'owneroccupied', 'owners', 'p', 'paar', 'pace', 'paced', 'paces', 'pack', 'package', 'packages', 'packandplay', 'packed', 'packers', 'packet', 'packets', 'packing', 'packs', 'pad', 'paddling', 'paddy', 'paddys', 'paddywagon', 'padraig', 'padraigand', 'padre', 'padroni', 'pads', 'page', 'pages', 'paid', 'pain', 'painful', 'painless', 'paint', 'paint\\n\\ncleaning', 'painted', 'painting', 'paintings', 'paintings\\n\\nwe', 'pair', 'pairing', 'pairs', 'pajamas', 'palace', 'pales', 'palmerstown', 'pampered', 'pamphlet', 'pamphlets', 'pan', 'panaromic', 'pancakes', 'pane', 'panel', 'pani', 'panicked', 'panorama', 'pans', 'pantibar', 'pantry', 'paparazzi', 'paper', 'paper\\nthere', 'paperpaper', 'papers', 'paperthin', 'papier', 'par', 'para', 'parada', 'parade', 'paradise', 'parallel', 'paralos', 'paranoid', 'paranormal', 'parc', 'parcheggio', 'parco', 'pardon', 'parents', 'parentsgrand', 'parfait', 'paris', 'parisian', 'park', 'park\\n\\nhighly', 'park\\nthank', 'parked', 'parkeerplaats', 'parkeren', 'parkgood', 'parking', 'parking\\nsean', 'parking\\nsituated', 'parkingexceptionally', 'parkingplace', 'parkingwe', 'parklike', 'parkrun', 'parks', 'parkstation', 'parkwell', 'parlayed', 'parle', 'parlor', 'parnell', 'parquet', 'part\\n\\nour', 'partake', 'partially', 'participate', 'participating', 'participation', 'participatory', 'particles', 'particolare', 'particular', 'particularly', 'particulars', 'particulier', 'parties', 'partly', 'partner', 'partners', 'partook', 'parts', 'party', 'partygoers', 'partying', 'pasamos', 'pasar', 'paseo', 'paso', 'pass', 'passage', 'passed', 'passeggiate', 'passeport', 'passes', 'passie', 'passing', 'passion', 'passionate', 'passionated', 'passport', 'passportdriving', 'passports', 'passuons', 'password', 'passwords', 'past', 'past\\nthe', 'pasta', 'pasties', 'pastries', 'pastry', 'pastrys', 'pat', 'patchy', 'path', 'paths', 'patience', 'patience\\nthe', 'patient', 'patiently', 'patio', 'patio\\n', 'patiogarden', 'patios', 'patiovery', 'patioyard', 'patricia', 'patrick', 'patricks', 'patricksalso', 'patriots', 'patronising', 'patronizing', 'patrons', 'pats', 'patsey', 'patseys', 'patti', 'patty', 'pattys', 'paul', 'paula', 'paulas', 'paulies', 'pauline', 'paulines', 'pauls', 'pausa', 'pavement', 'pavements', 'pavilion', 'pay', 'paying', 'payment', 'pays', 'peace', 'peaceful', 'peacefully', 'peacequiet', 'peacocks', 'peak', 'peanut', 'peanuts', 'pear', 'pearse', 'peasey', 'pedestrian', 'pedometer', 'pee', 'peeked', 'peeling', 'peep', 'pekoe', 'pelo', 'pending', 'peninsula', 'peninsula\\nrecommend', 'penny', 'pennys', 'pensano', 'pensiones', 'penthouse', 'people', 'people\\n\\nthe', 'people\\ncarol', 'people\\ncommunication', 'people\\nthat', 'people\\nthe', 'peopleall', 'peoples', 'peoples\\nwe', 'peoplewatching', 'pepper', 'peppers', 'pepsi', 'pequeno', 'percent', 'percentage', 'perche', 'perched', 'percolator', 'percorrenza', 'perfact', 'perfe', 'perfect', 'perfect\\nand', 'perfect\\nbeautiful', 'perfect\\ncommunication', 'perfect\\nhighly', 'perfect\\niain', 'perfect\\nthanks', 'perfect\\nwe', 'perfect\\nyou', 'perfecta', 'perfecta\\n\\naspectos', 'perfecta\\nagua', 'perfecte', 'perfected', 'perfectfor', 'perfectie', 'perfection', 'perfectly', 'perfectly\\n\\nthe', 'perfectly\\nthe', 'perfectlylocated', 'perfecto', 'perfectperfect', 'perfectshe', 'perfectthe', 'perfectwe', 'perfekt', 'perfekter', 'perfetta', 'perfume', 'perfumes', 'periferica', 'perimeter', 'period', 'periodically', 'periods', 'peripheral', 'perk', 'perks', 'permanent', 'permanently', 'permantly', 'permeates', 'permit', 'permits', 'permitted', 'permittinng', 'pero', 'pers', 'persin', 'persino', 'person', 'person\\nalthough', 'person\\nthe', 'person\\nto', 'persona', 'personable', 'personal', 'personalities', 'personalities\\nclose', 'personality', 'personalized', 'personally', 'personally\\n\\nwe', 'personas', 'persone', 'personen', 'personen\\nde', 'personnes', 'persons', 'persontoperson', 'persoons', 'perspective', 'perspectives', 'perusing', 'pesar', 'pet', 'peter', 'peters', 'petite', 'pets', 'ph', 'pharmacies', 'pharmacy', 'phase', 'phd', 'phenix', 'phenomenal', 'phenomenally', 'pheonix', 'phew', 'phibsboro', 'phibsborough', 'phil', 'philippa', 'philippas', 'phillipa', 'phillipa\\n\\ndiane', 'phillipas', 'phisboro', 'pho', 'phoenix', 'phone', 'phoned', 'phoneemail', 'phones', 'photo', 'photographed', 'photographs', 'photography', 'photos', 'phyllis', 'phylliss', 'physical', 'physics', 'piacevole', 'piaf', 'pic', 'piccola', 'piccolo', 'pick', 'picked', 'picking', 'pickmeup', 'picks', 'pickup', 'pickupdrop', 'pickupdropoff', 'pickuplocation', 'pickups', 'picky', 'picnic', 'pics', 'pictoresque', 'picture', 'pictured', 'picturedthe', 'pictures', 'pictures\\nas', 'pictures\\nthe', 'picturescheckin', 'picturesque', 'pie', 'piece', 'pieces', 'pied', 'piedi', 'pier', 'pigeon', 'pigeons', 'piglet', 'piles', 'pillow', 'pillowed', 'pillows', 'pilot', 'pin', 'pinch', 'pink', 'pinky', 'pint', 'pints', 'piotr', 'piotrs', 'pipe', 'pipeline', 'pipes', 'piping', 'piso', 'pissed', 'pit', 'pitcher', 'pittance', 'pity', 'piu', 'pixies', 'pizza', 'pizzas', 'pizzeria', 'plac', 'place', 'place\\n\\nwe', 'place\\n\\nwhen', 'place\\n\\nwould', 'place\\ndeirdre', 'place\\nexcellent', 'place\\nmaria', 'place\\nmeeting', 'place\\nnice', 'place\\nrichard', 'place\\nthank', 'place\\nthanks', 'place\\nthe', 'place\\nthey', 'place\\nwe', 'placecheap', 'placed', 'placegreat', 'placelovely', 'places', 'places\\nthe', 'placesbut', 'placeworked', 'plague', 'plain', 'plan', 'plane', 'planes', 'planet', 'planing', 'planned', 'planning', 'plannings', 'plans', 'plans\\n\\nvalue', 'planteamos', 'plants', 'plaster', 'plastic', 'plate', 'plates', 'platform', 'platter', 'play', 'played', 'playful', 'playground', 'playgrounds', 'playing', 'playstation', 'playtime', 'plaza', 'pleace', 'pleasant', 'pleasantly', 'pleased', 'pleased\\ni', 'pleasent', 'pleasing', 'pleasurable', 'pleasurable\\n\\nthank', 'pleasure', 'pleasureroom', 'pleasures', 'plein', 'plek', 'pleno', 'plentiful', 'plentifully', 'plently', 'plenty', 'plesent', 'plethora', 'plis', 'plug', 'plugged', 'plugins', 'plugs', 'plugs\\n\\nall', 'plugsheadphones\\n\\nother', 'plumber', 'plumbing', 'plus', 'plus\\nthe', 'pluses', 'plush', 'ply', 'pm', 'pm\\ngreat', 'pmbut', 'pnks', 'po', 'poached', 'poche', 'pocket', 'poco', 'pods', 'point', 'point\\neverything', 'pointed', 'pointers', 'pointing', 'points', 'points\\nlovely', 'poisoning', 'poke', 'pokey', 'pol', 'polar', 'pole', 'polecam', 'policies', 'policy', 'policy\\namanda', 'polite', 'political', 'pomeriggio', 'pomocna', 'pomoi', 'ponchos', 'pond', 'ponoi', 'poo', 'pooch', 'pooches', 'pool', 'poolbeg', 'poop', 'poor', 'poorer', 'poorly', 'pop', 'popolna', 'popped', 'popular', 'populated', 'por', 'porch', 'pork', 'porridge', 'port', 'porta', 'portare', 'porter', 'portion', 'portland', 'portmarnock', 'portobello', 'portphone', 'portrane', 'portray', 'ports', 'posed', 'posh', 'posibles', 'position', 'positioned', 'positionwith', 'positive', 'positively', 'positives', 'positivos', 'posizione', 'poss', 'possess', 'possesses', 'possiamo', 'possibilities', 'possibility', 'possibilty', 'possible', 'possible\\n\\nthe', 'possible\\nhaving', 'possible\\nyou', 'possibly', 'post', 'postairport', 'postaja', 'postcards', 'posted', 'posters', 'posting', 'posto', 'posts', 'pot', 'pot\\nwe', 'potential', 'potovanju', 'potrebuje', 'pots', 'pottering', 'potters', 'pouca', 'pounds', 'pour', 'powder', 'power', 'powerful', 'powerplugs', 'powerscourt', 'ppl', 'pq', 'praatje', 'prachtig', 'prachtige', 'practical', 'practically', 'praise', 'praises', 'praktisch', 'pratically', 'pratique', 'pre', 'prearranged', 'prebooking', 'precies', 'precio', 'precioso', 'precious', 'precise', 'precise\\nsuggested', 'precisely', 'precyzyjne', 'predawn', 'predict', 'predisposicionde', 'prefect', 'prefer', 'prefered', 'preference', 'preferred', 'prefers', 'preflight', 'pregnant', 'preis', 'premier', 'premise', 'premises', 'premium', 'prenotare', 'preocupada', 'prep', 'prepare', 'prepared', 'prepares', 'preparing', 'preperation', 'prepped', 'preschool', 'prese', 'presence', 'present', 'presentable', 'presentation', 'presented', 'presenting', 'presents', 'presenza', 'preserved', 'preserves', 'preson', 'press', 'pressed', 'pressure', 'pressure\\n\\nhighly', 'prestada', 'pret', 'pretend', 'pretending', 'pretentious', 'pretheatre', 'prettier', 'prettig', 'prettige', 'pretty', 'pretty\\n\\nfor', 'prevalent', 'prevent', 'prevented', 'preventing', 'previous', 'previously', 'prezzo', 'prfect', 'price', 'price\\ncomfortable', 'priced', 'priced\\nthe', 'priceless', 'prices', 'pricey', 'pricing', 'pricy', 'pride', 'prije', 'prijskwaliteitverhouding', 'prima', 'primarily', 'primary', 'prime', 'princess', 'princesses', 'principal', 'principaux', 'print', 'printed', 'printing', 'printout', 'printouts', 'prior', 'prioritised', 'priority', 'priscilla', 'prison', 'pristine', 'privacidad', 'privacy', 'privacy\\n\\neven', 'privacy\\n\\nsimply', 'privacy\\n\\nthings', 'privacy\\ni', 'privacy\\noverall', 'private', 'privately', 'privato', 'privestukje', 'privilege', 'prize', 'proactive', 'proactively', 'prob', 'probably', 'probleem', 'problem', 'problem\\nits', 'problem\\nthomas', 'problemas', 'problematic', 'problemen', 'problemlos', 'problems', 'problems\\ni', 'problems\\nvery', 'problemsanswer', 'procedure', 'proceed', 'proceeded', 'process', 'process\\n\\nthe', 'processo', 'proche', 'produce', 'produced', 'product', 'products', 'professional', 'professionalism', 'professionals', 'professionnel', 'profile', 'profile\\neverything', 'program', 'programmes', 'programs', 'progress', 'prohibit', 'project', 'projected', 'projector', 'prolonged', 'prom', 'promee', 'promenade', 'prometnih', 'promise', 'promised', 'promises', 'prompt', 'prompted', 'promptly', 'promptness', 'prone', 'proof', 'propane', 'proper', 'propere', 'properly', 'propert', 'properties', 'property', 'property\\n\\nthank', 'propertyi', 'propertys', 'proportion', 'proportioned', 'propose', 'proposed', 'propped', 'propre', 'propre\\n\\ngrand', 'proprietaria', 'pros', 'pros\\n', 'pros\\n1', 'pros\\nbrent', 'protect', 'protected\\nit', 'prove', 'proved', 'proverbial', 'proves', 'provide', 'provided', 'provided\\n\\ngood', 'provided\\n\\ngreat', 'provided\\n\\npizza', 'providedfresh', 'provider', 'provides', 'providing', 'proving', 'provision', 'provisioned', 'provisions', 'provoking', 'proximity', 'proxmity', 'prozess', 'ps', 'pub', 'pub\\n\\nwould', 'pub\\nhighly', 'pub\\nmore', 'pub\\nverhuurder', 'pubblici', 'public', 'publication', 'publick', 'publico', 'publuc', 'pubnight', 'pubpebblesnice', 'pubrestaurant', 'pubs', 'pubs\\na', 'pubs\\nthe', 'pubs\\nwed', 'pubsabrinas', 'pubsall', 'pubsbars', 'pubsfood', 'pubsrestaurants', 'pubsrestaurantscoffee', 'pubsrestaurantsshops', 'pubstemple', 'pudding', 'puddle', 'puede', 'puerta', 'pug', 'pulita', 'pulitaamanda', 'puliti', 'pulitissima', 'pulito', 'pulizia', 'pull', 'pulled', 'pulling', 'pullout', 'pulls', 'pulse', 'pump', 'pumps', 'punch', 'punctual', 'punto', 'puntos', 'pup', 'puplic', 'puppies', 'puppy', 'pups', 'purchase', 'purchased', 'purchasing', 'pure', 'purely', 'purple', 'purpose', 'purposes', 'pursue', 'pursuing', 'push', 'pushed', 'pushing', 'pushy', 'puta', 'putovanje', 'puts', 'putting', 'puzzles', 'q', 'qiet', 'qpark', 'qtips', 'quadrupled', 'quai', 'quaint', 'quaintest', 'quaintness', 'quality', 'qualm', 'qualms', 'quando', 'quant', 'quantities', 'quarter', 'quarters', 'quartier', 'quartier\\nsabrina', 'quartiere', 'quasihotel', 'quater', 'quay', 'quay\\neasy', 'quays', 'que', 'queed', 'queen', 'queenfullfull', 'queens', 'queensized', 'quella', 'quelques', 'querie', 'queries', 'queriesrequests', 'query', 'questa', 'queste', 'question', 'questionable', 'questioned', 'questions', 'questions\\n\\ni', 'questions\\nin', 'questions\\nthough', 'questions\\nwe', 'questionsmessages', 'questionsrequests', 'quests', 'quet', 'qui', 'quick', 'quick\\nvery', 'quicker', 'quickest', 'quickestrecommended', 'quickly', 'quickly\\n\\nwe', 'quickly\\nwe', 'quieres', 'quiet', 'quiet\\n\\nthis', 'quiet\\n4', 'quiet\\ngreat', 'quiet\\njames', 'quiet\\nparking', 'quiet\\nwould', 'quieted', 'quieter', 'quietly', 'quietness', 'quiets', 'quietthe', 'quietthere', 'quietwe', 'quilt', 'quilts', 'quindi', 'quintessential', 'quirks', 'quirky', 'quirkycool', 'quit', 'quite', 'quiteneighborhoodat', 'quiz', 'qwirky', 'r', 'raad', 'rabbit', 'raccomended', 'race', 'rachable', 'rachel', 'rachel\\n\\nregards', 'rachel\\nfloors', 'rachels', 'racing', 'rack', 'racks', 'racommended', 'radar', 'raden\\nde', 'radiator', 'radiators', 'radio', 'radisson', 'radius', 'rae', 'raes', 'raggiunge', 'raggiungere', 'rags', 'raibh', 'rail', 'rails', 'railway', 'rain', 'rain\\nthe', 'rained', 'rainhead', 'raining', 'rains', 'rainshower', 'rainy', 'raise', 'raised', 'raises', 'raisin', 'raising', 'ramadan', 'rambling', 'ramen', 'ramons', 'ran', 'ranalagh', 'ranaleagh', 'rand', 'random', 'ranelagh', 'rang', 'range', 'ranged', 'rapid', 'rapidamente', 'rapidly', 'rapidly\\ni', 'raquel', 'rare', 'rarely', 'rarity', 'rarly', 'ras', 'rasberries', 'rate', 'rated', 'rates', 'rathfarnham', 'rathgar', 'rathmine', 'rathmines', 'rating', 'ratings', 'raum', 'rave', 'ravno', 'ray', 'rayne', 'raynes', 'rd', 'rds', 'rdsthere', 'reach', 'reach\\n', 'reachable', 'reacheable', 'reached', 'reaches', 'reaching', 'react', 'reactie', 'reaction', 'reactive', 'reactive\\nwe', 'reactivity', 'reacts', 'read', 'readily', 'reading', 'reads', 'ready', 'reageerde', 'reageert', 'real', 'realise', 'realised', 'realising', 'realistic', 'realistically', 'reality', 'realize', 'realized', 'realizing', 'reallly', 'really', 'realy', 'reapond', 'rear', 'reason', 'reason\\n\\nmade', 'reasonable', 'reasonably', 'reasons', 'reassurance', 'rebook', 'recall', 'recapping', 'reccomand', 'reccomed', 'reccomend', 'reccomended', 'reccommend', 'receive', 'received', 'receiving', 'recensie', 'recensies', 'recensioni', 'recent', 'recently', 'reception', 'receptive', 'recharge', 'recipe', 'recipes', 'reckomend', 'reckon', 'recliners', 'recognise', 'recognises', 'recomand', 'recomend', 'recomendaban', 'recomendable', 'recomendables', 'recomendado', 'recomendations', 'recomended', 'recomendo', 'recoment', 'recomiendo', 'recommand', 'recommand\\ndeirdre', 'recommandations', 'recommande', 'recommanded', 'recommandons', 'recommed', 'recommend', 'recommend\\n\\nits', 'recommend\\n\\nshe', 'recommend\\nincredible', 'recommendable', 'recommendation', 'recommendations', 'recommendations\\nall', 'recommendationsi', 'recommendationsthank', 'recommendatiosn', 'recommended', 'recommended\\nelizabeth', 'recommended\\ni', 'recommended\\nmy', 'recommending', 'recommendmuch', 'recommends', 'recommendstay', 'recommened', 'recomment', 'recommmend', 'recommmended', 'recommondation', 'record', 'recourse', 'recovered', 'recovery', 'recreate', 'recreation', 'recreational', 'rectified', 'rectify', 'recuperate', 'recurring', 'recycle', 'recycling', 'red', 'redelijk', 'redeye', 'redone', 'reds', 'reduce', 'redundant', 'reenergize', 'reexperience', 'reference', 'referred', 'referring', 'refill', 'refilled', 'refillwhich', 'reflect', 'reflected', 'reflection', 'reflects', 'refresh', 'refreshed', 'refreshing', 'refreshingly', 'refreshments', 'refrigerator', 'refrigeratorwere', 'refuge', 'refund', 'refunded', 'refurb', 'refurbished', 'refurbishment', 'refused', 'regain', 'regard', 'regarding', 'regardless', 'regards', 'regards\\n\\nwouter', 'regards\\ndefinitely', 'regards\\njanathomas', 'regards\\njavier', 'regards\\nmel', 'region', 'regional', 'regions', 'regret', 'regretted', 'regular', 'regularly', 'rehanging', 'reheating', 'reimbursed', 'reinkarnated', 'reinventions', 'reis', 'reistijd', 'reizen', 'rejuvenate', 'rejuvenation', 'rekindled', 'related', 'relation', 'relative', 'relatively', 'relatives', 'relax', 'relaxation', 'relaxed', 'relaxing', 'relaxte', 'release', 'relevant', 'reliability', 'reliable', 'relied', 'relief', 'relieve', 'religious', 'reloadable', 'relocation', 'reluctantly', 'relying', 'remain', 'remainder', 'remained', 'remaining', 'remains', 'remarkable', 'remarkably', 'remarks', 'remedied', 'remedy', 'remember', 'remembered', 'remembrance', 'reminded', 'reminder', 'remiss', 'remnants', 'remodeled', 'remote', 'remotes', 'remove', 'removed', 'remover', 'removes', 'rendered', 'rendezvous', 'renovated', 'renovating', 'renovation', 'renovations', 'renoviert', 'rent', 'rental', 'rentals', 'rented', 'renter', 'renters', 'renting', 'rents', 'rep', 'repacking', 'repaint', 'repair', 'repaircleanliness', 'repaired', 'repairers', 'repairreplacement', 'repairs', 'repairs\\npro', 'repairsfix', 'repeat', 'repeater', 'repercussions', 'replace', 'replaced', 'replacement', 'replacing', 'replied', 'replies', 'reply', 'replying', 'replys', 'reported', 'represantive', 'representation', 'representative', 'represented', 'represents', 'reproach', 'republic', 'request', 'request\\n\\nthe', 'requested', 'requesting', 'requests', 'require', 'required', 'required\\n\\nmaria', 'requirements', 'requires', 'requires\\nperfect', 'requiring', 'rercy', 'rerouted', 'rescue', 'research', 'researched', 'researching', 'resemble', 'reservation', 'reservations', 'reserve', 'reserved', 'reservethey', 'reserving', 'reset', 'resetting', 'residence', 'residence\\nthe', 'resident', 'resident\\n\\nthe', 'residental', 'residential', 'residents', 'residenziale', 'residue', 'resolution', 'resolve', 'resolved', 'resolving', 'resonable', 'resort', 'resource', 'resourcefulness', 'resources', 'respect', 'respected', 'respectful', 'respectfully', 'respecting', 'respects', 'respite', 'respond', 'responded', 'respondent', 'respondiendo', 'responding', 'responds', 'respondtime', 'respons', 'response', 'response\\nwith', 'responses', 'responses\\nabsolutely', 'responsibility', 'responsible', 'responsive', 'responsive\\n\\ncons', 'responsive\\n\\nthe', 'responsiveness', 'responsivenesscommunication', 'rest', 'rest\\nthere', 'restaraunts', 'restartant', 'restaurant', 'restaurant\\n\\nwe', 'restaurantjes', 'restaurantpubshoppingtourist', 'restaurants', 'restaurants\\njim', 'restaurantsbar', 'restaurantsbars', 'restaurantscafes', 'restaurantsespecially', 'restaurantsfun', 'restaurantspubs', 'restaurantspubsstores', 'restaurantsqueen', 'restaurantsshops', 'restaurantssightseeing', 'restaurats', 'restaurent', 'restautants', 'rested', 'resteraunts', 'restful', 'resting', 'restorant', 'restored', 'restoring', 'restraurants', 'restricted', 'restrictions', 'restroom', 'resturants', 'resuelve', 'result', 'resulted', 'resulting', 'retain', 'retains', 'rethink', 'retire', 'retired', 'retransport', 'retreat', 'retrieve', 'retrieved', 'retriever', 'retro', 'retrostyle', 'return', 'returned', 'returning', 'returns', 'reunion', 'revealed', 'revelers', 'revellers', 'revelry', 'review', 'reviewed', 'reviewer', 'reviewers', 'reviewers\\n\\nthe', 'reviewexperience', 'reviewing', 'reviews', 'revisione', 'revisit', 'revisiting', 'revitalized', 'revolutionaries', 'rewarded', 'rewards', 'rewrite', 'rey', 'rhe', 'rialto', 'rich', 'richard', 'richards', 'richer', 'richmond', 'ricky', 'ride', 'ride\\nwe', 'ridedrive', 'rides', 'ridge', 'ridiculous', 'ridiculously', 'rien', 'right', 'right\\n\\nbrian', 'right\\nthe', 'rigid', 'riham', 'rihams', 'rilassante', 'ring', 'ringsend', 'rinse', 'rinty', 'rio', 'riona', 'rip', 'ripped', 'ripping', 'rise', 'riser', 'risers', 'rises', 'risk', 'risposte', 'rivaled', 'river', 'river\\njerry', 'river\\nthe', 'river\\nwe', 'riverfront', 'riverside', 'riveting', 'road', 'road\\n\\njames', 'road\\nagain', 'road\\ncosy', 'road\\nstephens', 'road\\nthe', 'roadin', 'roads', 'roadways', 'roam', 'roaming', 'roast', 'roasted', 'rob', 'robbie', 'robbies', 'robby', 'robe', 'robert', 'robes', 'robin', 'robyn', 'robyns', 'rock', 'rocked', 'rocks', 'rockstar', 'rocky', 'rod', 'rode', 'rodents', 'roderigos', 'rodrigo', 'rodrigos', 'rods', 'rodzice', 'roede', 'roede\\nveel', 'roger', 'rogue', 'roisin', 'role', 'roll', 'rollaboard', 'rollaway', 'rolls', 'roly', 'romantic', 'romantics', 'romms', 'ronan', 'ronans', 'ronson', 'roof', 'roofs', 'rooftop', 'room', 'room\\n\\tthe', 'room\\n\\nthe', 'room\\n3', 'room\\nin', 'room\\nprivate', 'roombathroom', 'roomcommunication', 'roomed', 'roomflat', 'roomhome', 'roomhouse', 'roomie', 'roomier', 'roomkeepers', 'roomkitchen', 'roommate', 'roomprivate', 'roomrates', 'rooms', 'roomsbathrooms', 'roomy', 'rope', 'rory', 'rorys', 'rosa', 'rosa\\n\\na', 'rose', 'rosemarie', 'rosemary', 'rosemarys', 'roses', 'rosheen', 'rosheens', 'rosie', 'rosies', 'rosmarie', 'ross', 'rotted', 'rotten', 'rotting', 'rotunda', 'rough', 'roughest', 'roughly', 'round', 'rounded', 'roundtrip', 'rousing', 'rout', 'route', 'route\\n\\nlocal', 'routes', 'rover', 'row', 'rowdy', 'rowhouses', 'rows', 'roy', 'royal', 'royalty', 'roys', 'rub', 'rubber', 'rubbish', 'ruben', 'rude', 'rudi', 'rudy', 'rug', 'rugby', 'ruhig', 'ruhige', 'ruido', 'ruidoso', 'ruim', 'ruim\\nop', 'ruime', 'ruimte', 'ruimtes', 'ruined', 'rules', 'ruleshours', 'rumble', 'rumbling', 'run', 'rundown', 'rundum', 'runner', 'running', 'runs', 'runway', 'rural', 'rush', 'rushed', 'rushing', 'russel', 'russell', 'rusted', 'rustic', 'rustig', 'rustige', 'ruth', 'ruths', 'ryan', 'ryans', 's', 'sabanas', 'sabine', 'sabrina', 'sabrinas', 'sac', 'sacks', 'sacrifice', 'sacrificing', 'sad', 'sadder', 'sadly', 'sady', 'safe', 'safe\\n\\nbeing', 'safe\\n\\nthe', 'safe\\nthe', 'safe\\nwe', 'safed', 'safefeeling', 'safeguarded', 'safely', 'safer', 'saferstronger', 'safest', 'safety', 'safiya', 'saggy', 'sagittarius', 'said', 'saidhowever', 'saidif', 'sailing', 'saint', 'saintpatricks', 'salad', 'salads', 'salami', 'sale', 'salida', 'sally', 'sallynoggin', 'salmon', 'salon', 'salotto', 'salt', 'salts', 'sam', 'sam\\n\\nthe', 'sam\\nxxx', 'samen', 'sammie', 'sample', 'samples', 'sams', 'samuel', 'san', 'sanctuary', 'sander', 'sandpaper', 'sandra', 'sandras', 'sandrathanks', 'sandwich', 'sandwiched', 'sandwiches', 'sandy', 'sandycove', 'sandyford', 'sandymount', 'sandys', 'sanitary', 'santry', 'sapna', 'sara', 'sarah', 'sarah\\ni', 'sarahs', 'sarcastic', 'sarcastically', 'sarei', 'sash', 'sassanach', 'sat', 'satellite', 'satisfactory', 'satisfied', 'saturated', 'saturday', 'sauber', 'saubere', 'sauberer', 'sauberes', 'sauce', 'saucers', 'sauces', 'sauna', 'sausage', 'sausage\\nthe', 'sausages', 'save', 'saved', 'saver', 'saves', 'saving', 'savings', 'savvy', 'saw', 'say', 'saya', 'saying', 'says', 'saythe', 'sbahn', 'sbrigarmi', 'scalded', 'scalding', 'scale', 'scan', 'scanty', 'scared', 'scarlet', 'scarves', 'scary', 'scattered', 'scene', 'scenery', 'scenic', 'scent', 'scented', 'schedule', 'scheduled', 'schedules', 'scheduling', 'schedulings', 'schlafsofa', 'schnell', 'schnelle', 'schone', 'school', 'schoolwork', 'science', 'scientist', 'scomoda', 'scone', 'scones', 'scooter', 'scooters', 'scorching', 'score', 'scotland', 'scout', 'scramble', 'scrambled', 'scrapes', 'scratch', 'scratched', 'scratchy', 'scream', 'screaming', 'screams', 'screeching', 'screens', 'screw', 'screws', 'scritto', 'scrivania', 'scrub', 'scrubbed', 'scrubber', 'scrubbing', 'scrubbing\\nthere', 'scrum', 'scuffed', 'sculptures', 'scuola', 'se', 'sea', 'sea\\nowners', 'seafood', 'seafront', 'seagreat', 'seagull', 'seagulls', 'seahorse', 'sealant', 'sealed', 'seals', 'seam', 'seamarina', 'seamless', 'seamus', 'sean', 'seans', 'seapoint', 'search', 'searched', 'searching', 'seashore', 'seaside', 'season', 'seasoned', 'seasonings', 'seat', 'seating', 'seats', 'seats\\ni', 'seawall', 'seb', 'seb\\nwe', 'sebs', 'secadory', 'seccato', 'secluded', 'second', 'secondhand', 'secondlast', 'secret', 'secretive', 'section', 'section\\n3', 'sections', 'sector', 'secure', 'secure\\n\\ni', 'secure\\nplace', 'secured', 'securedgated', 'securegated', 'securely', 'securing', 'security', 'sedate', 'see\\nhis', 'see\\nthe', 'see\\nwe', 'see\\nwould', 'seedo', 'seedy', 'seeeattour', 'seego', 'seeing', 'seek', 'seemingly', 'seemless', 'seen', 'seeping', 'sees', 'segundos', 'seguro', 'sehr', 'sejour', 'seldom', 'select', 'selected', 'selecting', 'selection', 'selections', 'self', 'selfbaked', 'selfcatering', 'selfcheck', 'selfcheckin', 'selfcontained', 'selfexplanatory', 'selfmade', 'selfserve', 'selfservice', 'selfsufficient', 'selling', 'sells', 'semana', 'semester', 'semiprivate', 'sempre', 'send', 'sending', 'senior', 'sense', 'sensible', 'sensitive', 'sensor', 'sent', 'sent\\n\\nin', 'sentiments', 'sentire', 'sentirse', 'sentiti', 'senza', 'sep', 'separate', 'separated', 'separately', 'separating', 'seperate', 'september', 'ser', 'serena', 'serenas', 'serene', 'serenity', 'serie', 'series', 'seriously', 'serve', 'serveal', 'served', 'server', 'serves', 'service', 'service\\n\\nstaying', 'service\\n\\nthe', 'service\\nstaying', 'serviceable', 'serviced', 'serviceperfection', 'services', 'services\\ni', 'servicio', 'serving', 'servises', 'servito', 'servizi', 'session', 'set', 'sets', 'setting', 'settings', 'settle', 'settled', 'settlement', 'settling', 'setup', 'seuss\\n', 'seven', 'seventies', 'severe', 'severely', 'sewerage', 'sexually', 'sexy', 'shabbier', 'shabby', 'shack', 'shade', 'shades', 'shady', 'shake', 'shall', 'shame', 'shampoo', 'shampooconditioner', 'shampoos', 'shampoosshower', 'shandys', 'shanes', 'shape', 'share', 'shared', 'shared\\nvery', 'shares', 'sharing', 'sharing\\naccommodations', 'sharing\\nthe', 'sharon', 'sharp', 'sharpe', 'shaved', 'shaving', 'shay', 'shea', 'shed', 'sheelagh', 'sheelaghs', 'sheet', 'sheets', 'sheetspillows', 'sheila', 'shelf', 'shelfclothes', 'shell', 'shellagh', 'shells', 'shelves', 'shes', 'shift', 'shifts', 'shine', 'shines', 'shines\\nbrian', 'shining', 'shiny', 'shioban', 'ship', 'shirts', 'shocked', 'shockingly', 'shoe', 'shoes', 'shone', 'shop', 'shopped', 'shoppimg', 'shopping', 'shoppinggrafton', 'shoppinglocal', 'shops', 'shops\\nwe', 'shopsbakeries', 'shore', 'short', 'shortage', 'shortcoming', 'shortcomings', 'shortcut', 'shorten', 'shorter', 'shortly', 'shortstay', 'shortterm', 'shorttrip', 'shot', 'shoulder', 'shoulders', 'shouldnt', 'shouldve', 'shout', 'shouting', 'shove', 'showcases', 'showed', 'shower', 'shower\\n\\nexcellent', 'shower\\n\\nthe', 'shower\\n\\nwe', 'shower\\ncommunication', 'shower\\ngood', 'shower\\nstay', 'showerbath', 'showerbathroom', 'showerbut', 'showered', 'showering', 'showers', 'showertub', 'showerwater', 'showerwow', 'showing', 'shown', 'showned', 'shows', 'shows\\n\\nall', 'showup', 'shredded', 'shrink', 'shrunk', 'shul', 'shut', 'shut\\non', 'shutters', 'shutting', 'shuttle', 'shuttlebus', 'shuttles', 'shy', 'si', 'siamo', 'sichuan', 'sick', 'sicuramente', 'side\\nthe', 'sides', 'sidewalk', 'siding', 'sido', 'sie', 'siena', 'sierra', 'sieve', 'sigh\\n\\nin', 'sight', 'sights', 'sights\\nthe', 'sightsee', 'sightseeing', 'sightseeing\\n\\nwhat', 'sightseeingirish', 'sightseers', 'sightshighly', 'sightsrestaurantsbars', 'sign', 'signage', 'signal', 'signed', 'significance', 'significant', 'significantly', 'signposted', 'signs', 'signtseeing', 'siiobhans', 'silence', 'silent', 'silenziosa', 'silicon', 'sillicon', 'silly', 'silverware', 'sim', 'similar', 'similarly', 'simon', 'simons', 'simpatiamuy', 'simphatic', 'simple', 'simplicity', 'simplified', 'simply', 'simpns', 'simultaneously', 'sin', 'sinaed', 'sind', 'sinead', 'sineads', 'sing', 'singer', 'singing', 'single', 'singlebed', 'singlebeds', 'singles', 'sink', 'sinks', 'siobhams', 'siobhan', 'siobhan\\n\\nanthony', 'siobhans', 'sionhamsplace', 'sipped', 'sipping', 'sistem', 'sistemare', 'sister', 'sisters', 'sit', 'site', 'sites', 'siteseeing', 'sitios', 'sitje', 'sits', 'sitting', 'sittingbreakfast', 'situado', 'situated', 'situation', 'situations', 'situato', 'sizable', 'size', 'size\\neverything', 'size\\nwith', 'sizeable', 'sized', 'sizes', 'skate', 'skerries', 'sketchy', 'skill', 'skills', 'skip', 'skipped', 'sky', 'skylight', 'skylights', 'skyline', 'skyline\\nthe', 'skytv', 'slaapbank', 'slaapkamer', 'slaapkamers', 'slaapplaatsen', 'slaapplek', 'slab', 'slainte', 'slam', 'slamming', 'slane', 'slang', 'slanted', 'slats', 'sleap', 'slechte', 'sleep', 'sleep\\n', 'sleep\\n\\nsam', 'sleep\\nin', 'sleep\\nps\\nwatch', 'sleep\\nwe', 'sleeped', 'sleeper', 'sleepers', 'sleeping', 'sleepover', 'sleeps', 'sleepthe', 'slept', 'slept\\n\\nwe', 'sleutel', 'slice', 'slices', 'slick', 'slider', 'sliding', 'slidy', 'slight', 'slightest', 'slightly', 'slip', 'slipped', 'slippers', 'slippery', 'slot', 'slow', 'slowdelayed', 'slowerquieter', 'slowly', 'smack', 'smackdab', 'smal', 'small', 'small\\nwe', 'smaller', 'smallest', 'smallish', 'smalltwo', 'smart', 'smartly', 'smartphone', 'smashed', 'smell', 'smelled', 'smelling', 'smellled', 'smells', 'smelly', 'smelt', 'smile', 'smiles', 'smiley', 'smiling', 'smith', 'smithfield', 'smoke', 'smokehouse', 'smoker', 'smoking', 'smooth', 'smoother', 'smoothie', 'smoothies', 'smoothly', 'sms', 'snack', 'snacks', 'snackstea', 'snap', 'snapped', 'snazzy', 'sneaky', 'sneetjes', 'snel', 'snelle', 'snelweg', 'snoring', 'snowhail', 'snug', 'snuggles\\ntldr', 'snuggling', 'soak', 'soaked', 'soap', 'soapgels', 'soaps', 'soar', 'soccer', 'sociable', 'social', 'socialise', 'socialising', 'society', 'socket', 'sockets', 'sockets\\nsmall', 'socks', 'soda', 'soepel', 'sofa', 'sofabed', 'sofas', 'soft', 'soft\\n\\nwe', 'softboiled', 'sogar', 'soggiorno', 'soken', 'sola', 'solar', 'sold', 'soldout', 'sole', 'solely', 'soles', 'solid', 'solo', 'solotraveler', 'solotravelers', 'solution', 'solutions', 'solve', 'solved', 'solving', 'somebody', 'someday', 'someones', 'someplace', 'somethinganything', 'somethings', 'sometimes\\nthe', 'somewhat', 'somos', 'son', 'songs', 'sonia', 'sonias', 'sono', 'sons', 'soon', 'soon\\n\\nbig', 'soon\\n\\nthanks', 'soon\\na', 'soon\\nann', 'soon\\nso', 'soonerid', 'sooo', 'soooo', 'sooooo', 'sophie', 'sophisticateda', 'soprattutto', 'sorethroat', 'sorprendieron', 'sorry', 'sort', 'sorted', 'sorting', 'sorts', 'soul', 'soulful', 'sound', 'sounded', 'soundly', 'soundproof', 'soundproofed', 'soundproofing', 'sounds', 'soup', 'sour', 'source', 'sourced', 'sourcing', 'south', 'southeast', 'southern', 'southgate', 'southwest', 'souvenir', 'soymilk', 'sp', 'spa', 'space', 'space\\n', 'space\\n\\tthe', 'space\\n\\nhowever', 'space\\n\\ni', 'space\\n\\nshe', 'space\\nthe', 'spaceful', 'spacelovely', 'spaceous', 'spaces', 'spacey', 'spacieuse', 'spacieux', 'spacioud', 'spacious', 'spaciousclean', 'spaciousness', 'spaciousrefreshing', 'spacy', 'spain', 'span', 'spaniel', 'spanish', 'spar', 'spar\\njulie', 'sparcely', 'spare', 'sparking', 'sparkling', 'sparklingly', 'sparkly', 'sparse', 'sparsely', 'spartan', 'spartana', 'spatious', 'spatula', 'spatulas', 'spazi', 'spazio', 'speak', 'speaker', 'speaking', 'speaks', 'spec', 'speciaal', 'special', 'special\\n\\nyou', 'special\\nthe', 'speciale', 'specialized', 'specially', 'specials', 'specialty', 'specific', 'specifically', 'specifics', 'specified', 'specify', 'specious', 'spectacular', 'spectacularly', 'speechless', 'speed', 'speedily', 'speedy', 'speek', 'spelled', 'spend', 'spending', 'spent', 'spentwith', 'spero', 'spettava', 'spic', 'spices', 'spider', 'spiders', 'spiderwebs', 'spills', 'spink', 'spiral', 'spiraling', 'spire', 'spires', 'spirit', 'spirits', 'spirituality', 'spite', 'splash', 'splendid', 'splendida', 'splendide', 'split', 'spoil', 'spoiled', 'spoiled\\nnikola', 'spoilt', 'spoke', 'spoken', 'spokojnost', 'sponge', 'sponges', 'spontaneous', 'spooky', 'spoon', 'spoons', 'sporadic', 'sport', 'sportless', 'sports', 'spostarsi', 'spot', 'spotless', 'spotless\\ni', 'spotless\\nlocated', 'spotlessly', 'spoton', 'spots', 'spotstrinity', 'spotted', 'spotty', 'spotty\\n\\nthe', 'spread', 'spreads', 'spremni', 'spring', 'spring\\nwifi\\nas', 'springboard', 'springs', 'springy', 'sprucing', 'spullen', 'sq', 'squad', 'squalor\\nthe', 'square', 'squawk', 'squawking', 'squeaky', 'squeeze', 'squeezed', 'squirrels', 'squishy', 'squisite', 'sr', 'sray', 'srunning', 'st', 'sta', 'staat', 'stable', 'stables', 'stableyard', 'stack', 'stacked', 'stad', 'stadium', 'stadiums', 'stadscentrum', 'stadsfietsen\\nbeetje', 'stadtanbindung', 'stadtviertels', 'staff', 'staff\\ni', 'stag', 'stage', 'stagnant', 'stags', 'stagshens', 'staid', 'stain', 'stained', 'stainless', 'stains', 'stair', 'staircase', 'stairmaster', 'stairs', 'stairs\\n\\nwonderful', 'stairs\\nthe', 'stairsbut', 'stairway', 'stairwell', 'stale', 'stalesmokey', 'stall', 'stamina', 'stand', 'standard', 'standards', 'standin', 'standing', 'standpoint', 'stands', 'stangers', 'stank', 'stanza', 'staple', 'staples', 'star', 'starbucks', 'stark', 'stars', 'stars\\n', 'stars\\nismena', 'start', 'startand', 'started', 'started\\nvery', 'starter', 'starting', 'startled', 'starts', 'starving', 'stash', 'state', 'state\\nthe', 'stated', 'states', 'states\\n\\nher', 'stateseverything', 'station', 'station\\neverything', 'stationall', 'stations', 'statue', 'status', 'status\\n4', 'stavba', 'stavbe', 'stay', 'stay\\n', 'stay\\n\\nalso', 'stay\\n\\nbesides', 'stay\\n\\nchannate', 'stay\\n\\ncheers\\n\\njim', 'stay\\n\\nid', 'stay\\n\\njust', 'stay\\n\\nnote', 'stay\\n\\noverall', 'stay\\n\\npersonally', 'stay\\n\\nthe', 'stay\\n\\nthere', 'stay\\n\\ntherere', 'stay\\nas', 'stay\\ncozy', 'stay\\ndalkey', 'stay\\neamon', 'stay\\ngreat', 'stay\\nhighly', 'stay\\nhome', 'stay\\ni', 'stay\\nlots', 'stay\\nmaria', 'stay\\nnice', 'stay\\nour', 'stay\\noverall', 'stay\\nplace', 'stay\\nrested', 'stay\\nthanks', 'stay\\nthe', 'stay\\nthere', 'stay\\nvanessa', 'stay\\nwe', 'staycation', 'stayclose', 'stayed', 'stayed\\n\\nplease', 'stayeda', 'stayexcellent', 'stayexperience', 'staying', 'stayingvery', 'stayit', 'staynice', 'stays', 'staywe', 'steady', 'stealing', 'steam', 'steamy', 'stedentrip', 'steep', 'steeple', 'steer', 'steered', 'stef', 'steff', 'stefs', 'stellar', 'stench', 'step', 'stephan', 'stephanie', 'stephans', 'stephen', 'stephens', 'stepped', 'steps', 'steps\\nonly', 'stesso\\ndopo', 'steve', 'steven', 'stevens', 'steves', 'stevig', 'stick', 'sticks', 'sticky', 'stiff', 'stilish', 'stillorgan', 'stimulating', 'stink', 'stinky', 'stints', 'stirring', 'stock', 'stocked', 'stockedeven', 'stocking', 'stocks', 'stoked', 'stolen', 'stolen\\nwe', 'stone', 'stones', 'stoneybatter', 'stoneybrook', 'stony', 'stonybatter', 'stood', 'stoodout', 'stop', 'stop\\n\\nall', 'stop\\nhighly', 'stop\\nthe', 'stop\\nwe', 'stopover', 'stopped', 'stopping', 'stops', 'stopshop', 'stopt', 'storage', 'storage\\n\\n', 'store', 'store\\nricky', 'storeall', 'stored', 'storehouse', 'storehouse5', 'stores', 'storesfood', 'stories', 'storing', 'storm', 'story', 'stove', 'stovetop', 'stpatricks', 'straal\\nrustige', 'straat\\ner', 'straatkant', 'straight', 'straightener', 'straighteners', 'straightforward', 'strains', 'strand', 'strange', 'strangely', 'stranger', 'strangers', 'strani', 'strategic', 'streaming', 'streamlined', 'street', 'street\\n6', 'street\\nnear', 'street\\nthe', 'street\\nwill', 'streeta', 'streetalley', 'streetcloser', 'streets', 'streetside', 'strenuous', 'stress', 'stressed', 'stressfree', 'stressful', 'stretch', 'stretching', 'strict', 'strictly', 'strikes', 'striking', 'strikingly', 'string', 'strip', 'strives', 'stroll', 'stroller', 'strollers', 'strolling', 'strolls', 'strong', 'strongly', 'structure', 'structured', 'struggle', 'struggle\\nbathroom', 'struggled', 'struggling', 'ststephens', 'stsy', 'stuart', 'stubborn', 'stubbornly', 'stuck', 'student', 'students', 'studies', 'studio', 'studio\\nwe', 'studio1a', 'studioflat', 'studios', 'studying', 'stuff', 'stuff\\nit', 'stuffed', 'stuffs', 'stuffy', 'stumbled', 'stumbling', 'stunk', 'stunning', 'stunningly', 'stupenda', 'sturdy', 'style', 'style\\n\\nhighly', 'styled', 'styles', 'styling', 'stylingdecorating', 'stylish', 'stylish\\n2', 'stylish\\nnot', 'stylishly', 'stylishmodern', 'stylishness', 'stylishquaint', 'stylist', 'stylized', 'stylus', 'stylush', 'su', 'sub', 'suberb', 'subfloor', 'subito', 'subject', 'sublime', 'subpar', 'subsequently', 'subsiding', 'substantial', 'substitute', 'subtle', 'suburb', 'suburban', 'suburbia', 'suburbs', 'subway', 'succeda', 'succeeded', 'success', 'successful', 'successfully', 'successivo', 'suceptible', 'sucio', 'sucked', 'suddenly', 'sudeep', 'sue', 'suffer', 'suffered', 'sufficed', 'sufficient', 'sufficiently', 'sufivientes', 'sugar', 'sugar\\nthere', 'sugars', 'suggerire', 'suggest', 'suggestbeautiful', 'suggested', 'suggested\\n\\nabout', 'suggesting', 'suggestion', 'suggestion\\n\\nthank', 'suggestions', 'suggestions\\n\\nthe', 'suggestions\\neverything', 'suggestions\\nonly', 'suggestions\\ntheir', 'suggestionsdirections', 'suggestionsplaces', 'suggestionstips', 'suggests', 'suit', 'suitable', 'suitcase', 'suitcases', 'suitcaseshanging', 'suite', 'suited', 'suites', 'suits', 'sul', 'sultan', 'sum', 'summary', 'summer', 'summit', 'summoned', 'sums', 'sun', 'sundau', 'sunday', 'sundays', 'sundrenched', 'sunken', 'sunlight', 'sunlight\\n\\njerry', 'sunny', 'sunrise', 'sunroom', 'sunset', 'sunsets', 'sunshin', 'sunshine', 'suo', 'super', 'superb', 'superbanything', 'superbit', 'superbly', 'superclean', 'supercute', 'supereasy', 'superfast', 'superfriendly', 'superhost', 'superhosts', 'superior', 'superlative', 'superlatives', 'superlocatie', 'supermarcet', 'supermarket', 'supermarket\\nall', 'supermarket\\nit', 'supermarkets', 'supermarkets\\n\\nthe', 'supermarkt', 'supermercados', 'supernice', 'superschnelle', 'superstore', 'supervalu', 'superverblijf', 'supervision', 'suplen', 'supper', 'supplied', 'supplies', 'supply', 'supplying', 'support', 'supported', 'supporting', 'supportive', 'supposed', 'supreme', 'supremely', 'suprised', 'sur', 'sure', 'sure\\n\\n6\\tlies', 'sure\\n\\neven', 'surely', 'surface', 'surfaces', 'surfing', 'surjan\\na', 'surpassed', 'surpassing', 'surprise', 'surprised', 'surprises', 'surprising', 'surprisingly', 'surrounded', 'surrounding', 'surroundingpremises', 'surroundings', 'surroundings\\nunfortunately', 'surrounds', 'survived', 'surviving', 'susan', 'susanna', 'susannas', 'susans', 'sushi', 'suspect', 'suspicious', 'sustaining', 'sutton', 'suttonhowth', 'suuuuuuper', 'suzan', 'suzanna', 'suzanne', 'suzans', 'sveglia', 'swanky', 'swans', 'swapped', 'swearing', 'sweden', 'sweeping', 'sweet', 'sweetest', 'sweetheart', 'sweets', 'swept', 'swift', 'swift\\nwe', 'swiftly', 'swim', 'swimmers', 'swimming', 'swing', 'switch', 'switched', 'switching', 'sword', 'swords', 'sydney', 'sympa', 'sympathetic', 'sympathieke', 'sympatic', 'syrup', 'system\\nthe', 'systems', 't', 't1', 't2', 'table', 'table\\nwarm', 'tablea', 'tables', 'tablet', 'tablets', 'tact', 'tad', 'tag', 'tags', 'tail', 'tailor', 'tailored', 'tainted', 'takeaway', 'takeaways', 'taken', 'takeout', 'taker', 'takes', 'taking', 'tako', 'tal', 'talbot', 'talbots', 'talented', 'talk', 'talkative', 'talked', 'talking', 'talkings', 'talks', 'tall', 'taller', 'tambien', 'tank', 'tanto', 'tap', 'tapas', 'tape', 'taped', 'tapping', 'taps', 'tara', 'tardiness', 'target', 'tarp', 'tart', 'tarts', 'tartsvery', 'task', 'taste', 'tasted', 'tasteful', 'tastefully', 'tastes', 'tastfully', 'tasting', 'tasty', 'tasty\\nwe', 'tatiane', 'tatianes', 'tattoo', 'tatty', 'taught', 'taxi', 'taxi\\nthe', 'taxied', 'taxis', 'taxis\\n\\ntip', 'taxisand', 'taxiuber', 'taylor', 'tbh', 'tcd', 'te', 'tea', 'teabags', 'teach', 'teacher', 'teachers', 'teaching', 'teacoffee', 'teacoffeemilk', 'team', 'tear', 'teas', 'teaspoon', 'teatime', 'tech', 'technically', 'technique', 'techniques', 'ted', 'tedious', 'teds', 'tee', 'teeling', 'teelings', 'teen', 'teenage', 'teenager', 'teenagers', 'teeny', 'teepee', 'teeth', 'teflon', 'teleurgesteld', 'television', 'tell', 'telling', 'tells', 'temp', 'temper', 'temperamental', 'temperature', 'temperatures', 'tempering', 'temple', 'templebar', 'temporary', 'tempting', 'tenant', 'tenants', 'tend', 'tenday', 'tended', 'tendency', 'tending', 'tenters', 'terenure', 'teresa', 'teresas', 'teriffic', 'term', 'terminal', 'terminals', 'terms', 'terrace', 'terraced', 'terraces', 'terrazzo', 'terre', 'terrible', 'terribly', 'terrier', 'terrific', 'tesco', 'tesco5', 'tescos', 'tesla', 'testament', 'tevreden', 'text', 'text\\n\\n', 'texted', 'texting', 'texts', 'th', 'thai', 'thank', 'thankful', 'thankfully', 'thanks', 'thankyou', 'thanx', 'that\\n\\nbut', 'that\\n\\nif', 'that\\n\\nthe', 'that\\nhost', 'that\\nthe', 'thatd', 'thats', 'the\\n', 'theatee', 'theater', 'theaters', 'theatre', 'theatres', 'theirs', 'them\\n\\nhighly', 'them\\n\\njohn', 'them\\n\\none', 'them\\n\\nwe', 'them\\ncall', 'them\\nsusan', 'them\\nwould', 'themselveswonderful', 'then\\noverall', 'there\\n\\ncommunication', 'there\\n\\njohn', 'there\\n\\nkarin', 'there\\n\\nthe', 'there\\n\\nwe', 'there\\nif', 'there\\nthank', 'there\\nthe', 'there\\nwe', 'therehes', 'theres', 'theresas', 'therese', 'thereses', 'thermostat', 'theses', 'thetemple', 'theyd', 'theyll', 'theyre', 'theyve', 'thickest', 'thicket', 'thing', 'thing\\n\\nthe', 'things', 'think', 'think\\neverthing', 'thinking', 'thinks', 'thirty', 'this\\n\\nall', 'this\\nbut', 'this\\nwe', 'thise', 'thnx', 'tho', 'thomas', 'thorough', 'thoroughly', 'thosr', 'thou', 'thoughful', 'thought', 'thoughtful', 'thoughtful\\n\\nsiobhan', 'thoughtfully', 'thoughtfullyannotated', 'thoughtfulness', 'thoughtfulnesswe', 'thoughtout', 'thoughts', 'thousand', 'thousands', 'thread', 'threadbare', 'threads', 'threebed', 'threebedroom', 'threeday', 'threestar', 'threeweek', 'threshold', 'thrilled', 'thriving', 'thrones', 'through\\n\\nas', 'throughly', 'throughout\\nthe', 'throw', 'throwback', 'throws', 'thuis', 'thumb', 'thumbs', 'thunder', 'thursday', 'thx', 'ti', 'tibi', 'ticked', 'ticket', 'ticket\\nhouse', 'tickets', 'ticks', 'tidbits', 'tide', 'tidier', 'tidiness', 'tiding', 'tidy', 'tidy\\n\\non', 'tidyout', 'tiene', 'tight', 'tighter', 'tiina', 'tijdens', 'til', 'tile', 'tiled', 'tiles', 'till', 'tilly', 'tim', 'time', 'time\\n\\ncaroline', 'time\\n\\ngeorgia', 'time\\n\\nmy', 'time\\n\\noverall', 'time\\neileens', 'time\\nthe', 'time\\nyvonnes', 'timed', 'timehe', 'timeless', 'timely', 'timer', 'times', 'times\\nif', 'timetable', 'timetables', 'timethe', 'timing', 'timings', 'tin', 'tinha', 'tinier', 'tiniest', 'tinny', 'tiny', 'tinysmaller', 'tip', 'tipici', 'tipperary', 'tipple', 'tipps', 'tipps\\ni', 'tipps\\nwir', 'tips', 'tips\\n', 'tips\\n\\nbedroom', 'tips\\nhe', 'tips\\nhis', 'tips\\nsimple', 'tips\\nthanks', 'tips\\nthe', 'tips\\nwe', 'tipsquestions', 'tipsy', 'tiptoeing', 'tire', 'tired', 'tiredindeed', 'tires', 'tis', 'tissues', 'titel', 'title', 'tiy', 'tiziana', 'tizianas', 'tjat', 'tje', 'tk', 'tlc', 'tme', 'to\\n\\nbecause', 'to\\n\\nbernard', 'to\\n\\ni', 'to\\n\\nmy', 'to\\n\\nrae', 'to\\nanything', 'toallas', 'toast', 'toaster', 'toaster\\nbroken', 'toasteroven', 'toasting', 'toasts', 'toch', 'toda', 'todas', 'todays', 'toddler', 'toddlers', 'toddling', 'todo', 'todos', 'toe', 'toeristische', 'toes', 'toetips', 'toeverything', 'tofrom', 'togo', 'toiled', 'toilet', 'toiletplumbing', 'toiletries', 'toiletriesphone', 'toiletry', 'toilets', 'toiletshower', 'toilletries', 'token\\n\\nvalerie', 'tokens', 'told', 'tolerable', 'tolietry', 'toll', 'tolle', 'tollen', 'toller', 'tom', 'tomato', 'tomatoes', 'tomorrow', 'toms', 'ton', 'tone', 'toners', 'tones', 'tongs', 'tongue', 'tonic', 'tonne', 'tons', 'tony', 'tonys', 'too\\n\\nthe', 'too\\n\\nwill', 'too\\n\\nwould', 'too\\nhad', 'too\\nthe', 'toobaby', 'took', 'tools', 'tooshe', 'tooth', 'toothbrushes', 'toothpaste', 'toothpaste\\nquick', 'toots', 'top\\n\\nthank', 'topej', 'toplocatie', 'topnotch', 'topnotched', 'topoff', 'topped', 'topper', 'toppie', 'tops', 'toptips', 'topup', 'torch', 'tornado', 'tornavo', 'toronto', 'torrential', 'tortoise', 'tot', 'total', 'totally', 'totaly', 'touch', 'touch\\nwe', 'touched', 'touches', 'touches\\n\\nthe', 'touches\\nthe', 'touchesabsolutely', 'touchesfresh', 'toucheswould', 'touching', 'tough', 'tough\\n\\nthe', 'tougher', 'tought', 'tour', 'tour\\n\\ni', 'toured', 'touring', 'tourism', 'tourist', 'tourist\\nthe', 'touristic', 'touristinfo', 'touristparty', 'tourists', 'touristy', 'tours', 'tous', 'tout', 'tow', 'towed', 'towel', 'towels', 'towels\\ndo', 'towels\\nthe', 'towelsnapkinsbath', 'tower', 'towers', 'town', 'town\\n', 'town\\n\\nthe', 'town\\nalso', 'town\\ncatherine', 'town\\nfederico', 'town\\nliam', 'towncenter', 'townhome', 'townhomes', 'townhouse', 'townhouses', 'towns', 'townspacious', 'towntemple', 'towntours', 'townyard', 'toys', 'tracey', 'traceys', 'track', 'track\\n\\nso', 'tracks', 'tracy', 'trade', 'trademarks', 'tradeoff', 'tradition', 'traditional', 'traditionally', 'traditions', 'traffic', 'traffic\\ni', 'trafficked', 'trafic', 'trail', 'trailhead', 'trails', 'trails\\n\\nthank', 'train', 'train\\nthe', 'trainbus', 'trainline', 'trains', 'trainsbuses', 'trainstation', 'traintram', 'trajo', 'tram', 'tram\\ntakes', 'tram\\nvery', 'trambuswalk', 'tramping', 'trampoline', 'trampoline\\ntherese', 'tramride', 'trams', 'tramtrain', 'tramvia', 'tramway', 'tranquil', 'tranquila', 'tranquilidad', 'tranquility', 'tranquilla', 'tranquillita', 'tranquillity', 'tranquillo', 'tranquilo', 'trans', 'transatlantic', 'transfer', 'transfers', 'transformed', 'transformer', 'transients', 'transit', 'transit\\nquiet', 'transition', 'transitional', 'transitioned', 'transitluas', 'transits', 'translate', 'translink', 'transport', 'transport\\nenjoyed', 'transportation', 'transportation\\nthe', 'transportations', 'transporte', 'transports', 'trap', 'trapped', 'traps', 'trascurati', 'trash', 'trasporto', 'travel', 'travel\\nwill', 'traveled', 'traveler', 'traveler\\nvery', 'travelers', 'travelers\\n\\nsandra', 'travelerstea', 'traveling', 'travelled', 'traveller', 'travellers', 'travelling', 'travels', 'traveltransportation', 'traversing', 'tray', 'trays', 'treasure', 'treasures', 'treat', 'treat\\n\\nregarding', 'treat\\ngreat', 'treated', 'treating', 'treatment', 'treats', 'tree', 'trees', 'treesgreat', 'trek', 'tremendous', 'tremendously', 'tren\\nen', 'trendiness', 'trendy', 'treno', 'tres', 'trick', 'tricked', 'trickle', 'tricks', 'tricky', 'tried', 'tries', 'triggered', 'trinity', 'trinkets', 'trio', 'trip', 'trip\\n\\nit', 'trip\\n\\nthank', 'trip\\n\\nthis', 'trip\\noverall', 'tripintroduction', 'triple', 'tripled', 'tripod', 'trips', 'trips\\n\\nthe', 'trish', 'trishs', 'trocadero', 'trockner', 'trolley', 'trolly', 'tropical', 'troppo', 'trotzdem', 'trouble', 'troublefree', 'troubles', 'troubleshoot', 'troublesome', 'trough', 'trova', 'trovato', 'trove', 'trow', 'trs', 'truck', 'true', 'truffle', 'truffles', 'truly', 'trust', 'trusted', 'trusting', 'trustingly\\n\\nthe', 'trustworthy', 'truth', 'try', 'trying', 'tu', 'tub', 'tube', 'tubs', 'tuck', 'tucked', 'tuckedaway', 'tucking', 'tudi', 'tuesday', 'tuin', 'tula', 'tula\\n\\ncheers', 'tulas', 'tummy', 'tunes', 'tuning', 'tunnel', 'turf', 'turistic', 'turists', 'turkish', 'turn', 'turnaround', 'turned', 'turning', 'turns', 'turntable', 'tutorials', 'tutta', 'tuttaltro', 'tutti', 'tutto', 'tv', 'tv\\nand', 'tvinternet', 'tvs', 'tvthe', 'tweaks', 'twee', 'tweepersoonsbed', 'twice', 'twice\\n\\nto', 'twigs', 'twin', 'twist', 'twisted', 'twisting', 'tworing', 'twoweek', 'tym', 'typ', 'type', 'types', 'typical', 'typically', 'tyre', 'u', 'u\\ninsgesamt', 'u2', 'ua', 'uae', 'uber', 'ubercab', 'ubers', 'ubertaxi', 'ubicacion', 'ubicado', 'ubication', 'ubicazione', 'ucd', 'uit', 'uitchecken', 'uitgebreide', 'uitleg', 'uitstekend', 'uitstekende', 'uitzicht', 'uk', 'ukireland', 'ultan', 'ultan\\nwe', 'ultans', 'ultimate', 'ultimately', 'ultra', 'ulysses', 'um', 'umbrella', 'umbrellas', 'umming', 'una', 'unable', 'unacceptable', 'unannounced', 'unanswered', 'unappealing', 'unas', 'unassuming', 'unattached', 'unavailable', 'unavoidable', 'unaware', 'unbearable', 'unbeatable', 'unbelievable', 'unbelievably', 'uncanny', 'uncle', 'unclean', 'uncleaned', 'uncleanliness', 'unclear', 'uncles', 'uncoformable', 'uncomfortable', 'uncomplicated', 'unconventional', 'uncover', 'und', 'undeniably', 'undercover', 'underestimates', 'underfloor', 'underground', 'underlying', 'underneath', 'underpriced', 'undersell', 'understand', 'understand\\nthe', 'understandable', 'understandable\\nit', 'understandably', 'understanding', 'understatement', 'understood', 'underwhelming', 'undesignated', 'une', 'uneasy', 'uneven', 'unexpected', 'unexpectedly', 'unfailing', 'unfamiliar', 'unfashionable', 'unfinished', 'unflushed', 'unforeseen', 'unforgetable', 'unforgettable', 'unfortunate', 'unfortunately', 'unglaublich', 'ungodly', 'unhealthy', 'unheard', 'unhygienic', 'unico', 'unimpressed', 'uninhabitable', 'unintelligent', 'uninterrupted', 'union', 'unique', 'unique\\nit', 'uniqueartsy', 'uniquely', 'unit', 'unit\\n\\nyou', 'united', 'units', 'universal', 'university', 'universitys', 'unkept', 'unknown', 'unkompliziert', 'unkomplizierte', 'unlearned', 'unless', 'unlike', 'unlimited', 'unloaded', 'unlock', 'unlocked', 'unlocking', 'unloved', 'unmatched', 'unnecessary', 'unnecessary\\ndave', 'unnoticeable', 'unnoticed', 'unobtrusive', 'unorthodox', 'unos', 'unottima', 'unpack', 'unpacked', 'unpacking', 'unpleasant', 'unpleasantly', 'unplugged', 'unprofessional', 'unreal', 'unreasonable', 'unrelated', 'unreliable', 'unreservedly', 'unresponsive', 'unrivaled', 'uns', 'unsafe', 'unsanitary', 'unser', 'unsettling', 'unsmart', 'unspoilt', 'unsuitable', 'unsure', 'unsurpassed', 'unter', 'unterkunft', 'unterkunft\\nruhig', 'untill', 'untrue', 'unusable', 'unused', 'unusual', 'unusually', 'unwanted', 'unwashed', 'unwilling', 'unwind', 'unwinding', 'unwittingly', 'up\\n\\nseapoint', 'upandcoming', 'upbeat', 'upcoming', 'update', 'updated', 'updates', 'updating', 'updatingmaintenance', 'upfront', 'upgrade', 'upgraded', 'upgrades', 'upgrading', 'uphill', 'upkeep', 'upload', 'upmarket', 'upper', 'upright', 'uprzejma', 'ups', 'upscale', 'upset', 'upsetting', 'upsides', 'upstairs', 'upstairs\\npleasant', 'uptodate', 'uputili', 'urban', 'urbano', 'ure', 'urgency', 'urgent', 'urgently', 'urinating', 'urination', 'urine', 'ursula', 'us\\n\\njohn', 'us\\n\\nmarykaye', 'us\\n\\nthe', 'us\\n2', 'us\\ni', 'us\\nit', 'us\\nparking', 'us\\nslainte', 'us\\nthe', 'us\\nwe', 'usa', 'usable', 'usados', 'usage', 'usb', 'usd', 'use', 'use\\n\\nkitchen\\nthe', 'useable', 'used', 'used\\n\\nthe', 'useful', 'useful\\n\\nbe', 'useful\\n\\nthe', 'usefull', 'useless', 'user', 'users', 'uses', 'ushers', 'using', 'usit', 'uso', 'ussutton', 'usthank', 'ustwo', 'usual', 'usually', 'uswe', 'utensils', 'utilitarian', 'utilities', 'utility', 'utilize', 'utterly', 'uur', 'uvijek', 'v', 'va', 'vaak', 'vacanza', 'vacation', 'vacationers', 'vacationers\\n\\nthank', 'vacationing', 'vacuum', 'vacuumed', 'vadym', 'vadyms', 'valentino', 'valerie', 'valeries', 'valid', 'valley', 'valuable', 'valuables', 'value', 'value\\nwe', 'valued', 'values', 'valueyou', 'van', 'vanaf', 'vanessa', 'vanessas', 'vantage', 'vanuit', 'vanwege', 'variedad', 'variety', 'variety\\nthey', 'various', 'vast', 'vaticanthe', 'vaue', 've', 'veces', 'veel', 'veg', 'vegan', 'veganvegetarian', 'vegetables', 'vegetarian', 'vegie', 'vehicle', 'veilige', 'veloce', 'venessa', 'venetian', 'venezia', 'venga', 'venice', 'vent', 'vented', 'ventilation', 'vents', 'venture', 'ventured', 'venturing', 'venue', 'venues', 'venues\\n\\nthe', 'vera', 'veranda', 'verblijf', 'verblijft', 'verblijven', 'verder', 'verdi', 'verdient', 'verena', 'vergelijking', 'verhuurders', 'verkehrsanbindung', 'verkozen', 'verlichting', 'verliep', 'verona', 'veronas', 'veronica', 'veronicas', 'veronikas', 'verry', 'versa', 'version', 'versus', 'vert', 'verteld', 'veru', 'vervoer', 'verwacht', 'verwachtten', 'verx', 'verzorgd', 'ves', 'vessels', 'vestiti', 'vey', 'vez', 'via\\nme', 'viability', 'viaggio', 'viaggiono', 'vibe', 'vibes', 'vibrancy', 'vibrant', 'vicar', 'vice', 'viceversa', 'vicina', 'vicinissimo', 'vicinity', 'vicino', 'vicinzanze', 'vicious', 'vicky', 'victor', 'victoria', 'victorian', 'victorias', 'victoriastyle', 'video', 'videos', 'vielen', 'viene', 'vier', 'viet', 'view', 'view\\nwhen', 'viewable', 'viewed', 'viewing', 'views', 'views\\nmaeve', 'vigilant', 'viking', 'villa', 'village', 'village\\ncomfortable', 'village\\ncouldnt', 'villages', 'ville', 'villes', 'vincent', 'vind', 'vinden', 'vines', 'vinnie', 'vintage', 'viny', 'violets', 'virginia', 'virtual', 'virtually', 'visavis', 'visible', 'visibly', 'visit', 'visit\\n', 'visit\\n\\nits', 'visit\\nfabulous', 'visit\\njen', 'visit\\npeople', 'visit\\nthe', 'visitar', 'visitare', 'visited', 'visited\\n\\nwe', 'visiter', 'visiting', 'visitor', 'visitors', 'visits', 'visits\\nthanks', 'visitwe', 'visotors', 'vista', 'visting', 'visually', 'visuals', 'vite', 'vivamente', 'vivement', 'vivere', 'vivid', 'vivir', 'vlakbij', 'vliegveld', 'vlot', 'vochtig', 'vochtigheid', 'voelen', 'voert', 'voet', 'vogliono', 'voice', 'voicemail', 'voices', 'voir', 'voiture\\nconfort', 'voldeed', 'voldoet', 'volevo', 'volgend', 'volgende', 'volledig', 'volte', 'volvemos', 'volveriamos', 'volvo', 'volvos', 'volwassenen', 'vom', 'von', 'vonden', 'voor', 'vooral', 'voorhand', 'voorzien', 'voorzieningen', 'vorhanden', 'vorige', 'vouchers', 'vous', 'vragen', 'vriendelijk', 'vriendelijke', 'vriendelijkheid', 'vrienden', 'vrijwel', 'vrlo', 'vs', 'vse', 'vue', 'vuil', 'vulgarity', 'vv', 'vyborna', 'w', 'waar', 'wacicielami', 'wacicielem', 'waffles', 'wafting', 'wagging', 'wait', 'waited', 'waiters', 'waiting', 'waived', 'wake', 'waking', 'wales', 'walk', 'walk\\n\\ni', 'walk\\n\\nthanks', 'walk\\n\\nwe', 'walk\\ncathedral', 'walk\\neric', 'walk\\nif', 'walk\\njam', 'walk\\nqueen', 'walk\\nronan', 'walk\\nsuper', 'walk10', 'walkable', 'walkabouts', 'walkbike', 'walkdiner', 'walked', 'walker', 'walkers', 'walkin', 'walking', 'walking\\n\\nthanks', 'walkingbiking', 'walkingbus', 'walkingdistance', 'walks', 'walks\\nalso', 'walkseveral', 'walkthrough', 'walkup', 'walkways', 'wall', 'wall\\nwe', 'walled', 'wallpaper', 'walls', 'walltowall', 'walnut', 'wandelafstand', 'wandelen', 'wander', 'wandered', 'wandering', 'wanna', 'wanne', 'want', 'wanted', 'wanting', 'wants', 'waow', 'war', 'wardrobe', 'warm', 'warm\\n\\nbathroom', 'warm\\n\\nminifridges', 'warm\\ndefinitely', 'warm\\nnear', 'warm\\nscones', 'warmer', 'warmest', 'warmfull', 'warmhearted', 'warming', 'warmly', 'warmly\\nher', 'warms', 'warmth', 'warmwelcoming', 'warn', 'warned', 'warning', 'warren', 'warunki', 'was\\n\\nnote', 'was\\nthe', 'wasa', 'waschmaschine', 'wasgoed\\nik', 'wash', 'washcloth', 'washed', 'washer', 'washerdryer', 'washerdryers', 'washes', 'washing', 'washroom', 'washrooms', 'wasnt', 'wasnt\\noverall', 'wast', 'waste', 'wasted', 'wat', 'watch', 'watched', 'watches', 'watching', 'water', 'water\\n\\nthe', 'water\\nthere', 'water\\nwhen', 'waterboiler', 'waterfront', 'wateringly', 'waterpipe', 'waters', 'wathever', 'waved', 'waves', 'way', 'way\\n\\nwill', 'way\\n\\nyou', 'way\\nthere', 'ways', 'wc', 'weak', 'weakspotty', 'wealth', 'wealthier', 'wear', 'weariness', 'weary', 'weather', 'weather\\n\\nmaeve', 'weather\\ngood', 'weathered', 'web', 'webs', 'website', 'websites', 'wed', 'wedding', 'wedge', 'wednesday', 'wee', 'weeds', 'weee', 'week', 'week\\nwould', 'weekdays', 'weekend', 'weekend\\na', 'weekendje', 'weekends', 'weeklong', 'weekly', 'weeks', 'weekweekend', 'weer', 'weg', 'wegbeschreibung', 'weight', 'weinig', 'weird', 'weit', 'weiter', 'weiterempfehlen', 'weiterzuempfehlen', 'wel', 'welcome', 'welcome\\n\\nall', 'welcome\\n\\nwe', 'welcome\\nbreakfast', 'welcome\\nspotlessly', 'welcome\\nthey', 'welcome\\nwe', 'welcomed', 'welcomed\\nwe', 'welcomer', 'welcomes', 'welcomewe', 'welcoming', 'welcoming\\nhighly', 'welcoming\\ni', 'welcoming\\nif', 'welcoming\\nthe', 'welcoming\\nwould', 'welcominginitiating', 'welcomingly', 'welcomingreally', 'welcomingthank', 'welcomingthe', 'welcomming', 'welding', 'weldon', 'weldons', 'welfare', 'welkom', 'well\\n', 'well\\n\\n', 'well\\n\\nas', 'well\\n\\ncertainly', 'well\\n\\ni', 'well\\n\\nthe', 'well\\nin', 'well\\noverall', 'well\\nthank', 'well\\nthe', 'well\\nwe', 'wellappointed', 'wellbeha', 'wellbehaved', 'wellconnected', 'welldecorated', 'welldesignd', 'welldesigned', 'wellequipped', 'wellfurnished', 'wellinsulated', 'wellkept', 'welllinked', 'welllit', 'welllocated', 'welllocated\\nthank', 'welllocates', 'wellmaintained', 'wellmanaged', 'wellnice', 'wellorganized', 'wellpositioned', 'wellpreserved', 'wellpriced', 'wellprovisioned', 'wells', 'wellsituated', 'wellspent', 'wellstocked', 'wellsuited', 'welltrained', 'welltravelled', 'wellused', 'wendies', 'wendy', 'wendys', 'wendywill', 'went', 'wentate', 'wer', 'werburgh', 'werent', 'werkelijk', 'west', 'west\\n\\nthe', 'wet', 'weve', 'weveever', 'wexford', 'whats', 'whatsoever', 'whatsoever\\nthe', 'whatthanks', 'wheaten', 'whenhow', 'where\\n\\nother', 'whi', 'while\\n', 'while\\nvisiting', 'whilst', 'whimsically', 'whip', 'whipped', 'whirl', 'whisk', 'whiskey', 'whisky', 'whistle', 'white', 'whiteboard', 'whiteboards', 'whitesound', 'whiting', 'whoa', 'whod', 'wholeheartedly', 'wholesale', 'wholesome', 'wholl', 'whonwants', 'whos', 'wi', 'wich', 'wicklow', 'wide', 'wider', 'wideranging', 'wie', 'wieder', 'wietna', 'wietnia', 'wife', 'wifes', 'wiffi', 'wifi', 'wifi\\nwe', 'wij', 'wijk', 'wijken', 'wijnbarpiglet', 'wiki', 'wiklow', 'wil', 'wild', 'wilde', 'wildly', 'willen', 'williams', 'willing', 'willingly', 'willingness', 'willwere', 'win', 'wind', 'winddown', 'winding', 'windmill', 'window', 'windowdoor', 'windowframes', 'windows', 'windows\\n\\nteresa', 'windows\\nthe', 'windowsfrench', 'windowshost', 'windowsill', 'winds', 'windy', 'windy\\nvery', 'wine', 'winedrinks', 'wines', 'winkel', 'winner', 'winning', 'winter', 'wiped', 'wipes', 'wir', 'wird', 'wires', 'wiring', 'wisdom', 'wise', 'wish', 'wished', 'wishes', 'wishing', 'wisteria', 'wit', 'witch', 'with\\n\\nid', 'with\\n\\nthe', 'with\\nthank', 'with\\nthe', 'withing', 'withl', 'withon', 'without\\n\\nthe', 'withtruly', 'withworks', 'witnessed', 'witty', 'wlan', 'wnated', 'wo', 'wohnbereich', 'wohngegend', 'wohnt', 'wohnung', 'woke', 'woken', 'wold', 'wolk', 'woman', 'womans', 'women', 'womens', 'won', 'wondeful', 'wondefull', 'wonder', 'wonderful', 'wonderful\\n', 'wonderful\\nhis', 'wonderful\\nthe', 'wonderful\\nwe', 'wonderfulabout', 'wonderfull', 'wonderfully', 'wonders', 'wonderul', 'wonen', 'woning', 'wont', 'wood', 'woodbuilt', 'wooded', 'wooden', 'woods', 'woodside', 'woodstock', 'wool', 'woonkamer', 'woonwijk', 'woonwijk\\nvlakbij', 'word', 'worden', 'words', 'wordsuperb', 'wore', 'work', 'workd', 'worked', 'worker', 'workers', 'working', 'workings', 'workingstudying', 'workmans', 'workout', 'works', 'works\\nin', 'workshop', 'worktop', 'world', 'worlds', 'worm', 'worn', 'worried', 'worries', 'worry', 'worryfree', 'worrying', 'worse', 'worst', 'worth', 'worthless', 'worthwhile', 'worthy', 'woud', 'woukd', 'wouldnt', 'wouldve', 'wound', 'wounderful', 'woven', 'wow', 'wr', 'wracking', 'wrap', 'wrapped', 'wrappers', 'wreck', 'wrens', 'wringing', 'write', 'writers', 'writeup', 'writing', 'written', 'wromng', 'wrong', 'wrote', 'wrought', 'wunderbar', 'wunderful', 'wyandotte', 'wyjtkowe', 'wynnsward', 'wypoczynku', 'wytyczne', 'x', 'xd', 'xo', 'xon', 'xoxox', 'xtra', 'xx', 'xxx', 'y', 'ya', 'yacht', 'yard', 'yards', 'yas', 'yasmin', 'yasmine', 'yay', 'ye', 'yeah', 'year', 'years', 'yeats', 'yelled', 'yelling', 'yellow', 'yells', 'yes', 'yi', 'yo', 'yoga', 'yogakitchen', 'yoghurt', 'yoghurthamcheese\\nthe', 'yogurt', 'yogurtgranola', 'yogurts', 'yorker', 'yorkshire', 'you\\n', 'you\\ndon', 'you\\nstramer', 'you\\nwe', 'youd', 'youenda', 'youknowwho', 'youll', 'young', 'younger', 'youngest', 'youre', 'yourself\\namazing', 'yourself\\nthe', 'yourselfves', 'youth', 'youtube', 'youve', 'yovnne', 'yum', 'yummi', 'yummy', 'yvonne', 'yvonnes', 'yyonne', 'z', 'za', 'zachs', 'zack', 'zag', 'zambia', 'zaytoons', 'ze', 'zeer', 'zeit', 'zeker', 'zelf', 'zelfs', 'zentral', 'zentrale', 'zentru', 'zentrum', 'zero', 'zgrada', 'zich', 'ziemlich', 'zijn', 'zimmer', 'zin', 'zip', 'zit', 'zitten', 'zo', 'zoals', 'zoeken', 'zombie', 'zona', 'zonder', 'zone', 'zones', 'zoo', 'zorg', 'zoveel', 'zowel', 'zu', 'zufrieden', 'zuhause', 'zum', 'zur', 'zweite', 'zwiedzania', 'zwiedzaniu']\n",
      "Vector shape/size :  (12531, 14990)\n"
     ]
    }
   ],
   "source": [
    "vectorizer = TfidfVectorizer(tokenizer=simple_tokenizer, stop_words='english')\n",
    "tf = vectorizer.fit(corpus)\n",
    "X = tf.transform(corpus)\n",
    "#remove polarity and class listingid\n",
    "### Combining result of TFIDF with `target` columns\n",
    "full_df = pd.concat([pd.DataFrame(X.toarray()), df2['polarity2']], axis=1)\n",
    "print(\"Vector features : \", vectorizer.get_feature_names())\n",
    "print(\"Vector shape/size : \",X.shape)"
   ]
  },
  {
   "cell_type": "code",
   "execution_count": 14,
   "metadata": {},
   "outputs": [
    {
     "data": {
      "text/html": [
       "<div>\n",
       "<style scoped>\n",
       "    .dataframe tbody tr th:only-of-type {\n",
       "        vertical-align: middle;\n",
       "    }\n",
       "\n",
       "    .dataframe tbody tr th {\n",
       "        vertical-align: top;\n",
       "    }\n",
       "\n",
       "    .dataframe thead th {\n",
       "        text-align: right;\n",
       "    }\n",
       "</style>\n",
       "<table border=\"1\" class=\"dataframe\">\n",
       "  <thead>\n",
       "    <tr style=\"text-align: right;\">\n",
       "      <th></th>\n",
       "      <th>0</th>\n",
       "      <th>1</th>\n",
       "      <th>2</th>\n",
       "      <th>3</th>\n",
       "      <th>4</th>\n",
       "      <th>5</th>\n",
       "      <th>6</th>\n",
       "      <th>7</th>\n",
       "      <th>8</th>\n",
       "      <th>9</th>\n",
       "      <th>...</th>\n",
       "      <th>14981</th>\n",
       "      <th>14982</th>\n",
       "      <th>14983</th>\n",
       "      <th>14984</th>\n",
       "      <th>14985</th>\n",
       "      <th>14986</th>\n",
       "      <th>14987</th>\n",
       "      <th>14988</th>\n",
       "      <th>14989</th>\n",
       "      <th>polarity2</th>\n",
       "    </tr>\n",
       "  </thead>\n",
       "  <tbody>\n",
       "    <tr>\n",
       "      <th>0</th>\n",
       "      <td>0.104991</td>\n",
       "      <td>0.0</td>\n",
       "      <td>0.0</td>\n",
       "      <td>0.0</td>\n",
       "      <td>0.0</td>\n",
       "      <td>0.0</td>\n",
       "      <td>0.0</td>\n",
       "      <td>0.0</td>\n",
       "      <td>0.0</td>\n",
       "      <td>0.0</td>\n",
       "      <td>...</td>\n",
       "      <td>0.0</td>\n",
       "      <td>0.0</td>\n",
       "      <td>0.0</td>\n",
       "      <td>0.0</td>\n",
       "      <td>0.0</td>\n",
       "      <td>0.0</td>\n",
       "      <td>0.0</td>\n",
       "      <td>0.0</td>\n",
       "      <td>0.0</td>\n",
       "      <td>1</td>\n",
       "    </tr>\n",
       "    <tr>\n",
       "      <th>1</th>\n",
       "      <td>0.000000</td>\n",
       "      <td>0.0</td>\n",
       "      <td>0.0</td>\n",
       "      <td>0.0</td>\n",
       "      <td>0.0</td>\n",
       "      <td>0.0</td>\n",
       "      <td>0.0</td>\n",
       "      <td>0.0</td>\n",
       "      <td>0.0</td>\n",
       "      <td>0.0</td>\n",
       "      <td>...</td>\n",
       "      <td>0.0</td>\n",
       "      <td>0.0</td>\n",
       "      <td>0.0</td>\n",
       "      <td>0.0</td>\n",
       "      <td>0.0</td>\n",
       "      <td>0.0</td>\n",
       "      <td>0.0</td>\n",
       "      <td>0.0</td>\n",
       "      <td>0.0</td>\n",
       "      <td>1</td>\n",
       "    </tr>\n",
       "    <tr>\n",
       "      <th>2</th>\n",
       "      <td>0.000000</td>\n",
       "      <td>0.0</td>\n",
       "      <td>0.0</td>\n",
       "      <td>0.0</td>\n",
       "      <td>0.0</td>\n",
       "      <td>0.0</td>\n",
       "      <td>0.0</td>\n",
       "      <td>0.0</td>\n",
       "      <td>0.0</td>\n",
       "      <td>0.0</td>\n",
       "      <td>...</td>\n",
       "      <td>0.0</td>\n",
       "      <td>0.0</td>\n",
       "      <td>0.0</td>\n",
       "      <td>0.0</td>\n",
       "      <td>0.0</td>\n",
       "      <td>0.0</td>\n",
       "      <td>0.0</td>\n",
       "      <td>0.0</td>\n",
       "      <td>0.0</td>\n",
       "      <td>1</td>\n",
       "    </tr>\n",
       "    <tr>\n",
       "      <th>3</th>\n",
       "      <td>0.000000</td>\n",
       "      <td>0.0</td>\n",
       "      <td>0.0</td>\n",
       "      <td>0.0</td>\n",
       "      <td>0.0</td>\n",
       "      <td>0.0</td>\n",
       "      <td>0.0</td>\n",
       "      <td>0.0</td>\n",
       "      <td>0.0</td>\n",
       "      <td>0.0</td>\n",
       "      <td>...</td>\n",
       "      <td>0.0</td>\n",
       "      <td>0.0</td>\n",
       "      <td>0.0</td>\n",
       "      <td>0.0</td>\n",
       "      <td>0.0</td>\n",
       "      <td>0.0</td>\n",
       "      <td>0.0</td>\n",
       "      <td>0.0</td>\n",
       "      <td>0.0</td>\n",
       "      <td>1</td>\n",
       "    </tr>\n",
       "    <tr>\n",
       "      <th>4</th>\n",
       "      <td>0.000000</td>\n",
       "      <td>0.0</td>\n",
       "      <td>0.0</td>\n",
       "      <td>0.0</td>\n",
       "      <td>0.0</td>\n",
       "      <td>0.0</td>\n",
       "      <td>0.0</td>\n",
       "      <td>0.0</td>\n",
       "      <td>0.0</td>\n",
       "      <td>0.0</td>\n",
       "      <td>...</td>\n",
       "      <td>0.0</td>\n",
       "      <td>0.0</td>\n",
       "      <td>0.0</td>\n",
       "      <td>0.0</td>\n",
       "      <td>0.0</td>\n",
       "      <td>0.0</td>\n",
       "      <td>0.0</td>\n",
       "      <td>0.0</td>\n",
       "      <td>0.0</td>\n",
       "      <td>1</td>\n",
       "    </tr>\n",
       "  </tbody>\n",
       "</table>\n",
       "<p>5 rows × 14991 columns</p>\n",
       "</div>"
      ],
      "text/plain": [
       "          0    1    2    3    4    5    6    7    8    9  ...  14981  14982  \\\n",
       "0  0.104991  0.0  0.0  0.0  0.0  0.0  0.0  0.0  0.0  0.0  ...    0.0    0.0   \n",
       "1  0.000000  0.0  0.0  0.0  0.0  0.0  0.0  0.0  0.0  0.0  ...    0.0    0.0   \n",
       "2  0.000000  0.0  0.0  0.0  0.0  0.0  0.0  0.0  0.0  0.0  ...    0.0    0.0   \n",
       "3  0.000000  0.0  0.0  0.0  0.0  0.0  0.0  0.0  0.0  0.0  ...    0.0    0.0   \n",
       "4  0.000000  0.0  0.0  0.0  0.0  0.0  0.0  0.0  0.0  0.0  ...    0.0    0.0   \n",
       "\n",
       "   14983  14984  14985  14986  14987  14988  14989  polarity2  \n",
       "0    0.0    0.0    0.0    0.0    0.0    0.0    0.0          1  \n",
       "1    0.0    0.0    0.0    0.0    0.0    0.0    0.0          1  \n",
       "2    0.0    0.0    0.0    0.0    0.0    0.0    0.0          1  \n",
       "3    0.0    0.0    0.0    0.0    0.0    0.0    0.0          1  \n",
       "4    0.0    0.0    0.0    0.0    0.0    0.0    0.0          1  \n",
       "\n",
       "[5 rows x 14991 columns]"
      ]
     },
     "execution_count": 14,
     "metadata": {},
     "output_type": "execute_result"
    }
   ],
   "source": [
    "full_df.head()"
   ]
  },
  {
   "cell_type": "code",
   "execution_count": 15,
   "metadata": {
    "scrolled": true
   },
   "outputs": [
    {
     "name": "stdout",
     "output_type": "stream",
     "text": [
      "(10024, 14990) (10024,)\n"
     ]
    }
   ],
   "source": [
    "target_col = 'polarity2'\n",
    "y =df2[target_col]\n",
    "X_train, X_test, y_train, y_test = train_test_split(full_df.drop(target_col , axis=1),y, test_size=0.20, random_state=SEED)\n",
    "print(X_train.shape, y_train.shape)"
   ]
  },
  {
   "cell_type": "code",
   "execution_count": 16,
   "metadata": {},
   "outputs": [
    {
     "data": {
      "text/plain": [
       "11884"
      ]
     },
     "execution_count": 16,
     "metadata": {},
     "output_type": "execute_result"
    }
   ],
   "source": [
    "polarity_count = df2[\"polarity2\"].sum()\n",
    "polarity_count"
   ]
  },
  {
   "cell_type": "code",
   "execution_count": 17,
   "metadata": {},
   "outputs": [
    {
     "data": {
      "text/html": [
       "<div>\n",
       "<style scoped>\n",
       "    .dataframe tbody tr th:only-of-type {\n",
       "        vertical-align: middle;\n",
       "    }\n",
       "\n",
       "    .dataframe tbody tr th {\n",
       "        vertical-align: top;\n",
       "    }\n",
       "\n",
       "    .dataframe thead th {\n",
       "        text-align: right;\n",
       "    }\n",
       "</style>\n",
       "<table border=\"1\" class=\"dataframe\">\n",
       "  <thead>\n",
       "    <tr style=\"text-align: right;\">\n",
       "      <th></th>\n",
       "      <th>0</th>\n",
       "      <th>1</th>\n",
       "      <th>2</th>\n",
       "      <th>3</th>\n",
       "      <th>4</th>\n",
       "      <th>5</th>\n",
       "      <th>6</th>\n",
       "      <th>7</th>\n",
       "      <th>8</th>\n",
       "      <th>9</th>\n",
       "      <th>...</th>\n",
       "      <th>14980</th>\n",
       "      <th>14981</th>\n",
       "      <th>14982</th>\n",
       "      <th>14983</th>\n",
       "      <th>14984</th>\n",
       "      <th>14985</th>\n",
       "      <th>14986</th>\n",
       "      <th>14987</th>\n",
       "      <th>14988</th>\n",
       "      <th>14989</th>\n",
       "    </tr>\n",
       "  </thead>\n",
       "  <tbody>\n",
       "    <tr>\n",
       "      <th>6045</th>\n",
       "      <td>0.000000</td>\n",
       "      <td>0.0</td>\n",
       "      <td>0.0</td>\n",
       "      <td>0.0</td>\n",
       "      <td>0.0</td>\n",
       "      <td>0.0</td>\n",
       "      <td>0.0</td>\n",
       "      <td>0.0</td>\n",
       "      <td>0.0</td>\n",
       "      <td>0.0</td>\n",
       "      <td>...</td>\n",
       "      <td>0.0</td>\n",
       "      <td>0.0</td>\n",
       "      <td>0.0</td>\n",
       "      <td>0.0</td>\n",
       "      <td>0.0</td>\n",
       "      <td>0.0</td>\n",
       "      <td>0.0</td>\n",
       "      <td>0.0</td>\n",
       "      <td>0.0</td>\n",
       "      <td>0.0</td>\n",
       "    </tr>\n",
       "    <tr>\n",
       "      <th>8205</th>\n",
       "      <td>0.000000</td>\n",
       "      <td>0.0</td>\n",
       "      <td>0.0</td>\n",
       "      <td>0.0</td>\n",
       "      <td>0.0</td>\n",
       "      <td>0.0</td>\n",
       "      <td>0.0</td>\n",
       "      <td>0.0</td>\n",
       "      <td>0.0</td>\n",
       "      <td>0.0</td>\n",
       "      <td>...</td>\n",
       "      <td>0.0</td>\n",
       "      <td>0.0</td>\n",
       "      <td>0.0</td>\n",
       "      <td>0.0</td>\n",
       "      <td>0.0</td>\n",
       "      <td>0.0</td>\n",
       "      <td>0.0</td>\n",
       "      <td>0.0</td>\n",
       "      <td>0.0</td>\n",
       "      <td>0.0</td>\n",
       "    </tr>\n",
       "    <tr>\n",
       "      <th>6966</th>\n",
       "      <td>0.000000</td>\n",
       "      <td>0.0</td>\n",
       "      <td>0.0</td>\n",
       "      <td>0.0</td>\n",
       "      <td>0.0</td>\n",
       "      <td>0.0</td>\n",
       "      <td>0.0</td>\n",
       "      <td>0.0</td>\n",
       "      <td>0.0</td>\n",
       "      <td>0.0</td>\n",
       "      <td>...</td>\n",
       "      <td>0.0</td>\n",
       "      <td>0.0</td>\n",
       "      <td>0.0</td>\n",
       "      <td>0.0</td>\n",
       "      <td>0.0</td>\n",
       "      <td>0.0</td>\n",
       "      <td>0.0</td>\n",
       "      <td>0.0</td>\n",
       "      <td>0.0</td>\n",
       "      <td>0.0</td>\n",
       "    </tr>\n",
       "    <tr>\n",
       "      <th>6099</th>\n",
       "      <td>0.000000</td>\n",
       "      <td>0.0</td>\n",
       "      <td>0.0</td>\n",
       "      <td>0.0</td>\n",
       "      <td>0.0</td>\n",
       "      <td>0.0</td>\n",
       "      <td>0.0</td>\n",
       "      <td>0.0</td>\n",
       "      <td>0.0</td>\n",
       "      <td>0.0</td>\n",
       "      <td>...</td>\n",
       "      <td>0.0</td>\n",
       "      <td>0.0</td>\n",
       "      <td>0.0</td>\n",
       "      <td>0.0</td>\n",
       "      <td>0.0</td>\n",
       "      <td>0.0</td>\n",
       "      <td>0.0</td>\n",
       "      <td>0.0</td>\n",
       "      <td>0.0</td>\n",
       "      <td>0.0</td>\n",
       "    </tr>\n",
       "    <tr>\n",
       "      <th>7242</th>\n",
       "      <td>0.000000</td>\n",
       "      <td>0.0</td>\n",
       "      <td>0.0</td>\n",
       "      <td>0.0</td>\n",
       "      <td>0.0</td>\n",
       "      <td>0.0</td>\n",
       "      <td>0.0</td>\n",
       "      <td>0.0</td>\n",
       "      <td>0.0</td>\n",
       "      <td>0.0</td>\n",
       "      <td>...</td>\n",
       "      <td>0.0</td>\n",
       "      <td>0.0</td>\n",
       "      <td>0.0</td>\n",
       "      <td>0.0</td>\n",
       "      <td>0.0</td>\n",
       "      <td>0.0</td>\n",
       "      <td>0.0</td>\n",
       "      <td>0.0</td>\n",
       "      <td>0.0</td>\n",
       "      <td>0.0</td>\n",
       "    </tr>\n",
       "    <tr>\n",
       "      <th>...</th>\n",
       "      <td>...</td>\n",
       "      <td>...</td>\n",
       "      <td>...</td>\n",
       "      <td>...</td>\n",
       "      <td>...</td>\n",
       "      <td>...</td>\n",
       "      <td>...</td>\n",
       "      <td>...</td>\n",
       "      <td>...</td>\n",
       "      <td>...</td>\n",
       "      <td>...</td>\n",
       "      <td>...</td>\n",
       "      <td>...</td>\n",
       "      <td>...</td>\n",
       "      <td>...</td>\n",
       "      <td>...</td>\n",
       "      <td>...</td>\n",
       "      <td>...</td>\n",
       "      <td>...</td>\n",
       "      <td>...</td>\n",
       "      <td>...</td>\n",
       "    </tr>\n",
       "    <tr>\n",
       "      <th>4458</th>\n",
       "      <td>0.000000</td>\n",
       "      <td>0.0</td>\n",
       "      <td>0.0</td>\n",
       "      <td>0.0</td>\n",
       "      <td>0.0</td>\n",
       "      <td>0.0</td>\n",
       "      <td>0.0</td>\n",
       "      <td>0.0</td>\n",
       "      <td>0.0</td>\n",
       "      <td>0.0</td>\n",
       "      <td>...</td>\n",
       "      <td>0.0</td>\n",
       "      <td>0.0</td>\n",
       "      <td>0.0</td>\n",
       "      <td>0.0</td>\n",
       "      <td>0.0</td>\n",
       "      <td>0.0</td>\n",
       "      <td>0.0</td>\n",
       "      <td>0.0</td>\n",
       "      <td>0.0</td>\n",
       "      <td>0.0</td>\n",
       "    </tr>\n",
       "    <tr>\n",
       "      <th>1996</th>\n",
       "      <td>0.575914</td>\n",
       "      <td>0.0</td>\n",
       "      <td>0.0</td>\n",
       "      <td>0.0</td>\n",
       "      <td>0.0</td>\n",
       "      <td>0.0</td>\n",
       "      <td>0.0</td>\n",
       "      <td>0.0</td>\n",
       "      <td>0.0</td>\n",
       "      <td>0.0</td>\n",
       "      <td>...</td>\n",
       "      <td>0.0</td>\n",
       "      <td>0.0</td>\n",
       "      <td>0.0</td>\n",
       "      <td>0.0</td>\n",
       "      <td>0.0</td>\n",
       "      <td>0.0</td>\n",
       "      <td>0.0</td>\n",
       "      <td>0.0</td>\n",
       "      <td>0.0</td>\n",
       "      <td>0.0</td>\n",
       "    </tr>\n",
       "    <tr>\n",
       "      <th>873</th>\n",
       "      <td>0.000000</td>\n",
       "      <td>0.0</td>\n",
       "      <td>0.0</td>\n",
       "      <td>0.0</td>\n",
       "      <td>0.0</td>\n",
       "      <td>0.0</td>\n",
       "      <td>0.0</td>\n",
       "      <td>0.0</td>\n",
       "      <td>0.0</td>\n",
       "      <td>0.0</td>\n",
       "      <td>...</td>\n",
       "      <td>0.0</td>\n",
       "      <td>0.0</td>\n",
       "      <td>0.0</td>\n",
       "      <td>0.0</td>\n",
       "      <td>0.0</td>\n",
       "      <td>0.0</td>\n",
       "      <td>0.0</td>\n",
       "      <td>0.0</td>\n",
       "      <td>0.0</td>\n",
       "      <td>0.0</td>\n",
       "    </tr>\n",
       "    <tr>\n",
       "      <th>2046</th>\n",
       "      <td>0.000000</td>\n",
       "      <td>0.0</td>\n",
       "      <td>0.0</td>\n",
       "      <td>0.0</td>\n",
       "      <td>0.0</td>\n",
       "      <td>0.0</td>\n",
       "      <td>0.0</td>\n",
       "      <td>0.0</td>\n",
       "      <td>0.0</td>\n",
       "      <td>0.0</td>\n",
       "      <td>...</td>\n",
       "      <td>0.0</td>\n",
       "      <td>0.0</td>\n",
       "      <td>0.0</td>\n",
       "      <td>0.0</td>\n",
       "      <td>0.0</td>\n",
       "      <td>0.0</td>\n",
       "      <td>0.0</td>\n",
       "      <td>0.0</td>\n",
       "      <td>0.0</td>\n",
       "      <td>0.0</td>\n",
       "    </tr>\n",
       "    <tr>\n",
       "      <th>7579</th>\n",
       "      <td>0.197285</td>\n",
       "      <td>0.0</td>\n",
       "      <td>0.0</td>\n",
       "      <td>0.0</td>\n",
       "      <td>0.0</td>\n",
       "      <td>0.0</td>\n",
       "      <td>0.0</td>\n",
       "      <td>0.0</td>\n",
       "      <td>0.0</td>\n",
       "      <td>0.0</td>\n",
       "      <td>...</td>\n",
       "      <td>0.0</td>\n",
       "      <td>0.0</td>\n",
       "      <td>0.0</td>\n",
       "      <td>0.0</td>\n",
       "      <td>0.0</td>\n",
       "      <td>0.0</td>\n",
       "      <td>0.0</td>\n",
       "      <td>0.0</td>\n",
       "      <td>0.0</td>\n",
       "      <td>0.0</td>\n",
       "    </tr>\n",
       "  </tbody>\n",
       "</table>\n",
       "<p>2507 rows × 14990 columns</p>\n",
       "</div>"
      ],
      "text/plain": [
       "         0      1      2      3      4      5      6      7      8      9      \\\n",
       "6045  0.000000    0.0    0.0    0.0    0.0    0.0    0.0    0.0    0.0    0.0   \n",
       "8205  0.000000    0.0    0.0    0.0    0.0    0.0    0.0    0.0    0.0    0.0   \n",
       "6966  0.000000    0.0    0.0    0.0    0.0    0.0    0.0    0.0    0.0    0.0   \n",
       "6099  0.000000    0.0    0.0    0.0    0.0    0.0    0.0    0.0    0.0    0.0   \n",
       "7242  0.000000    0.0    0.0    0.0    0.0    0.0    0.0    0.0    0.0    0.0   \n",
       "...        ...    ...    ...    ...    ...    ...    ...    ...    ...    ...   \n",
       "4458  0.000000    0.0    0.0    0.0    0.0    0.0    0.0    0.0    0.0    0.0   \n",
       "1996  0.575914    0.0    0.0    0.0    0.0    0.0    0.0    0.0    0.0    0.0   \n",
       "873   0.000000    0.0    0.0    0.0    0.0    0.0    0.0    0.0    0.0    0.0   \n",
       "2046  0.000000    0.0    0.0    0.0    0.0    0.0    0.0    0.0    0.0    0.0   \n",
       "7579  0.197285    0.0    0.0    0.0    0.0    0.0    0.0    0.0    0.0    0.0   \n",
       "\n",
       "      ...  14980  14981  14982  14983  14984  14985  14986  14987  14988  \\\n",
       "6045  ...    0.0    0.0    0.0    0.0    0.0    0.0    0.0    0.0    0.0   \n",
       "8205  ...    0.0    0.0    0.0    0.0    0.0    0.0    0.0    0.0    0.0   \n",
       "6966  ...    0.0    0.0    0.0    0.0    0.0    0.0    0.0    0.0    0.0   \n",
       "6099  ...    0.0    0.0    0.0    0.0    0.0    0.0    0.0    0.0    0.0   \n",
       "7242  ...    0.0    0.0    0.0    0.0    0.0    0.0    0.0    0.0    0.0   \n",
       "...   ...    ...    ...    ...    ...    ...    ...    ...    ...    ...   \n",
       "4458  ...    0.0    0.0    0.0    0.0    0.0    0.0    0.0    0.0    0.0   \n",
       "1996  ...    0.0    0.0    0.0    0.0    0.0    0.0    0.0    0.0    0.0   \n",
       "873   ...    0.0    0.0    0.0    0.0    0.0    0.0    0.0    0.0    0.0   \n",
       "2046  ...    0.0    0.0    0.0    0.0    0.0    0.0    0.0    0.0    0.0   \n",
       "7579  ...    0.0    0.0    0.0    0.0    0.0    0.0    0.0    0.0    0.0   \n",
       "\n",
       "      14989  \n",
       "6045    0.0  \n",
       "8205    0.0  \n",
       "6966    0.0  \n",
       "6099    0.0  \n",
       "7242    0.0  \n",
       "...     ...  \n",
       "4458    0.0  \n",
       "1996    0.0  \n",
       "873     0.0  \n",
       "2046    0.0  \n",
       "7579    0.0  \n",
       "\n",
       "[2507 rows x 14990 columns]"
      ]
     },
     "execution_count": 17,
     "metadata": {},
     "output_type": "execute_result"
    }
   ],
   "source": [
    "X_test"
   ]
  },
  {
   "cell_type": "markdown",
   "metadata": {},
   "source": [
    "## Model Training and Analysis"
   ]
  },
  {
   "cell_type": "markdown",
   "metadata": {},
   "source": [
    "**Helper Function**  : This is a simple helper function modified from the sklearn [documentation](https://scikit-learn.org/stable/auto_examples/model_selection/plot_confusion_matrix.html).  Example below.  Parameters required are the actual labels (y_true), the predicted labels (y_pred), classes in a list like `[\"good\", \"bad\", \"ugly\"]`.  Options are using `normalize` to get percentages, `include_cm` to print off the raw confusion matrix, and `fig_size` for the size of the plot."
   ]
  },
  {
   "cell_type": "code",
   "execution_count": 18,
   "metadata": {},
   "outputs": [],
   "source": [
    "def plot_confusion_matrix(y_true, y_pred, classes,\n",
    "                          normalize=False,\n",
    "                          title=None,\n",
    "                          cmap=plt.cm.Blues,\n",
    "                          include_cm=False,\n",
    "                          fig_size=(10, 8)):\n",
    "    \"\"\"\n",
    "    This function prints and plots the confusion matrix.\n",
    "    Normalization can be applied by setting `normalize=True`.\n",
    "    \"\"\"\n",
    "    from sklearn.utils.multiclass import unique_labels\n",
    "    \n",
    "    if not title:\n",
    "        if normalize:\n",
    "            title = 'Normalized confusion matrix'\n",
    "        else:\n",
    "            title = 'Confusion matrix, without normalization'\n",
    "\n",
    "    # Compute confusion matrix\n",
    "    cm = confusion_matrix(y_true, y_pred)\n",
    "\n",
    "    if normalize:\n",
    "        cm = cm.astype('float') / cm.sum(axis=1)[:, np.newaxis]\n",
    "\n",
    "    if include_cm:\n",
    "        print(cm)\n",
    "\n",
    "    fig, ax = plt.subplots(figsize=fig_size)\n",
    "    ax.grid(False)\n",
    "    im = ax.imshow(cm, interpolation='nearest', cmap=cmap)\n",
    "    ax.figure.colorbar(im, ax=ax)\n",
    "    # We want to show all ticks...\n",
    "    ax.set(xticks=np.arange(cm.shape[1]),\n",
    "           yticks=np.arange(cm.shape[0]),\n",
    "           # ... and label them with the respective list entries\n",
    "           xticklabels=classes, yticklabels=classes,\n",
    "           title=title,\n",
    "           ylabel='True label',\n",
    "           xlabel='Predicted label')\n",
    "\n",
    "    # Rotate the tick labels and set their alignment.\n",
    "    plt.setp(ax.get_xticklabels(), rotation=45, ha=\"right\",\n",
    "             rotation_mode=\"anchor\")\n",
    "\n",
    "    # Loop over data dimensions and create text annotations.\n",
    "    fmt = '.2f' if normalize else 'd'\n",
    "    thresh = cm.max() / 2.\n",
    "    for i in range(cm.shape[0]):\n",
    "        for j in range(cm.shape[1]):\n",
    "            ax.text(j, i, format(cm[i, j], fmt),\n",
    "                    ha=\"center\", va=\"center\",\n",
    "                    color=\"white\" if cm[i, j] > thresh else \"black\")\n",
    "    fig.tight_layout()\n",
    "    return ax"
   ]
  },
  {
   "cell_type": "markdown",
   "metadata": {},
   "source": [
    "Lets use a base model to get a baseline prediction."
   ]
  },
  {
   "cell_type": "code",
   "execution_count": 19,
   "metadata": {},
   "outputs": [],
   "source": [
    "clf = MultinomialNB().fit(X_train, y_train)\n",
    "y_pred = clf.predict(X_test)"
   ]
  },
  {
   "cell_type": "code",
   "execution_count": 20,
   "metadata": {},
   "outputs": [
    {
     "data": {
      "text/plain": [
       "array([[  37,   85],\n",
       "       [   4, 2381]], dtype=int64)"
      ]
     },
     "execution_count": 20,
     "metadata": {},
     "output_type": "execute_result"
    }
   ],
   "source": [
    "confusion_matrix(y_test, y_pred)"
   ]
  },
  {
   "cell_type": "code",
   "execution_count": 21,
   "metadata": {},
   "outputs": [
    {
     "name": "stdout",
     "output_type": "stream",
     "text": [
      "Accuracy of base model is 96.45 %\n"
     ]
    }
   ],
   "source": [
    "print(\"Accuracy of base model is {:.2f} %\".format(accuracy_score(y_test, y_pred)*100))"
   ]
  },
  {
   "cell_type": "code",
   "execution_count": 22,
   "metadata": {},
   "outputs": [
    {
     "data": {
      "image/png": "[encoded data removed]",
      "text/plain": [
       "<Figure size 720x576 with 2 Axes>"
      ]
     },
     "metadata": {
      "needs_background": "light"
     },
     "output_type": "display_data"
    }
   ],
   "source": [
    "### Plot confusion matrix to get a feel for model ability to predict correct label.\n",
    "plot_confusion_matrix(y_test, y_pred, classes=class_names, normalize=True,\n",
    "                      title='Confusion matrix, with normalization', fig_size=(10, 8));"
   ]
  },
  {
   "cell_type": "markdown",
   "metadata": {},
   "source": [
    "**Another try**, let's try out using a Random Forest model."
   ]
  },
  {
   "cell_type": "code",
   "execution_count": 23,
   "metadata": {},
   "outputs": [],
   "source": [
    "clf = RandomForestClassifier(n_estimators=200, max_depth=8, random_state=SEED).fit(X_train, y_train)\n",
    "y_pred = clf.predict(X_test)"
   ]
  },
  {
   "cell_type": "code",
   "execution_count": 24,
   "metadata": {},
   "outputs": [
    {
     "data": {
      "text/plain": [
       "array([[   0,  122],\n",
       "       [   0, 2385]], dtype=int64)"
      ]
     },
     "execution_count": 24,
     "metadata": {},
     "output_type": "execute_result"
    }
   ],
   "source": [
    "confusion_matrix(y_test, y_pred)"
   ]
  },
  {
   "cell_type": "code",
   "execution_count": 25,
   "metadata": {},
   "outputs": [
    {
     "name": "stdout",
     "output_type": "stream",
     "text": [
      "Accuracy of base model is 95.13 %\n"
     ]
    }
   ],
   "source": [
    "print(\"Accuracy of base model is {:.2f} %\".format(accuracy_score(y_test, y_pred)*100))"
   ]
  },
  {
   "cell_type": "code",
   "execution_count": 26,
   "metadata": {
    "scrolled": true
   },
   "outputs": [
    {
     "data": {
      "image/png": "[encoded data removed]",
      "text/plain": [
       "<Figure size 720x576 with 2 Axes>"
      ]
     },
     "metadata": {
      "needs_background": "light"
     },
     "output_type": "display_data"
    }
   ],
   "source": [
    "plot_confusion_matrix(y_test, y_pred, classes=class_names, normalize=True,\n",
    "                      title='Confusion matrix, with normalization', fig_size=(10, 8));"
   ]
  },
  {
   "cell_type": "markdown",
   "metadata": {},
   "source": [
    "## Single Input Examples"
   ]
  },
  {
   "cell_type": "code",
   "execution_count": null,
   "metadata": {},
   "outputs": [],
   "source": [
    "review = \"Best tacos I have ever had, will come back every Tuesday.  Will never go to any other taco shop again.\"\n",
    "\n",
    "### Transform Review\n",
    "review_transformed = tf.transform([review])\n",
    "\n",
    "### Make Prediction\n",
    "pred = clf.predict(review_transformed)\n",
    "\n",
    "### Using the defined `class_names` get the predicted Polarity ( negative/positive )\n",
    "print(\"Review was {}\".format(class_names[pred[0]]))\n"
   ]
  },
  {
   "cell_type": "markdown",
   "metadata": {},
   "source": [
    "## Extra Extra Content : Comparing Multiple Models Side by Side\n",
    "\n",
    "Example found [here](https://towardsdatascience.com/multi-class-text-classification-with-scikit-learn-12f1e60e0a9f).  Interesting final reference."
   ]
  },
  {
   "cell_type": "code",
   "execution_count": 27,
   "metadata": {},
   "outputs": [
    {
     "data": {
      "image/png": "[encoded data removed]",
      "text/plain": [
       "<Figure size 720x576 with 1 Axes>"
      ]
     },
     "metadata": {
      "needs_background": "light"
     },
     "output_type": "display_data"
    }
   ],
   "source": [
    "import seaborn as sns\n",
    "\n",
    "from sklearn.linear_model import LogisticRegression\n",
    "from sklearn.ensemble import RandomForestClassifier\n",
    "from sklearn.svm import LinearSVC\n",
    "from sklearn.model_selection import cross_val_score\n",
    "\n",
    "models = [\n",
    "    RandomForestClassifier(n_estimators=200, max_depth=8, random_state=SEED),\n",
    "    LinearSVC(),\n",
    "    MultinomialNB(),\n",
    "    LogisticRegression(random_state=0, solver='lbfgs'),\n",
    "]\n",
    "CV = 5\n",
    "cv_df = pd.DataFrame(index=range(CV * len(models)))\n",
    "entries = []\n",
    "\n",
    "### Gather all features (X values) and labels (y values) to pass through cross validation\n",
    "features = full_df.drop(target_col, axis=1)\n",
    "labels = df2[target_col].values\n",
    "\n",
    "for model in models:\n",
    "    model_name = model.__class__.__name__\n",
    "    accuracies = cross_val_score(model, features, labels, scoring='accuracy', cv=CV)\n",
    "    for fold_idx, accuracy in enumerate(accuracies):\n",
    "        entries.append((model_name, fold_idx, accuracy))\n",
    "cv_df = pd.DataFrame(entries, columns=['model_name', 'fold_idx', 'accuracy'])\n",
    "\n",
    "fig, ax = plt.subplots(figsize=(10, 8))\n",
    "sns.boxplot(x='model_name', y='accuracy', data=cv_df)\n",
    "sns.stripplot(x='model_name', y='accuracy', data=cv_df, \n",
    "              size=8, jitter=True, edgecolor=\"gray\", linewidth=2)\n",
    "plt.show()"
   ]
  },
  {
   "cell_type": "code",
   "execution_count": null,
   "metadata": {},
   "outputs": [],
   "source": []
  },
  {
   "cell_type": "code",
   "execution_count": null,
   "metadata": {},
   "outputs": [],
   "source": []
  }
 ],
 "metadata": {
  "hide_input": false,
  "kernelspec": {
   "display_name": "Python 3",
   "language": "python",
   "name": "python3"
  },
  "language_info": {
   "codemirror_mode": {
    "name": "ipython",
    "version": 3
   },
   "file_extension": ".py",
   "mimetype": "text/x-python",
   "name": "python",
   "nbconvert_exporter": "python",
   "pygments_lexer": "ipython3",
   "version": "3.7.3"
  },
  "toc": {
   "base_numbering": 1,
   "nav_menu": {},
   "number_sections": true,
   "sideBar": true,
   "skip_h1_title": false,
   "title_cell": "Table of Contents",
   "title_sidebar": "Contents",
   "toc_cell": false,
   "toc_position": {},
   "toc_section_display": true,
   "toc_window_display": false
  }
 },
 "nbformat": 4,
 "nbformat_minor": 2
}
